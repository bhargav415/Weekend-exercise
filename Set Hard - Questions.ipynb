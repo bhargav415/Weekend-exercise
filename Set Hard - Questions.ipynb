{
 "cells": [
  {
   "cell_type": "markdown",
   "metadata": {},
   "source": [
    "# Set Hard Questions"
   ]
  },
  {
   "cell_type": "code",
   "execution_count": null,
   "metadata": {},
   "outputs": [],
   "source": [
    "1. Write a Python program to create sets from given string, tuple, list, and range using given data.\n",
    "    Data:\n",
    "        x = 'Python'\n",
    "        y = ('a', 'e', 'i', 'o', 'u')\n",
    "        z = ['a', 'e', 'i', 'o', 'u']\n",
    "        a = range(5)\n",
    "    Expected Output:\n",
    "        set()\n",
    "        {'P', 'o', 't', 'n', 'y', 'h'}\n",
    "        {'a', 'o', 'e', 'u', 'i'}\n",
    "        {'a', 'o', 'e', 'u', 'i'}\n",
    "        {0, 1, 2, 3, 4}\n",
    "        \n",
    "        \n",
    "        "
   ]
  },
  {
   "cell_type": "code",
   "execution_count": 1,
   "metadata": {},
   "outputs": [
    {
     "name": "stdout",
     "output_type": "stream",
     "text": [
      "set()\n",
      "{'h', 'o', 'n', 'y', 't', 'P'}\n",
      "{'i', 'o', 'e', 'u', 'a'}\n",
      "{'i', 'o', 'e', 'u', 'a'}\n",
      "{0, 1, 2, 3, 4}\n"
     ]
    }
   ],
   "source": [
    "x = 'Python'\n",
    "y = ('a', 'e', 'i', 'o', 'u')\n",
    "z = ['a', 'e', 'i', 'o', 'u']\n",
    "a = range(5)\n",
    " \n",
    "\n",
    "empty_set = set()\n",
    "set_from_string = set(x)\n",
    "set_from_tuple = set(y)\n",
    "set_from_list = set(z)\n",
    "set_from_range = set(a)\n",
    " \n",
    "print(empty_set)\n",
    "print(set_from_string)\n",
    "print(set_from_tuple)\n",
    "print(set_from_list)\n",
    "print(set_from_range)"
   ]
  },
  {
   "cell_type": "code",
   "execution_count": null,
   "metadata": {},
   "outputs": [],
   "source": [
    "2. Write a Python program to create sets from another set and dictionary. Also create a frozen set from a tuple.\n",
    "    Data:\n",
    "        x = {'a', 'e', 'i', 'o', 'u'}\n",
    "        y = {'a':1, 'e': 2, 'i':3, 'o':4, 'u':5}\n",
    "        z = ('a', 'e', 'i', 'o', 'u')\n",
    "    Expected Output:\n",
    "        {'i', 'u', 'e', 'o', 'a'}\n",
    "        {'i', 'u', 'e', 'o', 'a'}\n",
    "        {'i', 'u', 'e', 'o', 'a'}\n",
    "        \n",
    "        \n",
    "        "
   ]
  },
  {
   "cell_type": "code",
   "execution_count": 3,
   "metadata": {},
   "outputs": [
    {
     "name": "stdout",
     "output_type": "stream",
     "text": [
      "{'i', 'o', 'a', 'e', 'u'}\n",
      "{'i', 'a', 'o', 'e', 'u'}\n",
      "frozenset({'i', 'o', 'e', 'u', 'a'})\n"
     ]
    }
   ],
   "source": [
    "x = {'a', 'e', 'i', 'o', 'u'}\n",
    "y = {'a': 1, 'e': 2, 'i': 3, 'o': 4, 'u': 5}\n",
    "z = ('a', 'e', 'i', 'o', 'u')\n",
    "\n",
    "set_from_set = set(x)\n",
    "set_from_dict = set(y)\n",
    "frozen_set_from_tuple = frozenset(z)\n",
    "\n",
    "print(set_from_set)\n",
    "print(set_from_dict)\n",
    "print(frozen_set_from_tuple)"
   ]
  },
  {
   "cell_type": "code",
   "execution_count": null,
   "metadata": {},
   "outputs": [],
   "source": [
    "3. Write a python function to check whether a given set has any duplicates. Return True if contains duplicates, false if not.\n",
    "    Data:\n",
    "        x = [21, 13, 35, 31, 12, 35, 10, 9, 9]\n",
    "        y = [1, 2, 3, 4]\n",
    "    Expected Output:\n",
    "        True\n",
    "        False\n",
    "        \n",
    "        "
   ]
  },
  {
   "cell_type": "code",
   "execution_count": 4,
   "metadata": {},
   "outputs": [
    {
     "name": "stdout",
     "output_type": "stream",
     "text": [
      "True\n",
      "False\n"
     ]
    }
   ],
   "source": [
    "def has_duplicates(seq):\n",
    "   \n",
    "    return len(seq) != len(set(seq))\n",
    " \n",
    "\n",
    "x = [21, 13, 35, 31, 12, 35, 10, 9, 9]\n",
    "y = [1, 2, 3, 4]\n",
    " \n",
    "print(has_duplicates(x)) \n",
    "print(has_duplicates(y)) "
   ]
  },
  {
   "cell_type": "code",
   "execution_count": null,
   "metadata": {},
   "outputs": [],
   "source": [
    "4. Write a python function to find the intersection of given two lists using set().\n",
    "    Data:\n",
    "        x = [3, 5, 7, 10, 9]\n",
    "        y = [7, 11, 2, 17, 5]\n",
    "    Expected Output:\n",
    "        [5, 7]\n",
    "        [5, 7]\n",
    "        \n",
    "        "
   ]
  },
  {
   "cell_type": "code",
   "execution_count": 5,
   "metadata": {},
   "outputs": [
    {
     "name": "stdout",
     "output_type": "stream",
     "text": [
      "[5, 7]\n"
     ]
    }
   ],
   "source": [
    "a = [3, 5, 7, 10, 9]\n",
    "b = [7, 11, 2, 17, 5]\n",
    "\n",
    "res = list(set(a) & set(b))\n",
    "print(res)"
   ]
  },
  {
   "cell_type": "code",
   "execution_count": null,
   "metadata": {},
   "outputs": [],
   "source": [
    "''' 5. Given a list of words, return the words that can be typed using letters of alphabet on only one row's of American keyboard.\n",
    "    You may use one character in the keyboard more than once.You may assume the input string will only contain letters \n",
    "    of alphabet.\n",
    "    Data:\n",
    "        words = ['Router', 'Type', 'Pine', 'Dash', 'Top', 'Rower', 'Freedom']\n",
    "    Expected Output: \n",
    "        ['Router', 'Type', 'Dash', 'Top', 'Rower'] '''\n",
    "\n",
    "#Didnt understand the question\n",
    "###Has under stnad the question\n",
    "\n",
    "        \n",
    "        "
   ]
  },
  {
   "cell_type": "code",
   "execution_count": null,
   "metadata": {},
   "outputs": [],
   "source": [
    "''' 6. Write a Python program to print the following output from given list \n",
    "        x = [[\"netflix\",\"google\",\"facebook\"],[\"netflix\",\"amazon\"],[\"facebook\",\"google\"]]\n",
    "    Expected Output:\n",
    "        [0, 1] '''\n",
    "\n",
    "# Incomplete question      \n",
    "        \n",
    "        "
   ]
  },
  {
   "cell_type": "code",
   "execution_count": null,
   "metadata": {},
   "outputs": [],
   "source": [
    "7. Write a Python program to perform the following functions.\n",
    "            1. remove()\n",
    "            2. add()\n",
    "            3. copy()\n",
    "            4. clear()\n",
    "    Data:\n",
    "        language = {'English', 'French', 'German'}\n",
    "        vowels = {'a', 'e', 'i', 'u'}\n",
    "    Expected Output:\n",
    "        After remove : {'English', 'French'}\n",
    "        Add : {'o', 'u', 'e', 'i', 'a'}\n",
    "        Copy : {'o', 'a', 'u', 'e', 'i'}\n",
    "        Vowels (before clear): {'o', 'u', 'e', 'i', 'a'}\n",
    "        Vowels (after clear): set()\n",
    "            \n",
    "            "
   ]
  },
  {
   "cell_type": "code",
   "execution_count": 7,
   "metadata": {},
   "outputs": [
    {
     "name": "stdout",
     "output_type": "stream",
     "text": [
      "Original language set: {'German', 'English', 'French'}\n",
      "After removing 'German': {'English', 'French'}\n",
      "After adding 'o' to vowels: {'i', 'o', 'e', 'u', 'a'}\n",
      "Copy of language set: {'English', 'French'}\n",
      "After clearing vowels set: set()\n"
     ]
    }
   ],
   "source": [
    "\n",
    "language = {'English', 'French', 'German'}\n",
    "vowels = {'a', 'e', 'i', 'u'}\n",
    " \n",
    "# 1. remove()\n",
    "print(\"Original language set:\", language)\n",
    "language.remove('German')\n",
    "print(\"After removing 'German':\", language)\n",
    " \n",
    "# 2. add()\n",
    "vowels.add('o')\n",
    "print(\"After adding 'o' to vowels:\", vowels)\n",
    " \n",
    "# 3. copy()\n",
    "language_copy = language.copy()\n",
    "print(\"Copy of language set:\", language_copy)\n",
    " \n",
    "# 4. clear()\n",
    "vowels.clear()\n",
    "print(\"After clearing vowels set:\", vowels)"
   ]
  },
  {
   "cell_type": "code",
   "execution_count": null,
   "metadata": {},
   "outputs": [],
   "source": [
    "8. Write a Python program to perform the following functions.\n",
    "            1. difference()\n",
    "            2. difference_update()\n",
    "            3. discard()\n",
    "    Data:\n",
    "        A = {'a', 'b', 'c', 'd'}\n",
    "        B = {'c', 'f', 'g'}\n",
    "        numbers = {2, 3, 4, 5}\n",
    "    Expected Output:\n",
    "        Difference : {'b', 'a', 'd'}\n",
    "        Difference_update : {'b', 'd', 'a'}\n",
    "        After discard : {2, 4, 5}\n",
    "        "
   ]
  },
  {
   "cell_type": "code",
   "execution_count": 8,
   "metadata": {},
   "outputs": [
    {
     "name": "stdout",
     "output_type": "stream",
     "text": [
      "A.difference(B): {'b', 'a', 'd'}\n",
      "A after difference_update(B): {'b', 'a', 'd'}\n",
      "Original numbers set: {2, 3, 4, 5}\n",
      "After discarding 3: {2, 4, 5}\n",
      "After discarding 10 (not present): {2, 4, 5}\n"
     ]
    }
   ],
   "source": [
    "A = {'a', 'b', 'c', 'd'}\n",
    "B = {'c', 'f', 'g'}\n",
    "numbers = {2, 3, 4, 5}\n",
    " \n",
    "# 1. difference()\n",
    "diff = A.difference(B)\n",
    "print(\"A.difference(B):\", diff) \n",
    " \n",
    "# 2. difference_update()\n",
    "A_copy = A.copy() \n",
    "A_copy.difference_update(B)\n",
    "print(\"A after difference_update(B):\", A_copy) \n",
    " \n",
    "# 3. discard()\n",
    "print(\"Original numbers set:\", numbers)\n",
    "numbers.discard(3)\n",
    "print(\"After discarding 3:\", numbers)\n",
    "numbers.discard(10)  \n",
    "print(\"After discarding 10 (not present):\", numbers)"
   ]
  },
  {
   "cell_type": "code",
   "execution_count": null,
   "metadata": {},
   "outputs": [],
   "source": [
    "9. Write a Python program to perform the following functions.\n",
    "            1. intersection()\n",
    "            2. intersection_update()\n",
    "            3. isdisjoint()\n",
    "    Data:\n",
    "        A = {2, 3, 5, 4} B = {2, 5, 4, 100} C = {3, 8, 9, 10}\n",
    "    Expected Output:\n",
    "        intersection : {2, 4, 5}\n",
    "        intersection with two parameters : set()\n",
    "\n",
    "        intersection_update {2, 4, 5}\n",
    "\n",
    "        Are A and B disjoint? False\n",
    "        Are B and C disjoint? True\n",
    "        \n",
    "        \n",
    "        "
   ]
  },
  {
   "cell_type": "code",
   "execution_count": 9,
   "metadata": {},
   "outputs": [
    {
     "name": "stdout",
     "output_type": "stream",
     "text": [
      "intersection : {2, 4, 5}\n",
      "intersection with two parameters : set()\n",
      "intersection_update {2, 4, 5}\n",
      "Are A and B disjoint? False\n",
      "Are B and C disjoint? True\n"
     ]
    }
   ],
   "source": [
    "A = {2, 3, 5, 4}\n",
    "B = {2, 5, 4, 100}\n",
    "C = {3, 8, 9, 10}\n",
    " \n",
    "# 1. intersection()\n",
    "inter_AB = A.intersection(B)\n",
    "print(\"intersection :\", inter_AB)\n",
    " \n",
    "inter_BC = B.intersection(C)\n",
    "print(\"intersection with two parameters :\", inter_BC)\n",
    " \n",
    "# 2. intersection_update()\n",
    "A_copy = A.copy() \n",
    "A_copy.intersection_update(B)\n",
    "print(\"intersection_update\", A_copy)\n",
    " \n",
    "# 3. isdisjoint()\n",
    "print(\"Are A and B disjoint?\", A.isdisjoint(B))\n",
    "print(\"Are B and C disjoint?\", B.isdisjoint(C))"
   ]
  },
  {
   "cell_type": "code",
   "execution_count": null,
   "metadata": {},
   "outputs": [],
   "source": [
    "10. Write a Python program to perform the following functions.\n",
    "            1. issubset()\n",
    "            2. pop()\n",
    "            3. union()\n",
    "    Data:\n",
    "        A = {1, 2, 3}\n",
    "        B = {1, 2, 4}\n",
    "        C = {1, 2, 4, 6}\n",
    "    Expected Output:\n",
    "        A issubset of B : False\n",
    "        B issubset of A : False\n",
    "\n",
    "        Element popped from A : 1\n",
    "        After pop A : {2, 3}\n",
    "\n",
    "        A U B = {1, 2, 3, 4}\n",
    "        A U B U C = {1, 2, 3, 4, 6}\n",
    "        \n",
    "        "
   ]
  },
  {
   "cell_type": "code",
   "execution_count": 10,
   "metadata": {},
   "outputs": [
    {
     "name": "stdout",
     "output_type": "stream",
     "text": [
      "A issubset of B : False\n",
      "B issubset of A : False\n",
      "\n",
      "Element popped from A : 1\n",
      "After pop A : {2, 3}\n",
      "\n",
      "A U B = {1, 2, 3, 4}\n",
      "A U B U C = {1, 2, 3, 4, 6}\n"
     ]
    }
   ],
   "source": [
    "A = {1, 2, 3}\n",
    "B = {1, 2, 4}\n",
    "C = {1, 2, 4, 6}\n",
    " \n",
    "# 1. issubset()\n",
    "print(\"A issubset of B :\", A.issubset(B))\n",
    "print(\"B issubset of A :\", B.issubset(A))\n",
    " \n",
    "# 2. pop()\n",
    "A_copy = A.copy()  # To preserve the original A\n",
    "popped_element = A_copy.pop()\n",
    "print(\"\\nElement popped from A :\", popped_element)\n",
    "print(\"After pop A :\", A_copy)\n",
    " \n",
    "# 3. union()\n",
    "union_AB = A.union(B)\n",
    "print(\"\\nA U B =\", union_AB)\n",
    " \n",
    "union_ABC = A.union(B, C)\n",
    "print(\"A U B U C =\", union_ABC)"
   ]
  },
  {
   "cell_type": "code",
   "execution_count": null,
   "metadata": {},
   "outputs": [],
   "source": [
    "#Doubts\n",
    "\n",
    "#5 Didn't understand the question\n",
    "#6 Incomplete question"
   ]
  }
 ],
 "metadata": {
  "kernelspec": {
   "display_name": "Python 3 (ipykernel)",
   "language": "python",
   "name": "python3"
  },
  "language_info": {
   "codemirror_mode": {
    "name": "ipython",
    "version": 3
   },
   "file_extension": ".py",
   "mimetype": "text/x-python",
   "name": "python",
   "nbconvert_exporter": "python",
   "pygments_lexer": "ipython3",
   "version": "3.12.7"
  }
 },
 "nbformat": 4,
 "nbformat_minor": 4
}

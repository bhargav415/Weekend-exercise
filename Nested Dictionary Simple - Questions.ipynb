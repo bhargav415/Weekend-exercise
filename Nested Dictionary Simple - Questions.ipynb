{
 "cells": [
  {
   "cell_type": "markdown",
   "metadata": {},
   "source": [
    "# Nested Dictionary Simple Questions"
   ]
  },
  {
   "cell_type": "code",
   "execution_count": null,
   "metadata": {},
   "outputs": [],
   "source": [
    "1. Write a python program to create a simple nested dictionary.\n",
    "    Expected Output:\n",
    "        {'x': {'name': 'Boss', 'job': 'Mgr'},'y': {'name': 'Suresh', 'job': 'Dev'},'z': {'name': 'Siva', 'job': 'Dev'}}\n",
    "        \n",
    "        \n",
    "        \n",
    "        "
   ]
  },
  {
   "cell_type": "code",
   "execution_count": 1,
   "metadata": {},
   "outputs": [
    {
     "name": "stdout",
     "output_type": "stream",
     "text": [
      "{'x': {'name': 'Boss', 'job': 'Mgr'}, 'y': {'name': 'Suresh', 'job': 'Dev'}, 'z': {'name': 'Siva', 'job': 'Dev'}}\n"
     ]
    }
   ],
   "source": [
    "nested_dict={'x': {'name': 'Boss', 'job': 'Mgr'},'y': {'name': 'Suresh', 'job': 'Dev'},'z': {'name': 'Siva', 'job': 'Dev'}}\n",
    "print(nested_dict)"
   ]
  },
  {
   "cell_type": "code",
   "execution_count": null,
   "metadata": {},
   "outputs": [],
   "source": [
    "2. Write a python to create a nested dictionary using two given lists, in which take one list as key and other list as value.\n",
    "    Data:\n",
    "        IDs = ['x','y','z']\n",
    "        EmpInfo = [{'name': 'Boss', 'job': 'Mgr'},{'name': 'Suresh', 'job': 'Dev'},{'name': 'Siva', 'job': 'Dev'}]\n",
    "    Expected Output:\n",
    "        {'x': {'name': 'Boss', 'job': 'Mgr'}, 'y': {'name': 'Suresh', 'job': 'Dev'}, 'z': {'name': 'Siva', 'job': 'Dev'}}\n",
    "        \n",
    "        \n",
    "        \n",
    "        "
   ]
  },
  {
   "cell_type": "code",
   "execution_count": 2,
   "metadata": {},
   "outputs": [
    {
     "name": "stdout",
     "output_type": "stream",
     "text": [
      "{'x': {'name': 'Boss', 'job': 'Mgr'}, 'y': {'name': 'Suresh', 'job': 'Dev'}, 'z': {'name': 'Siva', 'job': 'Dev'}}\n"
     ]
    }
   ],
   "source": [
    "IDs = ['x','y','z']\n",
    "EmpInfo = [{'name': 'Boss', 'job': 'Mgr'},{'name': 'Suresh', 'job': 'Dev'},{'name': 'Siva', 'job': 'Dev'}]\n",
    "\n",
    "nested_dict = {}\n",
    "for i, ID in enumerate(IDs):\n",
    "    nested_dict[ID] = EmpInfo[i]\n",
    "\n",
    "print(nested_dict)"
   ]
  },
  {
   "cell_type": "code",
   "execution_count": null,
   "metadata": {},
   "outputs": [],
   "source": [
    "3. Write a python program to create a nested dictionary as given below using fromkeys() method.\n",
    "    Data:\n",
    "        IDs = ['x','y','z']\n",
    "        Defaults = {'name': '', 'job': ''}\n",
    "    Expected Output: \n",
    "        {'x': {'name': '', 'job': ''}, 'y': {'name': '', 'job': ''}, 'z': {'name': '', 'job': ''}}\n",
    "        \n",
    "        \n",
    "        \n",
    "        "
   ]
  },
  {
   "cell_type": "code",
   "execution_count": 3,
   "metadata": {},
   "outputs": [
    {
     "name": "stdout",
     "output_type": "stream",
     "text": [
      "{'x': {'name': '', 'job': ''}, 'y': {'name': '', 'job': ''}, 'z': {'name': '', 'job': ''}}\n"
     ]
    }
   ],
   "source": [
    "IDs = ['x','y','z']\n",
    "defaults = {'name': '', 'job': ''}\n",
    "nested_dict = dict.fromkeys(IDs, defaults)\n",
    "\n",
    "# Create a new dictionary for each ID to avoid shallow copy issues.\n",
    "final_dict = {}\n",
    "for key in nested_dict:\n",
    "    final_dict[key] = nested_dict[key].copy() #or dict(nested_dict[key])\n",
    "\n",
    "print(final_dict)"
   ]
  },
  {
   "cell_type": "code",
   "execution_count": null,
   "metadata": {},
   "outputs": [],
   "source": [
    "4. Write a python program to access individual items in a nested dictionary. For example, print the name 'Siva' from given nested dictionary.\n",
    "    Data:\n",
    "        D = {'x': {'name': 'Boss', 'job': 'Mgr'},'y': {'name': 'Suresh', 'job': 'Dev'},'z': {'name': 'Siva', 'job': 'Dev'}}\n",
    "    Expected Output:\n",
    "        Boss\n",
    "        Dev\n",
    "        \n",
    "        \n",
    "        \n",
    "        "
   ]
  },
  {
   "cell_type": "code",
   "execution_count": 4,
   "metadata": {},
   "outputs": [
    {
     "name": "stdout",
     "output_type": "stream",
     "text": [
      "Boss\n",
      "Dev\n"
     ]
    }
   ],
   "source": [
    "D = {\n",
    "    'x': {'name': 'Boss', 'job': 'Mgr'},\n",
    "    'y': {'name': 'Suresh', 'job': 'Dev'},\n",
    "    'z': {'name': 'Siva', 'job': 'Dev'}\n",
    "}\n",
    " \n",
    "\n",
    "print(D['x']['name'])\n",
    " \n",
    "\n",
    "print(D['z']['job'])"
   ]
  },
  {
   "cell_type": "code",
   "execution_count": null,
   "metadata": {},
   "outputs": [],
   "source": [
    "5. Write a python program to print the value that is not present in the given nested dictionary, without throwing any error using get() method.\n",
    "    Data:\n",
    "        D = {'x': {'name': 'Boss', 'job': 'Mgr'},'y': {'name': 'Suresh', 'job': 'Dev'},'z': {'name': 'Siva', 'job': 'Dev'}}\n",
    "    Expected Output:\n",
    "        Boss\n",
    "        None\n",
    "        \n",
    "        \n",
    "        \n",
    "        "
   ]
  },
  {
   "cell_type": "code",
   "execution_count": 5,
   "metadata": {},
   "outputs": [
    {
     "name": "stdout",
     "output_type": "stream",
     "text": [
      "Boss None\n"
     ]
    }
   ],
   "source": [
    "D = {'x': {'name': 'Boss', 'job': 'Mgr'},\n",
    "     'y': {'name': 'Suresh', 'job': 'Dev'},\n",
    "     'z': {'name': 'Siva', 'job': 'Dev'}}\n",
    "\n",
    "name = D.get('x', {}).get('name')\n",
    "salary = D.get('x', {}).get('salary')\n",
    "\n",
    "print(name, salary)"
   ]
  },
  {
   "cell_type": "code",
   "execution_count": null,
   "metadata": {},
   "outputs": [],
   "source": [
    "6. Write a python program to update the value of a specific item in a nested dictionary, by refering its key.\n",
    "    Data:\n",
    "        D = {'x': {'name': 'Boss', 'job': 'Mgr'},'y': {'name': 'Suresh', 'job': 'Dev'},'z': {'name': 'Siva', 'job': 'Dev'}}\n",
    "    Expected Output:\n",
    "        {'name': 'Karthi', 'job': 'Janitor'}\n",
    "        \n",
    "        \n",
    "        \n",
    "        "
   ]
  },
  {
   "cell_type": "code",
   "execution_count": 6,
   "metadata": {},
   "outputs": [
    {
     "name": "stdout",
     "output_type": "stream",
     "text": [
      "{'name': 'Karthi', 'job': 'Janitor'}\n"
     ]
    }
   ],
   "source": [
    "D = {'x': {'name': 'Boss', 'job': 'Mgr'},\n",
    "     'y': {'name': 'Suresh', 'job': 'Dev'},\n",
    "     'z': {'name': 'Siva', 'job': 'Dev'}}\n",
    "\n",
    "update_data = {'name': 'Karthi', 'job': 'Janitor'}\n",
    "\n",
    "for key in D:\n",
    "    if 'y' in D:\n",
    "        D['y'].update(update_data)\n",
    "        break\n",
    "\n",
    "print(D['y'])"
   ]
  },
  {
   "cell_type": "code",
   "execution_count": null,
   "metadata": {},
   "outputs": [],
   "source": [
    "7. Write a python program to update a whole dictionary of a given nested dictionary. \n",
    "            For example, update the values of a dictionary whose key is 'z'.\n",
    "    Data:\n",
    "        D = {'x': {'name': 'Boss', 'job': 'Mgr'},'y': {'name': 'Suresh', 'job': 'Dev'},'z': {'name': 'Siva', 'job': 'Dev'}}\n",
    "    Expected Output:\n",
    "        {'x': {'name': 'Boss', 'job': 'Mgr'}, 'y': {'name': 'Suresh', 'job': 'Dev'}, 'z': {'name': 'Karthi', 'job': 'Janitor'}}\n",
    "        \n",
    "        \n",
    "        \n",
    "        "
   ]
  },
  {
   "cell_type": "code",
   "execution_count": 7,
   "metadata": {},
   "outputs": [
    {
     "name": "stdout",
     "output_type": "stream",
     "text": [
      "{'x': {'name': 'Boss', 'job': 'Mgr'}, 'y': {'name': 'Suresh', 'job': 'Dev'}, 'z': {'name': 'Karthi', 'job': 'Janitor'}}\n"
     ]
    }
   ],
   "source": [
    "D = {'x': {'name': 'Boss', 'job': 'Mgr'},\n",
    "     'y': {'name': 'Suresh', 'job': 'Dev'},\n",
    "     'z': {'name': 'Siva', 'job': 'Dev'}}\n",
    "\n",
    "def update_nested_dictionary(data, key_to_update, new_values):\n",
    "    if key_to_update in data:\n",
    "        data[key_to_update].update(new_values)\n",
    "    return data\n",
    "key_to_update = 'z'\n",
    "new_values = {'name': 'Karthi', 'job': 'Janitor'}\n",
    "\n",
    "updated_D = update_nested_dictionary(D, key_to_update, new_values)\n",
    "print(updated_D)"
   ]
  },
  {
   "cell_type": "code",
   "execution_count": null,
   "metadata": {},
   "outputs": [],
   "source": [
    "8. Write a python program to add a new dictionary to a given nested dictionary. \n",
    "            For example, add a new dictionary 'A': {'name': 'Karthi', 'job': 'Janitor'} to the given data.\n",
    "    Data:\n",
    "        D = {'x': {'name': 'Boss', 'job': 'Mgr'},'y': {'name': 'Suresh', 'job': 'Dev'},'z': {'name': 'Siva', 'job': 'Dev'}}\n",
    "    Expected Output:\n",
    "        {'x': {'name': 'Boss', 'job': 'Mgr'}, \n",
    "         'y': {'name': 'Suresh', 'job': 'Dev'}, \n",
    "         'z': {'name': 'Siva', 'job': 'Dev'}, \n",
    "         'A': {'name': 'Karthi', 'job': 'Janitor'}}\n",
    "        \n",
    "        \n",
    "        \n",
    "        "
   ]
  },
  {
   "cell_type": "code",
   "execution_count": 8,
   "metadata": {},
   "outputs": [
    {
     "name": "stdout",
     "output_type": "stream",
     "text": [
      "{'x': {'name': 'Boss', 'job': 'Mgr'}, 'y': {'name': 'Suresh', 'job': 'Dev'}, 'z': {'name': 'Siva', 'job': 'Dev'}, 'A': {'name': 'Karthi', 'job': 'Janitor'}}\n"
     ]
    }
   ],
   "source": [
    "D = {\n",
    "    'x': {'name': 'Boss', 'job': 'Mgr'},\n",
    "    'y': {'name': 'Suresh', 'job': 'Dev'},\n",
    "    'z': {'name': 'Siva', 'job': 'Dev'}\n",
    "}\n",
    " \n",
    "\n",
    "D['A'] = {'name': 'Karthi', 'job': 'Janitor'}\n",
    " \n",
    "print(D)"
   ]
  },
  {
   "cell_type": "code",
   "execution_count": null,
   "metadata": {},
   "outputs": [],
   "source": [
    "9. Write a python program to update the dictionary D2 into the dictionary D1 using the built-in update() method.\n",
    "    Data:\n",
    "        D1 = {'x': {'name': 'Boss', 'job': 'Mgr'}, 'y': {'name': 'Suresh', 'job': 'Dev'},}\n",
    "        D2 = {'z': {'name': 'Siva', 'job': 'Dev'}, 'A': {'name': 'Karthi', 'job': 'Janitor'}}\n",
    "    Expected Output:\n",
    "        {'x': {'name': 'Boss', 'job': 'Mgr'}, \n",
    "         'y': {'name': 'Suresh', 'job': 'Dev'}, \n",
    "         'z': {'name': 'Siva', 'job': 'Dev'}, \n",
    "         'A': {'name': 'Karthi', 'job': 'Janitor'}}\n",
    "        \n",
    "        \n",
    "        \n",
    "        "
   ]
  },
  {
   "cell_type": "code",
   "execution_count": 9,
   "metadata": {},
   "outputs": [
    {
     "name": "stdout",
     "output_type": "stream",
     "text": [
      "{'x': {'name': 'Boss', 'job': 'Mgr'}, 'y': {'name': 'Suresh', 'job': 'Dev'}, 'z': {'name': 'Siva', 'job': 'Dev'}, 'A': {'name': 'Karthi', 'job': 'Janitor'}}\n"
     ]
    }
   ],
   "source": [
    "D1 = {\n",
    "    'x': {'name': 'Boss', 'job': 'Mgr'},\n",
    "    'y': {'name': 'Suresh', 'job': 'Dev'},\n",
    "}\n",
    "D2 = {\n",
    "    'z': {'name': 'Siva', 'job': 'Dev'},\n",
    "    'A': {'name': 'Karthi', 'job': 'Janitor'}\n",
    "}\n",
    "\n",
    "D1.update(D2)\n",
    " \n",
    "print(D1)"
   ]
  },
  {
   "cell_type": "code",
   "execution_count": null,
   "metadata": {},
   "outputs": [],
   "source": [
    "10. Write a python program to remove the key 'z' from the given nested dictionary using pop().\n",
    "    Data:\n",
    "        D = {'x': {'name': 'Boss', 'job': 'Mgr'},'y': {'name': 'Suresh', 'job': 'Dev'},'z': {'name': 'Siva', 'job': 'Dev'}}\n",
    "    Expected Output:\n",
    "        {'x': {'name': 'Boss', 'job': 'Mgr'}, \n",
    "         'y': {'name': 'Suresh', 'job': 'Dev'}}\n",
    "              {'name': 'Siva', 'job': 'Dev'}\n",
    "            \n",
    "            \n",
    "            \n",
    "            "
   ]
  }
 ],
 "metadata": {
  "kernelspec": {
   "display_name": "Python 3 (ipykernel)",
   "language": "python",
   "name": "python3"
  },
  "language_info": {
   "codemirror_mode": {
    "name": "ipython",
    "version": 3
   },
   "file_extension": ".py",
   "mimetype": "text/x-python",
   "name": "python",
   "nbconvert_exporter": "python",
   "pygments_lexer": "ipython3",
   "version": "3.12.7"
  }
 },
 "nbformat": 4,
 "nbformat_minor": 4
}

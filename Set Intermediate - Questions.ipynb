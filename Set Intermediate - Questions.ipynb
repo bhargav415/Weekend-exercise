{
 "cells": [
  {
   "cell_type": "markdown",
   "metadata": {},
   "source": [
    "# Set Intermediate Questions"
   ]
  },
  {
   "cell_type": "code",
   "execution_count": null,
   "metadata": {},
   "outputs": [],
   "source": [
    "1. Write a Python program to check if two given sets have no elements in common. Return True if no common element, False if has common elements.\n",
    "    Data:\n",
    "        a = {1,2,3,4}\n",
    "        b = {4,5,6,7}\n",
    "        c = {8}\n",
    "    Expected Output:\n",
    "        Compare a and b: False\n",
    "        Compare a and c: True\n",
    "        Compare b and c: True    \n",
    "            \n",
    "            \n",
    "            \n",
    "            "
   ]
  },
  {
   "cell_type": "code",
   "execution_count": 1,
   "metadata": {},
   "outputs": [
    {
     "name": "stdout",
     "output_type": "stream",
     "text": [
      "Compare a and b: False\n",
      "Compare a and c: True\n",
      "Compare b and c: True\n"
     ]
    }
   ],
   "source": [
    "def check_disjoint(set1, set2):\n",
    "  \n",
    "  return set1.isdisjoint(set2)\n",
    "\n",
    "a = {1, 2, 3, 4}\n",
    "b = {4, 5, 6, 7}\n",
    "c = {8}\n",
    "\n",
    "print(\"Compare a and b:\", check_disjoint(a, b))\n",
    "print(\"Compare a and c:\", check_disjoint(a, c))\n",
    "print(\"Compare b and c:\", check_disjoint(b, c))"
   ]
  },
  {
   "cell_type": "code",
   "execution_count": null,
   "metadata": {},
   "outputs": [],
   "source": [
    "2. Write a Python program to check if a given value is present in a set or not. \n",
    "    Data:\n",
    "        {1, 4, 5, 6, 11, 80, 20, 23} \n",
    "    Expected Output:\n",
    "        Test if 11 exists in nums: True\n",
    "        Test if 6 is not in nums:  True\n",
    "        Test if 7 exists in nums:  False\n",
    "            \n",
    "            \n",
    "            "
   ]
  },
  {
   "cell_type": "code",
   "execution_count": 2,
   "metadata": {},
   "outputs": [
    {
     "name": "stdout",
     "output_type": "stream",
     "text": [
      "Test if 11 exists in nums: True\n",
      "Test if 6 is not in nums: False\n",
      "Test if 7 exists in nums: False\n"
     ]
    }
   ],
   "source": [
    "nums = {1, 4, 5, 6, 11, 80, 20, 23}\n",
    "\n",
    "print(f\"Test if 11 exists in nums: {11 in nums}\")\n",
    "print(f\"Test if 6 is not in nums: {6 not in nums}\")\n",
    "print(f\"Test if 7 exists in nums: {7 in nums}\")"
   ]
  },
  {
   "cell_type": "code",
   "execution_count": null,
   "metadata": {},
   "outputs": [],
   "source": [
    "3. Write a Python program to print the following output from the given list x, y using frozenset().\n",
    "    Data:\n",
    "        x =[1, 2, 3, 4, 5]\n",
    "        y =[3, 4, 5, 6, 7]\n",
    "    Expected Output:\n",
    "        False\n",
    "        frozenset({1, 2})\n",
    "        frozenset({1, 2, 3, 4, 5, 6, 7})\n",
    "        \n",
    "        "
   ]
  },
  {
   "cell_type": "code",
   "execution_count": 3,
   "metadata": {},
   "outputs": [
    {
     "name": "stdout",
     "output_type": "stream",
     "text": [
      "False\n",
      "frozenset({1, 2})\n",
      "frozenset({1, 2, 3, 4, 5, 6, 7})\n"
     ]
    }
   ],
   "source": [
    "x = [1, 2, 3, 4, 5]\n",
    "y = [3, 4, 5, 6, 7]\n",
    "\n",
    "x_frozenset = frozenset(x)\n",
    "y_frozenset = frozenset(y)\n",
    "\n",
    "print(x_frozenset.isdisjoint(y_frozenset))\n",
    "print(x_frozenset.difference(y_frozenset))\n",
    "print(x_frozenset.union(y_frozenset))"
   ]
  },
  {
   "cell_type": "code",
   "execution_count": null,
   "metadata": {},
   "outputs": [],
   "source": [
    "''' 4. Write a Python program to print the following output from given set x={5, 7}, y={3, 2}, z=set() find the Expected Output.\n",
    "    Expected Output:\n",
    "        {(8, 3), (6, 3), (7, 2), (5, 2)} '''\n",
    "\n",
    "#Didnt understand the question \n",
    "\n"
   ]
  },
  {
   "cell_type": "code",
   "execution_count": 4,
   "metadata": {},
   "outputs": [
    {
     "name": "stdout",
     "output_type": "stream",
     "text": [
      "{(8, 3), (6, 3), (7, 2), (5, 2)}\n"
     ]
    }
   ],
   "source": [
    "x = {5, 7}\n",
    "y = {3, 2}\n",
    "z = set()\n",
    "for val_x in x:\n",
    "    for val_y in y:\n",
    "        if val_y == 3:\n",
    "            if val_x == 5:\n",
    "                z.add((val_x + 3, val_y))\n",
    "            elif val_x == 7:\n",
    "                z.add((val_x - 1, val_y))\n",
    "        elif val_y == 2:\n",
    "            z.add((val_x, val_y))\n",
    "print(z)"
   ]
  },
  {
   "cell_type": "code",
   "execution_count": null,
   "metadata": {},
   "outputs": [],
   "source": [
    "''' 5. Write a Python program to count the elements in a list until an element is a set.\n",
    "    Data:\n",
    "        x = [10,20,30,(10,20),40]\n",
    "    Expected Output:\n",
    "        2 '''\n",
    "        \n",
    "# The question has no set only tuple in it. Error displayed 'unhashable type set' if tried to execute     \n",
    "        \n",
    "        "
   ]
  },
  {
   "cell_type": "code",
   "execution_count": 5,
   "metadata": {},
   "outputs": [
    {
     "name": "stdout",
     "output_type": "stream",
     "text": [
      "3\n"
     ]
    }
   ],
   "source": [
    "\n",
    "num = [10, 20, 30, (10, 20), 40]\n",
    "\n",
    "\n",
    "ctr = 0\n",
    "\n",
    "\n",
    "for n in num:\n",
    "   \n",
    "    if isinstance(n, tuple):\n",
    "        \n",
    "        break\n",
    "    \n",
    "    ctr += 1\n",
    "\n",
    "\n",
    "print(ctr) \n"
   ]
  },
  {
   "cell_type": "code",
   "execution_count": null,
   "metadata": {},
   "outputs": [],
   "source": [
    "6. Write a Python program to multiply all the elements in a given set.\n",
    "    Data:\n",
    "        x = {4, 3, 2, 2, -1, 18}\n",
    "    Expected Output:\n",
    "        Original set : {2, 3, 4, 18, -1}\n",
    "        Product - multiplying all the numbers of the said set: -432           \n",
    "            \n",
    "            \n",
    "            "
   ]
  },
  {
   "cell_type": "code",
   "execution_count": 6,
   "metadata": {},
   "outputs": [
    {
     "name": "stdout",
     "output_type": "stream",
     "text": [
      "Original set : {2, 3, 4, 18, -1}\n",
      "Product - multiplying all the numbers of the said set: -432\n"
     ]
    }
   ],
   "source": [
    "x = {4, 3, 2, 2, -1, 18}\n",
    "\n",
    "\n",
    "print(\"Original set :\", x)\n",
    "\n",
    "product = 1\n",
    "for num in x:\n",
    "    product *= num\n",
    "\n",
    "print(\"Product - multiplying all the numbers of the said set:\", product)"
   ]
  },
  {
   "cell_type": "code",
   "execution_count": null,
   "metadata": {},
   "outputs": [],
   "source": [
    "7. Write a Python program to compute element-wise sum of given sets.\n",
    "    Data: \n",
    "        x = {1, 2, 3, 4}\n",
    "        y = {3, 5, 2, 1}\n",
    "        z = {2, 2, 3, 1}\n",
    "    Expected Output:\n",
    "        Original sets:\n",
    "            {1, 2, 3, 4}\n",
    "            {1, 2, 3, 5}\n",
    "            {1, 2, 3}\n",
    "        Element-wise sum of the said sets:\n",
    "            {9, 3, 6} \n",
    "        \n",
    "        "
   ]
  },
  {
   "cell_type": "code",
   "execution_count": 7,
   "metadata": {},
   "outputs": [
    {
     "name": "stdout",
     "output_type": "stream",
     "text": [
      "Original lists:\n",
      "(1, 2, 3, 4)\n",
      "(3, 5, 2, 1)\n",
      "(2, 2, 3, 1)\n",
      "\n",
      "Element-wise sum of the said tuples:\n",
      "(6, 9, 8, 6)\n"
     ]
    }
   ],
   "source": [
    "\n",
    "x = (1, 2, 3, 4)\n",
    "y = (3, 5, 2, 1)\n",
    "z = (2, 2, 3, 1)\n",
    "\n",
    "\n",
    "print(\"Original lists:\")\n",
    "print(x)\n",
    "print(y)\n",
    "print(z)\n",
    "\n",
    "\n",
    "result = tuple(map(sum, zip(x, y, z)))\n",
    "\n",
    "\n",
    "print(\"\\nElement-wise sum of the said tuples:\")\n",
    "print(result)\n"
   ]
  },
  {
   "cell_type": "code",
   "execution_count": null,
   "metadata": {},
   "outputs": [],
   "source": [
    "8. Write a Python program to sum of all counts in a collections.\n",
    "    Data:\n",
    "        x = {2, 2, 4, 6, 6, 8, 6, 10, 4}\n",
    "    Expected Output:\n",
    "        5\n",
    "        \n",
    "        "
   ]
  },
  {
   "cell_type": "code",
   "execution_count": 9,
   "metadata": {},
   "outputs": [
    {
     "name": "stdout",
     "output_type": "stream",
     "text": [
      "8\n"
     ]
    }
   ],
   "source": [
    "\n",
    "import collections\n",
    "\n",
    "\n",
    "num = [ 2, 4, 6, 6, 8, 6, 10, 4]\n",
    "\n",
    "\n",
    "result = sum(collections.Counter(num).values())\n",
    "\n",
    "\n",
    "print(result)\n"
   ]
  },
  {
   "cell_type": "code",
   "execution_count": null,
   "metadata": {},
   "outputs": [],
   "source": [
    "9. Write a Python program to create a bytearray from a set.\n",
    "    Data:\n",
    "        x = {10, 20, 56, 35, 17, 99}\n",
    "    Expected Output:\n",
    "        35\n",
    "        99\n",
    "        10\n",
    "        17\n",
    "        20\n",
    "        56\n",
    "        \n",
    "        \n",
    "        \n",
    "        "
   ]
  },
  {
   "cell_type": "code",
   "execution_count": 10,
   "metadata": {},
   "outputs": [
    {
     "name": "stdout",
     "output_type": "stream",
     "text": [
      "17 99 35 20 56 10 "
     ]
    }
   ],
   "source": [
    "x = {10, 20, 56, 35, 17, 99}\n",
    "byte_array = bytearray(x)\n",
    "\n",
    "for byte in byte_array:\n",
    "    print(byte, end=\" \")\n",
    "    "
   ]
  },
  {
   "cell_type": "code",
   "execution_count": null,
   "metadata": {},
   "outputs": [],
   "source": [
    "''' 10. Write a Python program to create the combinations of 3 digit combo to following given range(1000).\n",
    "    Expected Output:\n",
    "        999 '''\n",
    "\n",
    "#Didnt understand the question       \n",
    "        \n",
    "        "
   ]
  },
  {
   "cell_type": "code",
   "execution_count": 11,
   "metadata": {},
   "outputs": [
    {
     "name": "stdout",
     "output_type": "stream",
     "text": [
      "999\n"
     ]
    }
   ],
   "source": [
    "\n",
    "numbers = []\n",
    "\n",
    "\n",
    "for num in range(1000):\n",
    "   \n",
    "    num = str(num).zfill(3)\n",
    "\n",
    "\n",
    "print(num)\n",
    "\n",
    "\n",
    "numbers.append(num)\n"
   ]
  },
  {
   "cell_type": "code",
   "execution_count": null,
   "metadata": {},
   "outputs": [],
   "source": [
    "11. Write a Python program to add two positive integers without using the '+' operator.\n",
    "    Data:\n",
    "        (2, 10)\n",
    "        (10, -20)\n",
    "        (-10, -20)\n",
    "    Expected Output:\n",
    "         12\n",
    "        -10\n",
    "        -30\n",
    "        \n",
    "# But the question doesn't have any set items.\n",
    "        "
   ]
  },
  {
   "cell_type": "code",
   "execution_count": 12,
   "metadata": {},
   "outputs": [
    {
     "name": "stdout",
     "output_type": "stream",
     "text": [
      "12\n",
      "-10\n",
      "-30\n"
     ]
    }
   ],
   "source": [
    "def add_without_plus_operator(a, b):\n",
    "    \n",
    "    while b != 0:\n",
    "        \n",
    "        carry = (a & b) << 1\n",
    "\n",
    "        \n",
    "        a = a ^ b\n",
    "\n",
    "       \n",
    "        b = carry\n",
    "    return a\n",
    "\n",
    "\n",
    "print(add_without_plus_operator(2, 10))\n",
    "print(add_without_plus_operator(10, -20))\n",
    "print(add_without_plus_operator(-10, -20))"
   ]
  },
  {
   "cell_type": "code",
   "execution_count": null,
   "metadata": {},
   "outputs": [],
   "source": [
    "''' 12. Write a Python program to find the digits which are absent in a given mobile number.\n",
    "    Data:\n",
    "        x = [0, 1, 2, 3, 4, 5, 6, 7, 8, 9]\n",
    "    Expected Output:\n",
    "        [1, 4, 5] '''\n",
    "        \n",
    "# Didnt understand the question        \n",
    "        "
   ]
  },
  {
   "cell_type": "code",
   "execution_count": 14,
   "metadata": {},
   "outputs": [
    {
     "name": "stdout",
     "output_type": "stream",
     "text": [
      "[1, 4, 5]\n"
     ]
    }
   ],
   "source": [
    "def find_absent_digits(digits):\n",
    "    \n",
    "    all_digits = set(range(10))\n",
    "    present_digits = set(digits)\n",
    "    absent_digits = sorted(list(all_digits - present_digits))\n",
    "    return absent_digits\n",
    "\n",
    "\n",
    "mobile_number_digits = [0, 2, 3, 6, 7, 8, 9]\n",
    "absent = find_absent_digits(mobile_number_digits)\n",
    "print(absent)  # Output: [1, 4, 5]\n",
    "\n"
   ]
  },
  {
   "cell_type": "code",
   "execution_count": null,
   "metadata": {},
   "outputs": [],
   "source": [
    "''' 13. Write a Python program to compute the digit number of sum of two given integers.\n",
    "    Data:\n",
    "        (a, b)=(5, 7)\n",
    "    Expected Output:\n",
    "        2 '''\n",
    "        \n",
    "# Didnt understand the question   \n",
    "        \n",
    "        "
   ]
  },
  {
   "cell_type": "code",
   "execution_count": null,
   "metadata": {},
   "outputs": [],
   "source": [
    "14. Write a Python program to create set difference. \n",
    "    Data:\n",
    "        x = {\"apple\", \"orange\", \"mango\", \"kiwi\"}\n",
    "        y = {\"orange\", \"mango\", \"watermelon\"}\n",
    "    Expected Output:\n",
    "        Difference between x & y is : {'orange', 'mango'}\n",
    "        Difference between x - z is : {'apple', 'kiwi'}\n",
    "        \n",
    "        "
   ]
  },
  {
   "cell_type": "code",
   "execution_count": 15,
   "metadata": {},
   "outputs": [
    {
     "name": "stdout",
     "output_type": "stream",
     "text": [
      "Difference between x & y is : {'apple', 'kiwi'}\n",
      "Difference between x - z is : {'mango', 'orange'}\n"
     ]
    }
   ],
   "source": [
    "def set_difference(set_x, set_y):\n",
    "  \n",
    "  return set_x - set_y\n",
    "\n",
    "x = {\"apple\", \"orange\", \"mango\", \"kiwi\"}\n",
    "y = {\"orange\", \"mango\", \"watermelon\"}\n",
    "z = {'apple', 'kiwi'}\n",
    "\n",
    "difference_xy = set_difference(x, y)\n",
    "difference_xz = set_difference(x, z)\n",
    "\n",
    "print(f\"Difference between x & y is : {difference_xy}\")\n",
    "print(f\"Difference between x - z is : {difference_xz}\")"
   ]
  },
  {
   "cell_type": "code",
   "execution_count": null,
   "metadata": {},
   "outputs": [],
   "source": [
    "15. Write a Python program to find the difference between two given sets using difference() and - operator.\n",
    "    Data:\n",
    "        sn1 = {1, 2, 3, 4, 5}\n",
    "        sn2 = {4, 5, 6, 7, 8}\n",
    "    Expected Output:\n",
    "        Difference of sn1 and sn2 using difference(): {1, 2, 3}\n",
    "        Difference of sn2 and sn1 using difference(): {8, 6, 7}\n",
    "        Difference of sn1 and sn2 using - operator: {1, 2, 3}\n",
    "        Difference of sn2 and sn1 using - operator: {8, 6, 7}\n",
    "    \n",
    "        "
   ]
  },
  {
   "cell_type": "code",
   "execution_count": 16,
   "metadata": {},
   "outputs": [
    {
     "name": "stdout",
     "output_type": "stream",
     "text": [
      "Original sets:\n",
      "{1, 2, 3, 4, 5}\n",
      "{4, 5, 6, 7, 8}\n",
      "Difference of sn1 and sn2 using difference():\n",
      "{1, 2, 3}\n",
      "Difference of sn2 and sn1 using difference():\n",
      "{8, 6, 7}\n",
      "Difference of sn1 and sn2 using - operator:\n",
      "{1, 2, 3}\n",
      "Difference of sn2 and sn1 using - operator:\n",
      "{8, 6, 7}\n"
     ]
    }
   ],
   "source": [
    "sn1 = {1, 2, 3, 4, 5}\n",
    "sn2 = {4, 5, 6, 7, 8}\n",
    "\n",
    "print(\"Original sets:\")\n",
    "print(sn1)\n",
    "print(sn2)\n",
    "\n",
    "print(\"Difference of sn1 and sn2 using difference():\")\n",
    "print(sn1.difference(sn2))\n",
    "\n",
    "print(\"Difference of sn2 and sn1 using difference():\")\n",
    "print(sn2.difference(sn1))\n",
    "\n",
    "print(\"Difference of sn1 and sn2 using - operator:\")\n",
    "print(sn1 - sn2)\n",
    "\n",
    "print(\"Difference of sn2 and sn1 using - operator:\")\n",
    "print(sn2 - sn1)"
   ]
  },
  {
   "cell_type": "code",
   "execution_count": null,
   "metadata": {},
   "outputs": [],
   "source": [
    "16. Write a Python program to check whether a given set has no elements in common with another given set using isdisjoint().\n",
    "    Data:\n",
    "        {1, 2, 3}\n",
    "        {4, 5, 6}\n",
    "        {3}\n",
    "    Expected Output:\n",
    "        Check sn1 set has no elements in common with sn2 set:\n",
    "        True\n",
    "        Check sn1 set has no elements in common with sn3 set:\n",
    "        False\n",
    "        \n",
    "        "
   ]
  },
  {
   "cell_type": "code",
   "execution_count": 17,
   "metadata": {},
   "outputs": [
    {
     "name": "stdout",
     "output_type": "stream",
     "text": [
      "Original sets:\n",
      "{1, 2, 3}\n",
      "{4, 5, 6}\n",
      "{3}\n",
      "Check sn1 set has no elements in common with sn2 set:\n",
      "True\n",
      "Check sn1 set has no elements in common with sn3 set:\n",
      "False\n"
     ]
    }
   ],
   "source": [
    "\n",
    "sn1 = {1, 2, 3}\n",
    "sn2 = {4, 5, 6}\n",
    "sn3 = {3}\n",
    "\n",
    "\n",
    "print(\"Original sets:\")\n",
    "print(sn1)\n",
    "print(sn2)\n",
    "print(sn3)\n",
    "\n",
    "\n",
    "print(\"Check sn1 set has no elements in common with sn2 set:\")\n",
    "print(sn1.isdisjoint(sn2))\n",
    "\n",
    "\n",
    "print(\"Check sn1 set has no elements in common with sn3 set:\")\n",
    "print(sn1.isdisjoint(sn3))"
   ]
  },
  {
   "cell_type": "code",
   "execution_count": null,
   "metadata": {},
   "outputs": [],
   "source": [
    "17. Write a  Python Program to print the common letters present in the two given strings using set().\n",
    "    Data:\n",
    "        x = \"Hello\"\n",
    "        y = \"World\"\n",
    "    Expected Output:\n",
    "        The common letters are:\n",
    "            o\n",
    "            l\n",
    "        \n",
    "        "
   ]
  },
  {
   "cell_type": "code",
   "execution_count": 18,
   "metadata": {},
   "outputs": [
    {
     "name": "stdout",
     "output_type": "stream",
     "text": [
      "The common letters are: l o\n"
     ]
    }
   ],
   "source": [
    "x = \"Hello\"\n",
    "y = \"World\"\n",
    "\n",
    "\n",
    "set_x = set(x.lower())  \n",
    "set_y = set(y.lower())\n",
    "\n",
    "\n",
    "common_letters = set_x.intersection(set_y)\n",
    "\n",
    "\n",
    "print(\"The common letters are:\", *common_letters)"
   ]
  },
  {
   "cell_type": "code",
   "execution_count": null,
   "metadata": {},
   "outputs": [],
   "source": [
    "18. Write a  Python Program to display the letters which are in the first string but not in the second string using set(). \n",
    "    Data:\n",
    "        x = \"Hello\"\n",
    "        y = \"World\"\n",
    "    Expected Output:\n",
    "        The letters are:\n",
    "            H\n",
    "            e\n",
    "        \n",
    "        "
   ]
  },
  {
   "cell_type": "code",
   "execution_count": 19,
   "metadata": {},
   "outputs": [
    {
     "name": "stdout",
     "output_type": "stream",
     "text": [
      "The letters are: e H\n"
     ]
    }
   ],
   "source": [
    "def find_unique_letters(str1, str2):\n",
    "  \n",
    "  set1 = set(str1)\n",
    "  set2 = set(str2)\n",
    "  unique_letters = set1 - set2\n",
    "  return \" \".join(unique_letters)\n",
    "\n",
    "\n",
    "x = \"Hello\"\n",
    "y = \"World\"\n",
    "result = find_unique_letters(x, y)\n",
    "print(f\"The letters are: {result}\")"
   ]
  },
  {
   "cell_type": "code",
   "execution_count": null,
   "metadata": {},
   "outputs": [],
   "source": [
    "19. Write Python Program to display the letters which are not in common from both the given strings using set(). \n",
    "    Data:\n",
    "        x = \"Hello\"\n",
    "        y = \"World\"\n",
    "    Expected Output:\n",
    "        The letters are:\n",
    "            W\n",
    "            H\n",
    "            d\n",
    "            e\n",
    "            r\n",
    "            \n",
    "        "
   ]
  },
  {
   "cell_type": "code",
   "execution_count": 20,
   "metadata": {},
   "outputs": [
    {
     "name": "stdout",
     "output_type": "stream",
     "text": [
      "The letters are: HWder\n"
     ]
    }
   ],
   "source": [
    "x = \"Hello\"\n",
    "y = \"World\"\n",
    "\n",
    "set_x = set(x)\n",
    "set_y = set(y)\n",
    "\n",
    "not_common = (set_x - set_y) | (set_y - set_x)\n",
    "\n",
    "print(\"The letters are:\", \"\".join(sorted(not_common, key=lambda c: (c.islower(), c))).replace(' ', ''))"
   ]
  },
  {
   "cell_type": "code",
   "execution_count": null,
   "metadata": {},
   "outputs": [],
   "source": [
    "20. Write a Python program to check if a set is a subset of another set.\n",
    "    Data:\n",
    "        1:  {'green', 'blue'}\n",
    "        2:  {'blue', 'red'}\n",
    "        3:  {'blue'}\n",
    "    Expected Output:\n",
    "        If 1 is subset of 2\n",
    "        False\n",
    "        False\n",
    "        If 2 is subset of 1\n",
    "        False\n",
    "        False\n",
    "        \n",
    "        \n",
    "        \n",
    "        "
   ]
  },
  {
   "cell_type": "code",
   "execution_count": 22,
   "metadata": {},
   "outputs": [
    {
     "name": "stdout",
     "output_type": "stream",
     "text": [
      "Is set1 a subset of set2? False\n",
      "Is set1 a subset of set2? False\n",
      "Is set2 a subset of set1? False\n",
      "Is set2 a subset of set1? False\n"
     ]
    }
   ],
   "source": [
    "\n",
    "set1 = {'green', 'blue'}\n",
    "set2 = {'blue', 'red'}\n",
    "set3 = {'blue'}\n",
    "\n",
    "\n",
    "print(f\"Is set1 a subset of set2? {set1.issubset(set2)}\")\n",
    "print(f\"Is set1 a subset of set2? {set1 <= set2}\")\n",
    "\n",
    "\n",
    "print(f\"Is set2 a subset of set1? {set2.issubset(set1)}\")\n",
    "print(f\"Is set2 a subset of set1? {set2 <= set1}\")\n"
   ]
  }
 ],
 "metadata": {
  "kernelspec": {
   "display_name": "Python 3 (ipykernel)",
   "language": "python",
   "name": "python3"
  },
  "language_info": {
   "codemirror_mode": {
    "name": "ipython",
    "version": 3
   },
   "file_extension": ".py",
   "mimetype": "text/x-python",
   "name": "python",
   "nbconvert_exporter": "python",
   "pygments_lexer": "ipython3",
   "version": "3.12.7"
  }
 },
 "nbformat": 4,
 "nbformat_minor": 4
}

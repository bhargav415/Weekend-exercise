{
 "cells": [
  {
   "cell_type": "markdown",
   "metadata": {},
   "source": [
    "# Nested Tuple Hard Questions"
   ]
  },
  {
   "cell_type": "code",
   "execution_count": null,
   "metadata": {},
   "outputs": [],
   "source": [
    "1. Write a Python program to calculate the average value of the numbers in a given tuple of tuples.\n",
    "    Data:\n",
    "        Original Tuple:\n",
    "        ((10, 10, 10, 12), (30, 45, 56, 45), (81, 80, 39, 32), (1, 2, 3, 4))\n",
    "        ((1, 1, -5), (30, -15, 56), (81, -60, -39), (-10, 2, 3))\n",
    "    Expected Output:\n",
    "        Average value of the numbers of the said tuple of tuples:\n",
    "        [30.5, 34.25, 27.0, 23.25]\n",
    "        Average value of the numbers of the said tuple of tuples:\n",
    "        [25.5, -18.0, 3.75]\n",
    "        \n",
    "        \n",
    "        \n",
    "        "
   ]
  },
  {
   "cell_type": "code",
   "execution_count": 1,
   "metadata": {},
   "outputs": [
    {
     "name": "stdout",
     "output_type": "stream",
     "text": [
      "Average value of the numbers of the said tuple of tuples:\n",
      "[30.5, 34.25, 27.0, 23.25]\n",
      "Average value of the numbers of the said tuple of tuples:\n",
      "[25.5, -18.0, 3.75]\n"
     ]
    }
   ],
   "source": [
    "def column_averages(tuple_of_tuples):\n",
    "    \n",
    "    columns = zip(*tuple_of_tuples)\n",
    "    \n",
    "    return [sum(col) / len(col) for col in columns]\n",
    " \n",
    "\n",
    "data1 = ((10, 10, 10, 12), (30, 45, 56, 45), (81, 80, 39, 32), (1, 2, 3, 4))\n",
    "data2 = ((1, 1, -5), (30, -15, 56), (81, -60, -39), (-10, 2, 3))\n",
    " \n",
    "print(\"Average value of the numbers of the said tuple of tuples:\")\n",
    "print(column_averages(data1))\n",
    "print(\"Average value of the numbers of the said tuple of tuples:\")\n",
    "print(column_averages(data2))"
   ]
  },
  {
   "cell_type": "code",
   "execution_count": null,
   "metadata": {},
   "outputs": [],
   "source": [
    "2. Write a Python program to check if a specified element present in a given tuple of tuples. \n",
    "    Data:\n",
    "        (('Red', 'White', 'Blue'), ('Green', 'Pink', 'Purple'), ('Orange', 'Yellow', 'Lime'))\n",
    "    Expected Output:\n",
    "        Check if White presenet in said tuple of tuples!\n",
    "        True\n",
    "        Check if White presenet in said tuple of tuples!\n",
    "        True\n",
    "        Check if Olive presenet in said tuple of tuples!\n",
    "        False\n",
    "        \n",
    "        \n",
    "        \n",
    "        "
   ]
  },
  {
   "cell_type": "code",
   "execution_count": 2,
   "metadata": {},
   "outputs": [
    {
     "name": "stdout",
     "output_type": "stream",
     "text": [
      "Check if White present in said tuple of tuples! True\n",
      "Check if White present in said tuple of tuples! True\n",
      "Check if Olive present in said tuple of tuples! False\n"
     ]
    }
   ],
   "source": [
    "def check_element_in_tuple_of_tuples(data_tuple, element_to_check):\n",
    "    \n",
    "    for inner_tuple in data_tuple:\n",
    "        if element_to_check in inner_tuple:\n",
    "            return True\n",
    "    return False\n",
    "\n",
    "\n",
    "colors_data = (('Red', 'White', 'Blue'), ('Green', 'Pink', 'Purple'), ('Orange', 'Yellow', 'Lime'))\n",
    "\n",
    "\n",
    "element1 = 'White'\n",
    "element2 = 'Olive'\n",
    "\n",
    "print(f\"Check if {element1} present in said tuple of tuples! {check_element_in_tuple_of_tuples(colors_data, element1)}\")\n",
    "print(f\"Check if {element1} present in said tuple of tuples! {check_element_in_tuple_of_tuples(colors_data, element1)}\") \n",
    "print(f\"Check if {element2} present in said tuple of tuples! {check_element_in_tuple_of_tuples(colors_data, element2)}\")"
   ]
  },
  {
   "cell_type": "code",
   "execution_count": null,
   "metadata": {},
   "outputs": [],
   "source": [
    "3. Write a Python program to compute the sum of all the elements of each tuple in a list.\n",
    "    Data:\n",
    "        [(1, 2), (2, 3), (3, 4)]\n",
    "        [(1, 2, 6), (2, 3, -6), (3, 4), (2, 2, 2, 2)]\n",
    "    Expected Output:\n",
    "        Sum of all the elements of each tuple stored inside the said list of tuples:\n",
    "        [3, 5, 7]\n",
    "        [9, -1, 7, 8]\n",
    "        \n",
    "        \n",
    "        \n",
    "        "
   ]
  },
  {
   "cell_type": "code",
   "execution_count": 3,
   "metadata": {},
   "outputs": [
    {
     "name": "stdout",
     "output_type": "stream",
     "text": [
      "Original list of tuples:\n",
      "[(1, 2), (2, 3), (3, 4)]\n",
      "\n",
      "Sum of all the elements of each tuple stored inside the said list of tuples:\n",
      "[3, 5, 7]\n",
      "\n",
      "Original list of tuples:\n",
      "[(1, 2, 6), (2, 3, -6), (3, 4), (2, 2, 2, 2)]\n",
      "\n",
      "Sum of all the elements of each tuple stored inside the said list of tuples:\n",
      "[9, -1, 7, 8]\n"
     ]
    }
   ],
   "source": [
    "\n",
    "def test(lst):\n",
    "    \n",
    "    result = map(sum, lst)\n",
    "    \n",
    "    \n",
    "    return list(result)\n",
    "\n",
    "\n",
    "nums = [(1, 2), (2, 3), (3, 4)]\n",
    "\n",
    "\n",
    "print(\"Original list of tuples:\")\n",
    "print(nums)\n",
    "\n",
    "\n",
    "\n",
    "\n",
    "print(\"\\nSum of all the elements of each tuple stored inside the said list of tuples:\")\n",
    "print(test(nums))\n",
    "\n",
    "\n",
    "nums = [(1, 2, 6), (2, 3, -6), (3, 4), (2, 2, 2, 2)]\n",
    "\n",
    "\n",
    "print(\"\\nOriginal list of tuples:\")\n",
    "print(nums)\n",
    "\n",
    "\n",
    "print(\"\\nSum of all the elements of each tuple stored inside the said list of tuples:\")\n",
    "print(test(nums))\n"
   ]
  },
  {
   "cell_type": "code",
   "execution_count": null,
   "metadata": {},
   "outputs": [],
   "source": [
    "4. Write a Python program to convert a nested tuple into a dictionary.\n",
    "    Data:\n",
    "        x = ((\"boss\", 10), (\"suresh\", 12), (\"anand\", 14), (\"siva\", 20), (\"bala\", 25), (\"karthi\", 30))\n",
    "    Expected Output:\n",
    "        {10: 'boss', 12: 'suresh', 14: 'anand', 20: 'siva', 25: 'bala', 30: 'karthi'}\n",
    "        \n",
    "        \n",
    "        \n",
    "        \n",
    "        "
   ]
  },
  {
   "cell_type": "code",
   "execution_count": 4,
   "metadata": {},
   "outputs": [
    {
     "name": "stdout",
     "output_type": "stream",
     "text": [
      "{10: 'boss', 12: 'suresh', 14: 'anand', 20: 'siva', 25: 'bala', 30: 'karthi'}\n"
     ]
    }
   ],
   "source": [
    "x = ((\"boss\", 10), (\"suresh\", 12), (\"anand\", 14), (\"siva\", 20), (\"bala\", 25), (\"karthi\", 30))\n",
    "result = {number: name for name, number in x}\n",
    "print(result)\n",
    " "
   ]
  },
  {
   "cell_type": "code",
   "execution_count": null,
   "metadata": {},
   "outputs": [],
   "source": [
    "5. Write a Python program to filter only those tuples which has all characters in uppercase from the given nested tuple.\n",
    "    Data:\n",
    "        [('GFG', 'IS', 'BEST'), ('GFg', 'AVERAGE'), ('GFG',), ('Gfg', 'CS')]\n",
    "    Expected Output:\n",
    "        [('GFG', 'IS', 'BEST'), ('GFG',)]\n",
    "        \n",
    "        \n",
    "        \n",
    "        "
   ]
  },
  {
   "cell_type": "code",
   "execution_count": 5,
   "metadata": {},
   "outputs": [
    {
     "name": "stdout",
     "output_type": "stream",
     "text": [
      "[('GFG', 'IS', 'BEST'), ('GFG',)]\n"
     ]
    }
   ],
   "source": [
    "def filter_uppercase_tuples(data):\n",
    "    filtered_tuples = []\n",
    "    for tuple_ in data:\n",
    "        is_uppercase_tuple = True\n",
    "        for element in tuple_:\n",
    "            if not all(char.isupper() for char in element):\n",
    "                is_uppercase_tuple = False\n",
    "                break\n",
    "        if is_uppercase_tuple:\n",
    "            filtered_tuples.append(tuple_)\n",
    "    return filtered_tuples\n",
    "\n",
    "\n",
    "data = (('GFG', 'IS', 'BEST'), ('GFg', 'AVERAGE'), ('GFG',), ('Gfg', 'CS'))\n",
    "result = filter_uppercase_tuples(data)\n",
    "print(result)\n"
   ]
  },
  {
   "cell_type": "code",
   "execution_count": null,
   "metadata": {},
   "outputs": [],
   "source": [
    "6. Write a Python program to compare the given two nested tuples and print the maximum number from each tuple using isinstance().\n",
    "    Data:\n",
    "        ((1, 3), (4, 5), (2, 9), (1, 10)) \n",
    "        ((6, 7), (3, 9), (1, 1), (7, 3)) \n",
    "    Expected Output:\n",
    "        ((6, 7), (4, 9), (2, 9), (7, 10))\n",
    "        \n",
    "        \n",
    "        \n",
    "        "
   ]
  },
  {
   "cell_type": "code",
   "execution_count": 6,
   "metadata": {},
   "outputs": [
    {
     "name": "stdout",
     "output_type": "stream",
     "text": [
      "((6, 7), (4, 9), (2, 9), (7, 10))\n"
     ]
    }
   ],
   "source": [
    "def compare_nested_tuples(tuple1, tuple2):\n",
    "    if not (isinstance(tuple1, tuple) and isinstance(tuple2, tuple)):\n",
    "        raise TypeError(\"Both inputs must be tuples.\")\n",
    "\n",
    "    if len(tuple1) != len(tuple2):\n",
    "        raise ValueError(\"Input tuples must have the same number of inner tuples.\")\n",
    "\n",
    "    result_tuples = []\n",
    "    for i in range(len(tuple1)):\n",
    "        inner_tuple1 = tuple1[i]\n",
    "        inner_tuple2 = tuple2[i]\n",
    "\n",
    "        if not (isinstance(inner_tuple1, tuple) and isinstance(inner_tuple2, tuple)):\n",
    "            raise TypeError(\"Inner elements must be tuples.\")\n",
    "\n",
    "        if len(inner_tuple1) != len(inner_tuple2):\n",
    "            raise ValueError(\"Inner tuples must have the same number of elements.\")\n",
    "\n",
    "        max_values_in_inner_tuple = []\n",
    "        for j in range(len(inner_tuple1)):\n",
    "            \n",
    "            max_val = max(inner_tuple1[j], inner_tuple2[j])\n",
    "            max_values_in_inner_tuple.append(max_val)\n",
    "        result_tuples.append(tuple(max_values_in_inner_tuple))\n",
    "    \n",
    "    return tuple(result_tuples)\n",
    "\n",
    "\n",
    "data_tuple1 = ((1, 3), (4, 5), (2, 9), (1, 10))\n",
    "data_tuple2 = ((6, 7), (3, 9), (1, 1), (7, 3))\n",
    "\n",
    "\n",
    "output_tuple = compare_nested_tuples(data_tuple1, data_tuple2)\n",
    "print(output_tuple)"
   ]
  },
  {
   "cell_type": "code",
   "execution_count": null,
   "metadata": {},
   "outputs": [],
   "source": [
    "7. Write a Python program to compare the given two nested tuples and print the maximum number from each tuple using zip() and max().\n",
    "    Data:\n",
    "        ((13, 32), (33, 24), (53, 64), (14, 10)) \n",
    "        ((62, 17), (33, 94), (13, 41), (74, 43))\n",
    "    Expected Output:\n",
    "        ((62, 32), (33, 94), (53, 64), (74, 43))\n",
    "        \n",
    "        \n",
    "        \n",
    "        "
   ]
  },
  {
   "cell_type": "code",
   "execution_count": 7,
   "metadata": {},
   "outputs": [
    {
     "name": "stdout",
     "output_type": "stream",
     "text": [
      "((62, 32), (33, 94), (53, 64), (74, 43))\n"
     ]
    }
   ],
   "source": [
    "data1 = ((13, 32), (33, 24), (53, 64), (14, 10))\n",
    "data2 = ((62, 17), (33, 94), (13, 41), (74, 43))\n",
    " \n",
    "\n",
    "result = tuple(\n",
    "    tuple(max(a, b) for a, b in zip(t1, t2))\n",
    "    for t1, t2 in zip(data1, data2)\n",
    ")\n",
    " \n",
    "print(result)"
   ]
  },
  {
   "cell_type": "code",
   "execution_count": null,
   "metadata": {},
   "outputs": [],
   "source": [
    "8. Write a Python program to combine tuples in a list nested tuples using product().\n",
    "    Data:\n",
    "        [([1, 2, 3], 'gfg'), ([5, 4, 3], 'cs')]\n",
    "    Expected Output:\n",
    "        [(1, 'gfg'), (2, 'gfg'), (3, 'gfg'), (5, 'cs'), (4, 'cs'), (3, 'cs')]\n",
    "        \n",
    "        \n",
    "        \n",
    "        "
   ]
  },
  {
   "cell_type": "code",
   "execution_count": 8,
   "metadata": {},
   "outputs": [
    {
     "name": "stdout",
     "output_type": "stream",
     "text": [
      "[(1, 'gfg'), (2, 'gfg'), (3, 'gfg'), (5, 'cs'), (4, 'cs'), (3, 'cs')]\n"
     ]
    }
   ],
   "source": [
    "from itertools import product\n",
    "\n",
    "def combine_nested_tuples(data):\n",
    "  result = []\n",
    "  for num_list, char_str in data:\n",
    "    for item in product(num_list, [char_str]):\n",
    "      result.append(item)\n",
    "  return result\n",
    "\n",
    "# Data as provided in the problem description\n",
    "test_data = [([1, 2, 3], 'gfg'), ([5, 4, 3], 'cs')]\n",
    "\n",
    "# Combine the tuples and print the result\n",
    "combined_tuples = combine_nested_tuples(test_data)\n",
    "print(combined_tuples)"
   ]
  },
  {
   "cell_type": "code",
   "execution_count": null,
   "metadata": {},
   "outputs": [],
   "source": [
    "9. Write a Python program to merge the given list of nested tuples into another list of nested tuples.\n",
    "    Data:\n",
    "        x = [('a', 0), ('b', 0), ('c', 0)] \n",
    "        y = [('a', 5), ('c', 3)]\n",
    "    Expected Output:\n",
    "        [('a', 5), ('b', 0), ('c', 3)]\n",
    "        \n",
    "        \n",
    "        \n",
    "        "
   ]
  },
  {
   "cell_type": "code",
   "execution_count": 9,
   "metadata": {},
   "outputs": [
    {
     "name": "stdout",
     "output_type": "stream",
     "text": [
      "[('a', 5), ('b', 0), ('c', 3)]\n"
     ]
    }
   ],
   "source": [
    "x = [('a', 0), ('b', 0), ('c', 0)]\n",
    "y = [('a', 5), ('c', 3)]\n",
    "\n",
    "def merge_tuples(list1, list2):\n",
    "    \"\"\"Merges two lists of tuples, prioritizing values from the second list.\"\"\"\n",
    "    merged_dict = dict(list1)  # Convert list1 to a dictionary for easy updates\n",
    "    for key, value in list2:\n",
    "        merged_dict[key] = value  # Update values from list2, overwriting if key exists\n",
    "    return list(merged_dict.items())  # Convert the dictionary back to a list of tuples\n",
    "\n",
    "\n",
    "merged_list = merge_tuples(x, y)\n",
    "print(merged_list)"
   ]
  },
  {
   "cell_type": "code",
   "execution_count": null,
   "metadata": {},
   "outputs": [],
   "source": [
    "10. Write a python program to unzip a list of nested tuples using zip() and * operator.\n",
    "    Data:\n",
    "        [('baskar', 1), ('suresh', 2), ('is', 3), ('Placed', 4)] \n",
    "    Expected Output:\n",
    "        [('baskar', 'suresh', 'is', 'Placed'), (1, 2, 3, 4)]\n",
    "        \n",
    "        \n",
    "        \n",
    "        "
   ]
  },
  {
   "cell_type": "code",
   "execution_count": 10,
   "metadata": {},
   "outputs": [
    {
     "name": "stdout",
     "output_type": "stream",
     "text": [
      "[('a', 5), ('b', 0), ('c', 3)]\n",
      "[('baskar', 1), ('suresh', 2), ('is', 3), ('Placed', 4), ('a', 5), ('c', 3)]\n"
     ]
    }
   ],
   "source": [
    "def merge_nested_tuples(list1, list2):\n",
    "\n",
    "    dict1 = dict(list1)\n",
    "    dict2 = dict(list2)\n",
    "\n",
    "    merged_dict = dict1.copy()\n",
    "    merged_dict.update(dict2)\n",
    "\n",
    "    merged_list = []\n",
    "    for key, value in merged_dict.items():\n",
    "        merged_list.append((key, value))\n",
    "\n",
    "    return merged_list\n",
    "\n",
    "\n",
    "x = [('a', 0), ('b', 0), ('c', 0)]\n",
    "y = [('a', 5), ('c', 3)]\n",
    "result = merge_nested_tuples(x, y)\n",
    "print(result)\n",
    "\n",
    "x = [('baskar', 1), ('suresh', 2), ('is', 3), ('Placed', 4)]\n",
    "y = [('a', 5), ('c', 3)]\n",
    "result = merge_nested_tuples(x, y)\n",
    "print(result)"
   ]
  },
  {
   "cell_type": "code",
   "execution_count": null,
   "metadata": {},
   "outputs": [],
   "source": []
  }
 ],
 "metadata": {
  "kernelspec": {
   "display_name": "Python 3 (ipykernel)",
   "language": "python",
   "name": "python3"
  },
  "language_info": {
   "codemirror_mode": {
    "name": "ipython",
    "version": 3
   },
   "file_extension": ".py",
   "mimetype": "text/x-python",
   "name": "python",
   "nbconvert_exporter": "python",
   "pygments_lexer": "ipython3",
   "version": "3.12.7"
  }
 },
 "nbformat": 4,
 "nbformat_minor": 4
}

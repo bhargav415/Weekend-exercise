{
 "cells": [
  {
   "cell_type": "markdown",
   "metadata": {},
   "source": [
    "# Nested Tuple Intermediate Questions"
   ]
  },
  {
   "cell_type": "code",
   "execution_count": null,
   "metadata": {},
   "outputs": [],
   "source": [
    "1. Write a Python program to sort a nested tuple by its float element. \n",
    "    Data: \n",
    "        [('tuple1', '12.20'), ('tuple2', '15.10'), ('tuple3', '24.5')]\n",
    "    Expected Output: \n",
    "        [('tuple3', '24.5'), ('tuple2', '15.10'), ('tuple1', '12.20')]\n",
    "        \n",
    "        \n",
    "        \n",
    "        "
   ]
  },
  {
   "cell_type": "code",
   "execution_count": 1,
   "metadata": {},
   "outputs": [
    {
     "name": "stdout",
     "output_type": "stream",
     "text": [
      "[('tuple3', '24.5'), ('tuple2', '15.10'), ('tuple1', '12.20')]\n"
     ]
    }
   ],
   "source": [
    "def sort_tuples_by_float(data):\n",
    "  \n",
    "  sorted_data = sorted(data, key=lambda x: float(x[1]), reverse=True)\n",
    "  return sorted_data\n",
    "\n",
    "\n",
    "data = [('tuple1', '12.20'), ('tuple2', '15.10'), ('tuple3', '24.5')]\n",
    "sorted_result = sort_tuples_by_float(data)\n",
    "print(sorted_result)"
   ]
  },
  {
   "cell_type": "code",
   "execution_count": null,
   "metadata": {},
   "outputs": [],
   "source": [
    "2. Write a Python program to remove an empty tuple(s) from a list of nested tuples. \n",
    "    Data: \n",
    "        [(), (), ('',), ('a', 'b'), ('a', 'b', 'c'), ('d')]\n",
    "    Expected output: \n",
    "        [('',), ('a', 'b'), ('a', 'b', 'c'), 'd']\n",
    "\n",
    "        \n",
    "        \n",
    "        \n",
    "        "
   ]
  },
  {
   "cell_type": "code",
   "execution_count": 2,
   "metadata": {},
   "outputs": [
    {
     "name": "stdout",
     "output_type": "stream",
     "text": [
      "[('',), ('a', 'b'), ('a', 'b', 'c'), 'd']\n"
     ]
    }
   ],
   "source": [
    "L = [(), (), ('',), ('a', 'b'), ('a', 'b', 'c'), ('d')]\n",
    "\n",
    "\n",
    "L = [t for t in L if t]\n",
    "print(L) "
   ]
  },
  {
   "cell_type": "code",
   "execution_count": null,
   "metadata": {},
   "outputs": [],
   "source": [
    "3. Write a Python program to count the elements in a list until an element is a tuple.\n",
    "    Data:\n",
    "        [10,20,30,(10,20),40]\n",
    "    Expected output:\n",
    "        3\n",
    "        \n",
    "        \n",
    "        \n",
    "        "
   ]
  },
  {
   "cell_type": "code",
   "execution_count": 3,
   "metadata": {},
   "outputs": [
    {
     "name": "stdout",
     "output_type": "stream",
     "text": [
      "3\n"
     ]
    }
   ],
   "source": [
    "data = [10, 20, 30, (10, 20), 40]\n",
    "count = 0\n",
    "for element in data:\n",
    "    if isinstance(element, tuple):\n",
    "        break\n",
    "    count += 1\n",
    "print(count)"
   ]
  },
  {
   "cell_type": "code",
   "execution_count": null,
   "metadata": {},
   "outputs": [],
   "source": [
    "4. Write a Python program to convert a nested tuple of string values into a nested tuple of integer values.\n",
    "    Data:\n",
    "        (('333', '33'), ('1416', '55'))\n",
    "    Expected output:\n",
    "        ((333, 33), (1416, 55))\n",
    "        \n",
    "        \n",
    "        \n",
    "        "
   ]
  },
  {
   "cell_type": "code",
   "execution_count": 4,
   "metadata": {},
   "outputs": [
    {
     "name": "stdout",
     "output_type": "stream",
     "text": [
      "Original tuple values:\n",
      "(('333', '33'), ('1416', '55'))\n",
      "\n",
      "New tuple values:\n",
      "((333, 33), (1416, 55))\n"
     ]
    }
   ],
   "source": [
    "\n",
    "def tuple_int_str(tuple_str):\n",
    "    \n",
    "    result = tuple((int(x[0]), int(x[1])) for x in tuple_str)\n",
    "    \n",
    "    \n",
    "    return result\n",
    "\n",
    "\n",
    "tuple_str = (('333', '33'), ('1416', '55'))\n",
    "\n",
    "\n",
    "print(\"Original tuple values:\")\n",
    "\n",
    "\n",
    "print(tuple_str)\n",
    "\n",
    "\n",
    "print(\"\\nNew tuple values:\")\n",
    "\n",
    "\n",
    "print(tuple_int_str(tuple_str))"
   ]
  },
  {
   "cell_type": "code",
   "execution_count": null,
   "metadata": {},
   "outputs": [],
   "source": [
    "5. Write a Python program to concat the given two tuples into a nested tuple.\n",
    "    Data:\n",
    "        test1 = (1, 2), \n",
    "        test2 = (3, 4),\n",
    "    Expected output:\n",
    "        The original tuple 1 : ((1, 2),)\n",
    "        The original tuple 2 : ((3, 4),)\n",
    "        Tuples after Concatenating : ((1, 2), (3, 4))\n",
    "            \n",
    "            \n",
    "            \n",
    "            "
   ]
  },
  {
   "cell_type": "code",
   "execution_count": 5,
   "metadata": {},
   "outputs": [
    {
     "name": "stdout",
     "output_type": "stream",
     "text": [
      "The original tuple 1 : ((1, 2),)\n",
      "The original tuple 2 : ((3, 4),)\n",
      "Tuples after Concatenating : ((1, 2), (3, 4))\n"
     ]
    }
   ],
   "source": [
    "test1 = (1, 2)\n",
    "test2 = (3, 4)\n",
    "\n",
    "print(\"The original tuple 1 :\", (test1,))\n",
    "print(\"The original tuple 2 :\", (test2,))\n",
    "\n",
    "concatenated_tuple = ((test1,) + (test2,))\n",
    "\n",
    "print(\"Tuples after Concatenating :\", concatenated_tuple)"
   ]
  },
  {
   "cell_type": "code",
   "execution_count": null,
   "metadata": {},
   "outputs": [],
   "source": [
    "6. Write a Python program to remove duplicate tuples from the given list of tuples.\n",
    "    Data:\n",
    "        lst = [(1, 2), (5, 7), (3, 6), (1, 2)] \n",
    "    Expected output:\n",
    "        [(1, 2), (5, 7), (3, 6)]\n",
    "        \n",
    "        \n",
    "        \n",
    "        "
   ]
  },
  {
   "cell_type": "code",
   "execution_count": 6,
   "metadata": {},
   "outputs": [
    {
     "name": "stdout",
     "output_type": "stream",
     "text": [
      "[(1, 2), (5, 7), (3, 6)]\n"
     ]
    }
   ],
   "source": [
    "def remove_duplicates(input_list):\n",
    "    return list(set(input_list))\n",
    "\n",
    "lst = [(1, 2), (5, 7), (3, 6), (1, 2)]\n",
    "unique_lst = remove_duplicates(lst)\n",
    "print(unique_lst)"
   ]
  },
  {
   "cell_type": "code",
   "execution_count": null,
   "metadata": {},
   "outputs": [],
   "source": [
    "7. Write a Python program to remove 'None' from the given list of tuples.\n",
    "    Data:\n",
    "        x = [(None, 2), (None, None), (3, 4), (12, 3), (None, )] \\\n",
    "    Expected output: \n",
    "        The original list is : [(None, 2), (None, None), (3, 4), (12, 3), (None,)]\n",
    "        Removed None Tuples : [(None, 2), (3, 4), (12, 3)]\n",
    "            \n",
    "            \n",
    "            \n",
    "            "
   ]
  },
  {
   "cell_type": "code",
   "execution_count": 7,
   "metadata": {},
   "outputs": [
    {
     "name": "stdout",
     "output_type": "stream",
     "text": [
      "The original list is : [(None, 2), (None, None), (3, 4), (12, 3), (None,)]\n",
      "Removed None Tuples : [(3, 4), (12, 3)]\n"
     ]
    }
   ],
   "source": [
    "def remove_none_tuples(data):\n",
    "    \n",
    "    new_list = []\n",
    "    for tup in data:\n",
    "        if not any(x is None for x in tup):\n",
    "            new_list.append(tup)\n",
    "    return new_list\n",
    "\n",
    "x = [(None, 2), (None, None), (3, 4), (12, 3), (None,)]\n",
    "print(\"The original list is :\", x)\n",
    "removed_none_tuples = remove_none_tuples(x)\n",
    "print(\"Removed None Tuples :\", removed_none_tuples)"
   ]
  },
  {
   "cell_type": "code",
   "execution_count": null,
   "metadata": {},
   "outputs": [],
   "source": [
    "8. Write a Python program to find the tuples which contains the given element from a list of tuples.\n",
    "    Data:\n",
    "        [(14, 3),(23, 41),(33, 62),(1, 3),(3, 3)] \n",
    "    Expected output:\n",
    "        [(14, 3), (1, 3), (3, 3)]\n",
    "        \n",
    "        \n",
    "        \n",
    "        "
   ]
  },
  {
   "cell_type": "code",
   "execution_count": 8,
   "metadata": {},
   "outputs": [
    {
     "name": "stdout",
     "output_type": "stream",
     "text": [
      "[(14, 3), (1, 3), (3, 3)]\n"
     ]
    }
   ],
   "source": [
    "data = [(14, 3), (23, 41), (33, 62), (1, 3), (3, 3)]\n",
    "target_element = 3\n",
    "\n",
    "result = [tup for tup in data if target_element in tup]\n",
    "print(result)"
   ]
  },
  {
   "cell_type": "code",
   "execution_count": null,
   "metadata": {},
   "outputs": [],
   "source": [
    "9. Write a Python program to convert string values from a given list into a list of tuples, using map() and eval() functions.\n",
    "    Data:\n",
    "        [\"('Boss', 3)\", \"('Suresh', 6)\", \"('Dinesh', 9)\"]\n",
    "    Expected output: \n",
    "        The original list is : [\"('Boss', 3)\", \"('Suresh', 6)\", \"('Dinesh', 9)\"]\n",
    "        The list tuple after conversion : [('Boss', 3), ('Suresh', 6), ('Dinesh', 9)]\n",
    "            \n",
    "            \n",
    "            \n",
    "            "
   ]
  },
  {
   "cell_type": "code",
   "execution_count": 9,
   "metadata": {},
   "outputs": [
    {
     "name": "stdout",
     "output_type": "stream",
     "text": [
      "The original list is : [\"('Boss', 3)\", \"('Suresh', 6)\", \"('Dinesh', 9)\"]\n",
      "The list tuple after conversion : [('Boss', 3), ('Suresh', 6), ('Dinesh', 9)]\n"
     ]
    }
   ],
   "source": [
    "\n",
    "data = [\"('Boss', 3)\", \"('Suresh', 6)\", \"('Dinesh', 9)\"]\n",
    "\n",
    "\n",
    "print(\"The original list is :\", data)\n",
    "\n",
    "converted_list = list(map(eval, data))\n",
    "\n",
    "\n",
    "print(\"The list tuple after conversion :\", converted_list)"
   ]
  },
  {
   "cell_type": "code",
   "execution_count": null,
   "metadata": {},
   "outputs": [],
   "source": [
    "10. Write a Python program to print only those tuples which has all positive elements in it.\n",
    "    Data:\n",
    "        [(4, 5, 9), (-3, 2, 3), (-3, 5, 6), (4, 6)]\n",
    "    Expected output:\n",
    "        The original list is : [(4, 5, 9), (-3, 2, 3), (-3, 5, 6), (4, 6)]\n",
    "        Positive elements Tuples : [(4, 5, 9), (4, 6)]\n",
    "            \n",
    "            \n",
    "            \n",
    "            "
   ]
  },
  {
   "cell_type": "code",
   "execution_count": 10,
   "metadata": {},
   "outputs": [
    {
     "name": "stdout",
     "output_type": "stream",
     "text": [
      "The original list is : [(4, 5, 9), (-3, 2, 3), (-3, 5, 6), (4, 6)]\n",
      "Positive elements Tuples : [(4, 5, 9), (4, 6)]\n"
     ]
    }
   ],
   "source": [
    "data = [(4, 5, 9), (-3, 2, 3), (-3, 5, 6), (4, 6)]\n",
    "print(\"The original list is :\", data)\n",
    "positive_tuples = []\n",
    "for tup in data:\n",
    "    if all(x > 0 for x in tup):\n",
    "        positive_tuples.append(tup)\n",
    "print(\"Positive elements Tuples :\", positive_tuples)"
   ]
  },
  {
   "cell_type": "code",
   "execution_count": null,
   "metadata": {},
   "outputs": [],
   "source": []
  }
 ],
 "metadata": {
  "kernelspec": {
   "display_name": "Python 3 (ipykernel)",
   "language": "python",
   "name": "python3"
  },
  "language_info": {
   "codemirror_mode": {
    "name": "ipython",
    "version": 3
   },
   "file_extension": ".py",
   "mimetype": "text/x-python",
   "name": "python",
   "nbconvert_exporter": "python",
   "pygments_lexer": "ipython3",
   "version": "3.12.7"
  }
 },
 "nbformat": 4,
 "nbformat_minor": 4
}

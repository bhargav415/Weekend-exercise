{
 "cells": [
  {
   "cell_type": "markdown",
   "metadata": {},
   "source": [
    "# Nested List Intermediate Questions"
   ]
  },
  {
   "cell_type": "code",
   "execution_count": null,
   "metadata": {},
   "outputs": [],
   "source": [
    "1. Write a python program to create nested list of matrix.\n",
    "    matrix = [[0, 1, 2, 3, 4],[0, 1, 2, 3, 4],[0, 1, 2, 3, 4],[0, 1, 2, 3, 4],[0, 1, 2, 3, 4]]\n",
    "\n",
    "    \n",
    "    \n",
    "    "
   ]
  },
  {
   "cell_type": "code",
   "execution_count": 1,
   "metadata": {},
   "outputs": [
    {
     "name": "stdout",
     "output_type": "stream",
     "text": [
      "[[0, 1, 2, 3, 4], [0, 1, 2, 3, 4], [0, 1, 2, 3, 4], [0, 1, 2, 3, 4], [0, 1, 2, 3, 4]]\n"
     ]
    }
   ],
   "source": [
    "matrix = [[i for i in range(5)] for _ in range(5)]\n",
    "print(matrix)"
   ]
  },
  {
   "cell_type": "code",
   "execution_count": null,
   "metadata": {},
   "outputs": [],
   "source": [
    "2. Write a python program to flatten a given nested list.\n",
    "    Data:\n",
    "        x = [[1, 2, 3], [4, 5, 6], [7, 8, 9]]\n",
    "    Expected Output: \n",
    "        [1, 2, 3, 4, 5, 6, 7, 8, 9]\n",
    "        \n",
    "        \n",
    "        \n",
    "        "
   ]
  },
  {
   "cell_type": "code",
   "execution_count": 3,
   "metadata": {},
   "outputs": [
    {
     "name": "stdout",
     "output_type": "stream",
     "text": [
      "[1, 2, 3, 4, 5, 6, 7, 8, 9]\n"
     ]
    }
   ],
   "source": [
    "\n",
    "my_list = [ [1,2, 3], [4, 5, 6], [7, 8, 9]]\n",
    "\n",
    "flat_list = [num for sublist in my_list for num in sublist]\n",
    "print(flat_list)"
   ]
  },
  {
   "cell_type": "code",
   "execution_count": null,
   "metadata": {},
   "outputs": [],
   "source": [
    "3. Write a python program to flatten a given 2-D list and only include those strings whose length are less than 6.\n",
    "    Data:\n",
    "        name = [[\"boss\", \"suresh\", \"karthi\"], [\"dinesh\", \"sai\", \"kumar\"], [\"murugan\", \"siva\", \"balu\"]]\n",
    "    Expected Output:\n",
    "        ['boss', 'sai', 'kumar', 'siva', 'balu']\n",
    "        \n",
    "        \n",
    "        \n",
    "        "
   ]
  },
  {
   "cell_type": "code",
   "execution_count": null,
   "metadata": {},
   "outputs": [],
   "source": [
    "4. Write a Python program to print a nested list, each list in a new line.\n",
    "    Data:\n",
    "        name = [['suresh'], ['boss'], ['kumar']]\n",
    "    Expected Output:\n",
    "        ['suresh']\n",
    "        ['boss']\n",
    "        ['kumar']\n",
    "        \n",
    "        \n",
    "        \n",
    "        \n",
    "        "
   ]
  },
  {
   "cell_type": "code",
   "execution_count": 4,
   "metadata": {},
   "outputs": [
    {
     "name": "stdout",
     "output_type": "stream",
     "text": [
      "['suresh']\n",
      "['boss']\n",
      "['kumar']\n"
     ]
    }
   ],
   "source": [
    "name = [['suresh'], ['boss'], ['kumar']]\n",
    "\n",
    "for sublist in name:\n",
    "    print(sublist)"
   ]
  },
  {
   "cell_type": "code",
   "execution_count": null,
   "metadata": {},
   "outputs": [],
   "source": [
    "5. Write a Python program to split a list after every nth element.\n",
    "    Data:\n",
    "        ['a', 'b', 'c', 'd', 'e', 'f', 'g', 'h', 'i', 'j', 'k', 'l', 'm', 'n']\n",
    "    Expected Output:\n",
    "        [['a', 'd', 'g', 'j', 'm'], ['b', 'e', 'h', 'k', 'n'], ['c', 'f', 'i', 'l']]\n",
    "        \n",
    "        \n",
    "        \n",
    "        "
   ]
  },
  {
   "cell_type": "code",
   "execution_count": 5,
   "metadata": {},
   "outputs": [
    {
     "name": "stdout",
     "output_type": "stream",
     "text": [
      "[['a', 'd', 'g', 'j', 'm'], ['b', 'e', 'h', 'k', 'n'], ['c', 'f', 'i', 'l']]\n"
     ]
    }
   ],
   "source": [
    "C = ['a', 'b', 'c', 'd', 'e', 'f', 'g', 'h', 'i', 'j', 'k', 'l', 'm', 'n']\n",
    "\n",
    "def list_slice(S, step):\n",
    "    return [S[i::step] for i in range(step)]\n",
    "print(list_slice(C, 3))\n"
   ]
  },
  {
   "cell_type": "code",
   "execution_count": null,
   "metadata": {},
   "outputs": [],
   "source": [
    "6. Write a Python program to find the list in a list of lists whose sum of elements is the highest. \n",
    "    Data:\n",
    "        [1,2,3], [4,5,6], [7,8,9], [10,11,12]\n",
    "    Expected Output: \n",
    "        [10, 11, 12]\n",
    "        \n",
    "        \n",
    "        \n",
    "        "
   ]
  },
  {
   "cell_type": "code",
   "execution_count": 6,
   "metadata": {},
   "outputs": [
    {
     "name": "stdout",
     "output_type": "stream",
     "text": [
      "[10, 11, 12]\n"
     ]
    }
   ],
   "source": [
    "num = [[1, 2, 3], [4, 5, 6], [10, 11, 12], [7, 8, 9]]\n",
    "print(max(num, key=sum))"
   ]
  },
  {
   "cell_type": "code",
   "execution_count": null,
   "metadata": {},
   "outputs": [],
   "source": [
    "7. Write a Python program to remove duplicates from a list of lists. \n",
    "    Data: \n",
    "        [[10, 20], [40], [30, 56, 25], [10, 20], [33], [40]]\n",
    "    Expected Output: \n",
    "        [[10, 20], [30, 56, 25], [33], [40]]\n",
    "        \n",
    "        \n",
    "        \n",
    "        "
   ]
  },
  {
   "cell_type": "code",
   "execution_count": 7,
   "metadata": {},
   "outputs": [
    {
     "name": "stdout",
     "output_type": "stream",
     "text": [
      "Original List [[10, 20], [40], [30, 56, 25], [10, 20], [33], [40]]\n",
      "New List [[10, 20], [30, 56, 25], [33], [40]]\n"
     ]
    }
   ],
   "source": [
    "import itertools\n",
    "\n",
    "num = [[10, 20], [40], [30, 56, 25], [10, 20], [33], [40]]\n",
    "\n",
    "\n",
    "print(\"Original List\", num)\n",
    "\n",
    "\n",
    "num.sort()\n",
    "\n",
    "\n",
    "new_num = list(num for num, _ in itertools.groupby(num))\n",
    "\n",
    "\n",
    "print(\"New List\", new_num)"
   ]
  },
  {
   "cell_type": "code",
   "execution_count": null,
   "metadata": {},
   "outputs": [],
   "source": [
    "8. Write a Python program to create a multidimensional list (list of lists) with zeros.\n",
    "    Expected Output:\n",
    "        [[0, 0], [0, 0], [0, 0]]\n",
    "        \n",
    "        \n",
    "        \n",
    "        "
   ]
  },
  {
   "cell_type": "code",
   "execution_count": 8,
   "metadata": {},
   "outputs": [
    {
     "name": "stdout",
     "output_type": "stream",
     "text": [
      "[[0, 0], [0, 0], [0, 0]]\n"
     ]
    }
   ],
   "source": [
    "# Define the number of rows and columns for the multidimensional list\n",
    "rows = 3\n",
    "cols = 2\n",
    "multidimensional_list = [[0 for _ in range(cols)] for _ in range(rows)]\n",
    "\n",
    "\n",
    "print(multidimensional_list)"
   ]
  },
  {
   "cell_type": "code",
   "execution_count": null,
   "metadata": {},
   "outputs": [],
   "source": [
    "9. Write a Python program to create a 3X3 grid with numbers which is a nested list.\n",
    "    Expected Output:\n",
    "        [[1, 2, 3], [1, 2, 3], [1, 2, 3]]\n",
    "        \n",
    "        \n",
    "        \n",
    "        "
   ]
  },
  {
   "cell_type": "code",
   "execution_count": 9,
   "metadata": {},
   "outputs": [
    {
     "name": "stdout",
     "output_type": "stream",
     "text": [
      "[[1, 2, 3], [1, 2, 3], [1, 2, 3]]\n"
     ]
    }
   ],
   "source": [
    "grid = []\n",
    "for _ in range(3):  \n",
    "    row = []\n",
    "    for j in range(1, 4):  \n",
    "        row.append(j)\n",
    "    grid.append(row)\n",
    "\n",
    "print(grid)"
   ]
  },
  {
   "cell_type": "code",
   "execution_count": null,
   "metadata": {},
   "outputs": [],
   "source": [
    "10. Write a Python program to Zip two given list of lists into a single nested list. \n",
    "     Data:\n",
    "        [[1, 3], [5, 7], [9, 11]]\n",
    "        [[2, 4], [6, 8], [10, 12, 14]]\n",
    "    Expected Output:\n",
    "        [[1, 3, 2, 4], [5, 7, 6, 8], [9, 11, 10, 12, 14]]\n",
    "        \n",
    "        \n",
    "        \n",
    "        "
   ]
  },
  {
   "cell_type": "code",
   "execution_count": 10,
   "metadata": {},
   "outputs": [
    {
     "name": "stdout",
     "output_type": "stream",
     "text": [
      "[[1, 3, 2, 4], [5, 7, 6, 8], [9, 11, 10, 12, 14]]\n"
     ]
    }
   ],
   "source": [
    "list1 = [[1, 3], [5, 7], [9, 11]]\n",
    "list2 = [[2, 4], [6, 8], [10, 12, 14]]\n",
    "\n",
    "def zip_nested_lists(list1, list2):\n",
    "    result = []\n",
    "    for sublist1, sublist2 in zip(list1, list2):\n",
    "        result.append(sublist1 + sublist2)\n",
    "    return result\n",
    "\n",
    "zipped_list = zip_nested_lists(list1, list2)\n",
    "print(zipped_list)"
   ]
  },
  {
   "cell_type": "code",
   "execution_count": null,
   "metadata": {},
   "outputs": [],
   "source": []
  }
 ],
 "metadata": {
  "kernelspec": {
   "display_name": "Python 3 (ipykernel)",
   "language": "python",
   "name": "python3"
  },
  "language_info": {
   "codemirror_mode": {
    "name": "ipython",
    "version": 3
   },
   "file_extension": ".py",
   "mimetype": "text/x-python",
   "name": "python",
   "nbconvert_exporter": "python",
   "pygments_lexer": "ipython3",
   "version": "3.12.7"
  }
 },
 "nbformat": 4,
 "nbformat_minor": 4
}

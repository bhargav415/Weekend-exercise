{
 "cells": [
  {
   "cell_type": "markdown",
   "metadata": {},
   "source": [
    "# Tuple Hard Questions"
   ]
  },
  {
   "cell_type": "code",
   "execution_count": null,
   "metadata": {},
   "outputs": [],
   "source": [
    "1. Write a Python program to sum all the elements of each tuple stored in a list.\n",
    "    Data:\n",
    "        list of tuples:\n",
    "        [(5, 4), (5, 3), (2, 4)]\n",
    "        [(1, 2, 4), (3, 4, -6), (3, 5), (1, 4, 2, 2)]\n",
    "    Expected Output:\n",
    "        Sum of all the elements of each tuple:\n",
    "        [9, 8, 6]\n",
    "        [7, 1, 8, 9]\n",
    "\n",
    "        \n",
    "        \n",
    "        "
   ]
  },
  {
   "cell_type": "code",
   "execution_count": 1,
   "metadata": {},
   "outputs": [
    {
     "name": "stdout",
     "output_type": "stream",
     "text": [
      "Original list of tuples:\n",
      "[(1, 2), (2, 3), (3, 4)]\n",
      "\n",
      "Sum of all the elements of each tuple stored inside the said list of tuples:\n",
      "[3, 5, 7]\n",
      "\n",
      "Original list of tuples:\n",
      "[(1, 2, 6), (2, 3, -6), (3, 4), (2, 2, 2, 2)]\n",
      "\n",
      "Sum of all the elements of each tuple stored inside the said list of tuples:\n",
      "[9, -1, 7, 8]\n"
     ]
    }
   ],
   "source": [
    "\n",
    "def test(lst):\n",
    "    \n",
    "    result = map(sum, lst)\n",
    "    \n",
    "    \n",
    "    return list(result)\n",
    "\n",
    "nums = [(1, 2), (2, 3), (3, 4)]\n",
    "\n",
    "\n",
    "print(\"Original list of tuples:\")\n",
    "print(nums)\n",
    "\n",
    "\n",
    "print(\"\\nSum of all the elements of each tuple stored inside the said list of tuples:\")\n",
    "print(test(nums))\n",
    "\n",
    "nums = [(1, 2, 6), (2, 3, -6), (3, 4), (2, 2, 2, 2)]\n",
    "\n",
    "\n",
    "print(\"\\nOriginal list of tuples:\")\n",
    "print(nums)\n",
    "\n",
    "\n",
    "\n",
    "print(\"\\nSum of all the elements of each tuple stored inside the said list of tuples:\")\n",
    "print(test(nums))\n"
   ]
  },
  {
   "cell_type": "code",
   "execution_count": null,
   "metadata": {},
   "outputs": [],
   "source": [
    "'''2. Write a Python program to compute element-wise sum of given tuples. \n",
    "    Data:\n",
    "        list of tuples:\n",
    "        x = (1,2,3,4), y = (3,5,2,1), z = (2,2,3,1), l = (1,2,3,4)\n",
    "    Expected Output:\n",
    "        Element-wise sum of the said tuples:\n",
    "        (7, 11, 11, 10) '''\n",
    "\n",
    "# Didnt understand the question      \n",
    "        \n",
    "        "
   ]
  },
  {
   "cell_type": "code",
   "execution_count": 3,
   "metadata": {},
   "outputs": [
    {
     "name": "stdout",
     "output_type": "stream",
     "text": [
      "Original lists:\n",
      "(1, 2, 3, 4)\n",
      "(3, 5, 2, 1)\n",
      "(2, 2, 3, 1)\n",
      "(1, 2, 3, 4)\n",
      "\n",
      "Element-wise sum of the said tuples:\n",
      "(7, 11, 11, 10)\n"
     ]
    }
   ],
   "source": [
    "\n",
    "x = (1, 2, 3, 4)\n",
    "y = (3, 5, 2, 1)\n",
    "z = (2, 2, 3, 1)\n",
    "l = (1, 2, 3, 4)\n",
    "\n",
    "\n",
    "print(\"Original lists:\")\n",
    "print(x)\n",
    "print(y)\n",
    "print(z)\n",
    "print(l)\n",
    "\n",
    "\n",
    "\n",
    "result = tuple(map(sum, zip(x, y, z),l))\n",
    "\n",
    "\n",
    "print(\"\\nElement-wise sum of the said tuples:\")\n",
    "print(result)\n"
   ]
  },
  {
   "cell_type": "code",
   "execution_count": null,
   "metadata": {},
   "outputs": [],
   "source": [
    "3. Write a Python program to check whether a specified element is present in a given nested tuple.\n",
    "    Data:\n",
    "        list of tuples:\n",
    "        (('Coffee', 'Tea', 'Boost'), ('Badam', 'Pista', 'Walnut'), ('Sangeetha', 'A2B', 'Saravana'))\n",
    "    Expected Output:\n",
    "        Check if Bournvita present in said tuple of tuples! False\n",
    "        Check if Saravana present in said tuple of tuples! True\n",
    "        \n",
    "        \n",
    "        "
   ]
  },
  {
   "cell_type": "code",
   "execution_count": 4,
   "metadata": {},
   "outputs": [
    {
     "name": "stdout",
     "output_type": "stream",
     "text": [
      "Check if Bournvita present in said tuple of tuples! False\n",
      "Check if Saravana present in said tuple of tuples! True\n"
     ]
    }
   ],
   "source": [
    "\n",
    "data = (('Coffee', 'Tea', 'Boost'), ('Badam', 'Pista', 'Walnut'), ('Sangeetha', 'A2B', 'Saravana'))\n",
    "\n",
    "def check_element(nested_tuple, element):\n",
    "    # Iterate through each inner tuple\n",
    "    for inner_tuple in nested_tuple:\n",
    "        if element in inner_tuple:\n",
    "            return True\n",
    "    return False\n",
    "\n",
    "\n",
    "element1 = \"Bournvita\"\n",
    "element2 = \"Saravana\"\n",
    "\n",
    "print(f\"Check if {element1} present in said tuple of tuples! {check_element(data, element1)}\")\n",
    "print(f\"Check if {element2} present in said tuple of tuples! {check_element(data, element2)}\")\n"
   ]
  },
  {
   "cell_type": "code",
   "execution_count": null,
   "metadata": {},
   "outputs": [],
   "source": [
    "4. Write a Python program to convert a given tuple of integers into an integer.\n",
    "    Data:\n",
    "        Example tuple: \n",
    "        (9, 20, 40, 10, 70)\n",
    "    Expected Output:\n",
    "        positive integers:\n",
    "        920401070\n",
    "        \n",
    "        "
   ]
  },
  {
   "cell_type": "code",
   "execution_count": 7,
   "metadata": {},
   "outputs": [
    {
     "name": "stdout",
     "output_type": "stream",
     "text": [
      "Original tuple: (9, 20, 40, 10, 70)\n",
      "Converted integer: 920401070\n"
     ]
    }
   ],
   "source": [
    "def convert_tuple_to_integer(input_tuple):\n",
    "  \n",
    "  string_elements = map(str, input_tuple)\n",
    "\n",
    "  \n",
    "  concatenated_string = \"\".join(string_elements)\n",
    "\n",
    "  \n",
    "  result_integer = int(concatenated_string)\n",
    "\n",
    "  return result_integer\n",
    "\n",
    "# Example usage:\n",
    "example_tuple = (9, 20, 40, 10, 70)\n",
    "converted_integer = convert_tuple_to_integer(example_tuple)\n",
    "\n",
    "print(f\"Original tuple: {example_tuple}\")\n",
    "print(f\"Converted integer: {converted_integer}\")"
   ]
  },
  {
   "cell_type": "code",
   "execution_count": null,
   "metadata": {},
   "outputs": [],
   "source": [
    "5. Write a Python program to convert a tuple of string values into a tuple of integer values. \n",
    "    Data:\n",
    "        tuple values:\n",
    "        (('222', '33'), ('546', '678'))\n",
    "    Expected Output:\n",
    "        New tuple values:\n",
    "        ((222, 33), (546, 678))\n",
    "        \n",
    "        \n",
    "        "
   ]
  },
  {
   "cell_type": "code",
   "execution_count": 8,
   "metadata": {},
   "outputs": [
    {
     "name": "stdout",
     "output_type": "stream",
     "text": [
      "New tuple values:\n",
      "((222, 33), (546, 678))\n"
     ]
    }
   ],
   "source": [
    "\n",
    "data = (('222', '33'), ('546', '678'))\n",
    "\n",
    "new_data = tuple(tuple(int(num) for num in inner) for inner in data)\n",
    "\n",
    "print(\"New tuple values:\")\n",
    "print(new_data)\n"
   ]
  },
  {
   "cell_type": "code",
   "execution_count": null,
   "metadata": {},
   "outputs": [],
   "source": [
    "6. Write a Python program to calculate the average value of the numbers in a given tuple of tuples. \n",
    "    Data:\n",
    "        Example Tuple: \n",
    "        ((5, 30, 10, 12), (30, 20, 56, 54), (26, 80, 67, 32), (1, 4, 3, 9))\n",
    "        ((1, 1, -7), (10, -15, 56), (71, -60, -39), (-10, 2, 9))\n",
    "    Expected Output:\n",
    "        Average value of the numbers:\n",
    "        [15.5, 33.5, 34.0, 26.75]\n",
    "        [18.0, -18.0, 4.75]\n",
    "        \n",
    "        \n",
    "        \n",
    "        "
   ]
  },
  {
   "cell_type": "code",
   "execution_count": 9,
   "metadata": {},
   "outputs": [
    {
     "name": "stdout",
     "output_type": "stream",
     "text": [
      "Average value of the numbers:\n",
      "[14.25, 40.0, 51.25, 4.25]\n",
      "[-1.6666666666666667, 17.0, -9.333333333333334, 0.3333333333333333]\n"
     ]
    }
   ],
   "source": [
    "def average_of_tuples(data):\n",
    "    averages = []\n",
    "    for inner_tuple in data:\n",
    "        avg = sum(inner_tuple) / len(inner_tuple)\n",
    "        averages.append(avg)\n",
    "    return averages\n",
    "\n",
    "\n",
    "data1 = ((5, 30, 10, 12), (30, 20, 56, 54), (26, 80, 67, 32), (1, 4, 3, 9))\n",
    "data2 = ((1, 1, -7), (10, -15, 56), (71, -60, -39), (-10, 2, 9))\n",
    "\n",
    "\n",
    "averages1 = average_of_tuples(data1)\n",
    "averages2 = average_of_tuples(data2)\n",
    "\n",
    "print(\"Average value of the numbers:\")\n",
    "print(averages1)\n",
    "print(averages2)\n"
   ]
  },
  {
   "cell_type": "code",
   "execution_count": null,
   "metadata": {},
   "outputs": [],
   "source": [
    "7. Write a Python program to multiply all the elements of a given tuple. \n",
    "    Data:\n",
    "        Example Tuple: \n",
    "        (4, 3, 5, 2, -2, 10)\n",
    "        (2, 6, 8, 7, 3, 1, 9)\n",
    "    Expected Output:\n",
    "        multiplying all the numbers: -2400\n",
    "        multiplying all the numbers: 18144\n",
    "            \n",
    "            "
   ]
  },
  {
   "cell_type": "code",
   "execution_count": 10,
   "metadata": {},
   "outputs": [
    {
     "name": "stdout",
     "output_type": "stream",
     "text": [
      "multiplying all the numbers: -2400\n",
      "multiplying all the numbers: 18144\n"
     ]
    }
   ],
   "source": [
    "def multiply_tuple_elements(input_tuple):\n",
    "\n",
    "\n",
    "  product = 1\n",
    "  for number in input_tuple:\n",
    "    product *= number\n",
    "  return product\n",
    "\n",
    "\n",
    "tuple1 = (4, 3, 5, 2, -2, 10)\n",
    "tuple2 = (2, 6, 8, 7, 3, 1, 9)\n",
    "\n",
    "print(f\"multiplying all the numbers: {multiply_tuple_elements(tuple1)}\")\n",
    "print(f\"multiplying all the numbers: {multiply_tuple_elements(tuple2)}\")"
   ]
  },
  {
   "cell_type": "code",
   "execution_count": null,
   "metadata": {},
   "outputs": [],
   "source": [
    "8. Write a Python program to convert a given string into a tuple.\n",
    "    Data:\n",
    "        Example string:\n",
    "        aidinasaur.com\n",
    "        <class 'str'>\n",
    "    Expected Output:\n",
    "        Convert the said string to a tuple:\n",
    "        ('a', 'i', 'd', 'i', 'n', 'a', 's', 'a', 'u', 'r', '.', 'c', 'o', 'm')\n",
    "        <class 'tuple'>     \n",
    "        \n",
    "        "
   ]
  },
  {
   "cell_type": "code",
   "execution_count": 11,
   "metadata": {},
   "outputs": [
    {
     "name": "stdout",
     "output_type": "stream",
     "text": [
      "Original string: aidinasaur.com <class 'str'>\n",
      "Converted tuple: ('a', 'i', 'd', 'i', 'n', 'a', 's', 'a', 'u', 'r', '.', 'c', 'o', 'm') <class 'tuple'>\n"
     ]
    }
   ],
   "source": [
    "def string_to_tuple(input_string):\n",
    "\n",
    "  return tuple(input_string)\n",
    "\n",
    "example_string = \"aidinasaur.com\"\n",
    "result_tuple = string_to_tuple(example_string)\n",
    "print(f\"Original string: {example_string} <class 'str'>\")\n",
    "print(f\"Converted tuple: {result_tuple} <class 'tuple'>\")"
   ]
  },
  {
   "cell_type": "code",
   "execution_count": 2,
   "metadata": {},
   "outputs": [],
   "source": [
    "9. Write a Python Program to Read a Number n and Compute n+nn+nnn using tuple. Get the input from user.\n",
    "    Expected Output:\n",
    "        Enter a number n : 5\n",
    "        The value is : 615"
   ]
  },
  {
   "cell_type": "code",
   "execution_count": 12,
   "metadata": {},
   "outputs": [
    {
     "name": "stdin",
     "output_type": "stream",
     "text": [
      "Enter a number n:  5\n"
     ]
    },
    {
     "name": "stdout",
     "output_type": "stream",
     "text": [
      "The value is : 615\n"
     ]
    }
   ],
   "source": [
    "n_str = input(\"Enter a number n: \")\n",
    "n = int(n_str)\n",
    "nn = int(n_str + n_str)\n",
    "nnn = int(n_str + n_str + n_str)\n",
    "result = n + nn + nnn\n",
    "print(\"The value is :\", result)"
   ]
  },
  {
   "cell_type": "code",
   "execution_count": 1,
   "metadata": {},
   "outputs": [],
   "source": [
    "10. Write a Python program to slice a tuple.\n",
    "    Data:\n",
    "        x = (2, 4, 3, 5, 4, 6, 7, 8, 6, 1)\n",
    "        y = tuple(\"HELLO NATURE\")\n",
    "    Expected Output:\n",
    "        (5, 4)\n",
    "        (2, 4, 3, 5, 4, 6)\n",
    "        (6, 7, 8, 6, 1)\n",
    "        (2, 4, 3, 5, 4, 6, 7, 8, 6, 1)\n",
    "        (3, 5, 4, 6)\n",
    "        ('H', 'E', 'L', 'L', 'O', ' ', 'N', 'A', 'T', 'U', 'R', 'E')\n",
    "        ('L', 'O', 'N', 'T')\n",
    "        ('H', 'O', 'T')\n",
    "        ('U', ' ')    \n",
    "        \n",
    "        "
   ]
  },
  {
   "cell_type": "code",
   "execution_count": 13,
   "metadata": {},
   "outputs": [
    {
     "name": "stdout",
     "output_type": "stream",
     "text": [
      "(5, 4)\n",
      "(2, 4, 3, 5, 4, 6)\n",
      "(6, 7, 8, 6, 1)\n",
      "(2, 4, 3, 5, 4, 6, 7, 8, 6, 1)\n",
      "(3, 5, 4, 6)\n",
      "('H', 'E', 'L', 'L', 'O', ' ', 'N', 'A', 'T', 'U', 'R', 'E')\n",
      "('L', 'L', 'O', ' ')\n",
      "('H', 'L', 'O', 'N')\n",
      "('N', 'A')\n"
     ]
    }
   ],
   "source": [
    "x = (2, 4, 3, 5, 4, 6, 7, 8, 6, 1)\n",
    "y = tuple(\"HELLO NATURE\")\n",
    "\n",
    "print(x[3:5])\n",
    "print(x[:6])\n",
    "print(x[5:])\n",
    "print(x[:])\n",
    "print(x[2:6])\n",
    "print(y)\n",
    "print(y[2:6])\n",
    "print(y[0:7:2])\n",
    "print(y[6:8])"
   ]
  },
  {
   "cell_type": "code",
   "execution_count": 2,
   "metadata": {},
   "outputs": [],
   "source": [
    "11. Write a Python program to print the calendar of a given month and year using tuple.\n",
    "    Data:\n",
    "        Input the year : 2012\n",
    "        Input the month : 4 \n",
    "    Expected Output:\n",
    "             April 2012\n",
    "        Mo Tu We Th Fr Sa Su\n",
    "                           1\n",
    "        2  3  4  5  6  7  8\n",
    "        9 10 11 12 13 14 15\n",
    "        16 17 18 19 20 21 22\n",
    "        23 24 25 26 27 28 29\n",
    "        30\n",
    "        \n",
    "        "
   ]
  },
  {
   "cell_type": "code",
   "execution_count": 18,
   "metadata": {},
   "outputs": [
    {
     "name": "stdin",
     "output_type": "stream",
     "text": [
      "Input the year :  2012\n",
      "Input the month :  4\n"
     ]
    },
    {
     "name": "stdout",
     "output_type": "stream",
     "text": [
      "     April 2012\n",
      "Mo Tu We Th Fr Sa Su\n",
      "                   1\n",
      " 2  3  4  5  6  7  8\n",
      " 9 10 11 12 13 14 15\n",
      "16 17 18 19 20 21 22\n",
      "23 24 25 26 27 28 29\n",
      "30\n",
      "\n"
     ]
    }
   ],
   "source": [
    "import calendar\n",
    "\n",
    "def print_month_calendar(year, month):\n",
    "    \n",
    "    cal = calendar.TextCalendar(calendar.MONDAY) \n",
    "    \n",
    "    \n",
    "    month_calendar_str = cal.formatmonth(year, month)\n",
    "    \n",
    "    \n",
    "    print(month_calendar_str)\n",
    "\n",
    "if __name__ == \"__main__\":\n",
    "    try:\n",
    "        # Get user input for the year\n",
    "        input_year = int(input(\"Input the year : \"))\n",
    "        \n",
    "        # Get user input for the month\n",
    "        input_month = int(input(\"Input the month : \"))\n",
    "\n",
    "        # Validate month input\n",
    "        if not (1 <= input_month <= 12):\n",
    "            print(\"Invalid month. Please enter a number between 1 and 12.\")\n",
    "        else:\n",
    "            # Call the function to print the calendar\n",
    "            print_month_calendar(input_year, input_month)\n",
    "\n",
    "    except ValueError:\n",
    "        print(\"Invalid input. Please enter integer values for year and month.\")"
   ]
  },
  {
   "cell_type": "code",
   "execution_count": 3,
   "metadata": {},
   "outputs": [],
   "source": [
    "12. Write a Python function to calculate the sum of given three numbers in a tuple. Return three times of their sum, if the values in a tuple are same.\n",
    "    Data:\n",
    "        (1, 2, 3) \n",
    "        (3, 3, 3)\n",
    "    Expected Output:\n",
    "        6\n",
    "        27\n",
    "        \n",
    "        "
   ]
  },
  {
   "cell_type": "code",
   "execution_count": 19,
   "metadata": {},
   "outputs": [
    {
     "name": "stdout",
     "output_type": "stream",
     "text": [
      "6\n",
      "27\n"
     ]
    }
   ],
   "source": [
    "\n",
    "def sum_thrice(x, y, z):\n",
    "    \n",
    "    sum = x + y + z\n",
    "\n",
    "    \n",
    "    if x == y == z:\n",
    "        # If they are equal, triple the sum\n",
    "        sum = sum * 3\n",
    "\n",
    "    # Return the final sum\n",
    "    return sum\n",
    "\n",
    "\n",
    "print(sum_thrice(1, 2, 3))\n",
    "\n",
    "\n",
    "print(sum_thrice(3, 3, 3))\n"
   ]
  },
  {
   "cell_type": "code",
   "execution_count": 4,
   "metadata": {},
   "outputs": [],
   "source": [
    "13. Write a Python program to count the number 4 in a given list of tuple.\n",
    "    Data:\n",
    "        tuples([1, 5, 6, 8, 4])\n",
    "        tuples([1, 4, 6, 2, 7, 5])\n",
    "    Expected Output:\n",
    "        1\n",
    "        1        \n",
    "        \n",
    "        "
   ]
  },
  {
   "cell_type": "code",
   "execution_count": 20,
   "metadata": {},
   "outputs": [
    {
     "name": "stdout",
     "output_type": "stream",
     "text": [
      "1\n",
      "1\n"
     ]
    }
   ],
   "source": [
    "def count_fours(data):\n",
    "  \n",
    "  count = 0\n",
    "  for element in data:\n",
    "    if isinstance(element, (list, tuple)):\n",
    "      count += count_fours(element) # Recursively count within nested structures\n",
    "    elif element == 4:\n",
    "      count += 1\n",
    "  return count\n",
    "\n",
    "\n",
    "list_data = [1, 5, 6, 8, 4]\n",
    "tuple_data = (1, 4, 6, 2, 7, 5)\n",
    "\n",
    "print(count_fours(list_data))\n",
    "print(count_fours(tuple_data))"
   ]
  },
  {
   "cell_type": "code",
   "execution_count": 5,
   "metadata": {},
   "outputs": [],
   "source": [
    "14. Write a Python function to check whether a specified letter in a tuple is a vowel or not. Return True if it a vowel, False if not.\n",
    "    Data:\n",
    "        vowel('c')\n",
    "        vowel('e')\n",
    "    Expected Output:\n",
    "        False\n",
    "        True\n",
    "        \n",
    "        "
   ]
  },
  {
   "cell_type": "code",
   "execution_count": 22,
   "metadata": {},
   "outputs": [
    {
     "name": "stdout",
     "output_type": "stream",
     "text": [
      "False\n",
      "True\n"
     ]
    }
   ],
   "source": [
    "def is_vowel(char):\n",
    "  vowels = {'a', 'e', 'i', 'o', 'u'}\n",
    "  return char.lower() in vowels\n",
    "\n",
    "\n",
    "print(is_vowel('c'))\n",
    "print(is_vowel('e'))\n"
   ]
  },
  {
   "cell_type": "code",
   "execution_count": 6,
   "metadata": {},
   "outputs": [],
   "source": [
    "15. Write a Python program to compute the greatest common divisor (GCD) of two given positive integers in a tuple.\n",
    "    Data:\n",
    "        a = (12, 17)    \n",
    "    Expected output:\n",
    "        1\n",
    "    "
   ]
  },
  {
   "cell_type": "code",
   "execution_count": 23,
   "metadata": {},
   "outputs": [
    {
     "name": "stdout",
     "output_type": "stream",
     "text": [
      "1\n"
     ]
    }
   ],
   "source": [
    "def compute_gcd(pair):\n",
    "    a, b = pair\n",
    "    while b:\n",
    "        a, b = b, a % b\n",
    "    return a\n",
    "\n",
    "a = (12, 17)\n",
    "print(compute_gcd(a))"
   ]
  },
  {
   "cell_type": "code",
   "execution_count": 7,
   "metadata": {},
   "outputs": [],
   "source": [
    "16. Write a Python program to compute the least common multiple (LCM) of two given positive integers in a tuple.\n",
    "    Data:\n",
    "        a = (4, 6)\n",
    "    Expected output:\n",
    "        12\n",
    "    \n",
    "    "
   ]
  },
  {
   "cell_type": "code",
   "execution_count": 24,
   "metadata": {},
   "outputs": [
    {
     "name": "stdout",
     "output_type": "stream",
     "text": [
      "12\n"
     ]
    }
   ],
   "source": [
    "def compute_gcd(pair):\n",
    "    a, b = pair\n",
    "    while b:\n",
    "        a, b = b, a % b\n",
    "    return a\n",
    "\n",
    "def compute_lcm(pair):\n",
    "    a, b = pair\n",
    "    gcd = compute_gcd(pair)\n",
    "    lcm = (a * b) // gcd\n",
    "    return lcm\n",
    "\n",
    "a = (4, 6)\n",
    "print(compute_lcm(a))"
   ]
  },
  {
   "cell_type": "code",
   "execution_count": 8,
   "metadata": {},
   "outputs": [],
   "source": [
    "17. Write a Python program to calculate the hypotenuse of a right angled triangle. \n",
    "    Data:\n",
    "        Input lengths of shorter triangle sides:\n",
    "            a: 4\n",
    "            b: 5\n",
    "    Expected Output:\n",
    "        length of the hypotenuse is 6.4031242374328485 \n",
    "        \n",
    "        \n",
    "        "
   ]
  },
  {
   "cell_type": "code",
   "execution_count": 25,
   "metadata": {},
   "outputs": [
    {
     "name": "stdin",
     "output_type": "stream",
     "text": [
      "a:  4\n",
      "b:  5\n"
     ]
    },
    {
     "name": "stdout",
     "output_type": "stream",
     "text": [
      "length of the hypotenuse is 6.4031242374328485\n"
     ]
    }
   ],
   "source": [
    "import math\n",
    "\n",
    "\n",
    "a = float(input(\"a: \"))\n",
    "b = float(input(\"b: \"))\n",
    "\n",
    "hypotenuse = math.sqrt(a**2 + b**2)\n",
    "\n",
    "print(\"length of the hypotenuse is\", hypotenuse)"
   ]
  },
  {
   "cell_type": "code",
   "execution_count": 9,
   "metadata": {},
   "outputs": [],
   "source": [
    "18. Write a Python program to check whether a given variable is a list or a tuple or a set.\n",
    "    Data:\n",
    "        x = ('tuple', True, 5.2, 9)\n",
    "    Expected Output:\n",
    "        x is a tuple     \n",
    "        \n",
    "        "
   ]
  },
  {
   "cell_type": "code",
   "execution_count": 26,
   "metadata": {},
   "outputs": [
    {
     "name": "stdout",
     "output_type": "stream",
     "text": [
      "x is a tuple\n"
     ]
    }
   ],
   "source": [
    "x = ('tuple', True, 5.2, 9)\n",
    "\n",
    "if isinstance(x, list):\n",
    "    print(\"x is a list\")\n",
    "elif isinstance(x, tuple):\n",
    "    print(\"x is a tuple\")\n",
    "elif isinstance(x, set):\n",
    "    print(\"x is a set\")\n",
    "else:\n",
    "    print(\"x is neither a list, a tuple, nor a set.\")"
   ]
  },
  {
   "cell_type": "code",
   "execution_count": 10,
   "metadata": {},
   "outputs": [],
   "source": [
    "19. Write a Python program to update the element \"banana\" into \"kiwi\" that is stored in a tuple.\n",
    "    Data:\n",
    "        x = (\"apple\", \"banana\", \"cherry\")\n",
    "    Expected Output:\n",
    "        ('apple', 'banana', 'cherry')\n",
    "        ('apple', 'kiwi', 'cherry')       \n",
    "        \n",
    "        "
   ]
  },
  {
   "cell_type": "code",
   "execution_count": 27,
   "metadata": {},
   "outputs": [
    {
     "name": "stdout",
     "output_type": "stream",
     "text": [
      "('apple', 'banana', 'cherry')\n",
      "('apple', 'kiwi', 'cherry')\n"
     ]
    }
   ],
   "source": [
    "x = (\"apple\", \"banana\", \"cherry\")\n",
    "print(x)\n",
    "y = list(x)\n",
    "y[1] = \"kiwi\"\n",
    "x = tuple(y)\n",
    "print(x)"
   ]
  },
  {
   "cell_type": "code",
   "execution_count": null,
   "metadata": {},
   "outputs": [],
   "source": [
    "20. Write a Python program to convert a tuple into a dictionary.\n",
    "    Data:\n",
    "        x = ((\"boss\", 10), (\"suresh\", 12), (\"anand\", 14), (\"siva\", 20), (\"bala\", 25), (\"karthi\", 30))\n",
    "    Expected Output:\n",
    "        {10: 'boss', 12: 'suresh', 14: 'anand', 20: 'siva', 25: 'bala', 30: 'karthi'}\n",
    "        \n",
    "        "
   ]
  },
  {
   "cell_type": "code",
   "execution_count": 28,
   "metadata": {},
   "outputs": [
    {
     "name": "stdout",
     "output_type": "stream",
     "text": [
      "{10: 'boss', 12: 'suresh', 14: 'anand', 20: 'siva', 25: 'bala', 30: 'karthi'}\n"
     ]
    }
   ],
   "source": [
    "x = ((\"boss\", 10), (\"suresh\", 12), (\"anand\", 14), (\"siva\", 20), (\"bala\", 25), (\"karthi\", 30))\n",
    "\n",
    "result = {value: key for key, value in x}\n",
    "\n",
    "print(result)\n"
   ]
  },
  {
   "cell_type": "code",
   "execution_count": null,
   "metadata": {},
   "outputs": [],
   "source": [
    "# Doubt:- Didnt understand the question #2"
   ]
  }
 ],
 "metadata": {
  "kernelspec": {
   "display_name": "Python 3 (ipykernel)",
   "language": "python",
   "name": "python3"
  },
  "language_info": {
   "codemirror_mode": {
    "name": "ipython",
    "version": 3
   },
   "file_extension": ".py",
   "mimetype": "text/x-python",
   "name": "python",
   "nbconvert_exporter": "python",
   "pygments_lexer": "ipython3",
   "version": "3.12.7"
  }
 },
 "nbformat": 4,
 "nbformat_minor": 4
}

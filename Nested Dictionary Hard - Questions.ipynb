{
 "cells": [
  {
   "cell_type": "markdown",
   "metadata": {},
   "source": [
    "# Nested Dictionary Hard Questions"
   ]
  },
  {
   "cell_type": "code",
   "execution_count": null,
   "metadata": {},
   "outputs": [],
   "source": [
    "1. Write a Python program to remove duplicates from a given nested dictionary.\n",
    "    Data:\n",
    "        student = {'id1': \n",
    "   {'name': ['Boss'], \n",
    "    'class': ['V'], \n",
    "    'subject_integration': ['english, math, science']\n",
    "   },\n",
    " 'id2': \n",
    "  {'name': ['Siva'], \n",
    "    'class': ['V'], \n",
    "    'subject_integration': ['english, math, science']\n",
    "   },\n",
    " 'id3': \n",
    "    {'name': ['Boss'], \n",
    "    'class': ['V'], \n",
    "    'subject_integration': ['english, math, science']\n",
    "   },\n",
    " 'id4': \n",
    "   {'name': ['Surya'], \n",
    "    'class': ['V'], \n",
    "    'subject_integration': ['english, math, science']\n",
    "   },\n",
    "}\n",
    "    Expected Output:\n",
    "        {'id1': {'name': ['Boss'], 'class': ['V'], 'subject_integration': ['english, math, science']}, \n",
    "         'id2': {'name': ['Siva'], 'class': ['V'], 'subject_integration': ['english, math, science']}, \n",
    "         'id4': {'name': ['Surya'], 'class': ['V'], 'subject_integration': ['english, math, science']}}\n",
    "        \n",
    "        \n",
    "        \n",
    "        "
   ]
  },
  {
   "cell_type": "code",
   "execution_count": 1,
   "metadata": {},
   "outputs": [
    {
     "name": "stdout",
     "output_type": "stream",
     "text": [
      "{'id1': {'name': ['Boss'], 'class': ['V'], 'subject_integration': ['english, math, science']}, 'id2': {'name': ['Siva'], 'class': ['V'], 'subject_integration': ['english, math, science']}, 'id4': {'name': ['Surya'], 'class': ['V'], 'subject_integration': ['english, math, science']}}\n"
     ]
    }
   ],
   "source": [
    "student = {\n",
    "    'id1': {'name': ['Boss'], 'class': ['V'], 'subject_integration': ['english, math, science']},\n",
    "    'id2': {'name': ['Siva'], 'class': ['V'], 'subject_integration': ['english, math, science']},\n",
    "    'id3': {'name': ['Boss'], 'class': ['V'], 'subject_integration': ['english, math, science']},\n",
    "    'id4': {'name': ['Surya'], 'class': ['V'], 'subject_integration': ['english, math, science']},\n",
    "}\n",
    "\n",
    "unique_values = []\n",
    "unique_student = {}\n",
    "\n",
    "for key, value in student.items():\n",
    "    \n",
    "    value_tuple = tuple((k, tuple(v)) for k, v in value.items())\n",
    "    \n",
    "    if value_tuple not in unique_values:\n",
    "        unique_values.append(value_tuple)\n",
    "        unique_student[key] = value\n",
    "\n",
    "print(unique_student)\n"
   ]
  },
  {
   "cell_type": "code",
   "execution_count": null,
   "metadata": {},
   "outputs": [],
   "source": [
    "2. Write a Python program to store a given nested dictionary in a json file.\n",
    "    Data:\n",
    "        Original dictionary:\n",
    "        d = {'students': [{'firstName': 'Boss', 'lastName': 'Roysden'}, \n",
    "                  {'firstName': 'Kumar', 'lastName': 'Friedland'}, \n",
    "                  {'firstName': 'Arul ', 'lastName': 'Wilkins'}], \n",
    "             'teachers': [{'firstName': 'Suresh', 'lastName': 'Calico'},\n",
    "                  {'firstName': 'Dinesh', 'lastName': 'Agtarap'}]}\n",
    "    Expected Output:  \n",
    "        Json file to dictionary:\n",
    "        {'students': [{'firstName': 'Boss', 'lastName': 'Roysden'}, {'firstName': 'Kumar', 'lastName': 'Friedland'}, \n",
    "        {'firstName': 'Arul ', 'lastName': 'Wilkins'}], 'teachers': [{'firstName': 'Suresh', 'lastName': 'Calico'}, \n",
    "        {'firstName': 'Dinesh', 'lastName': 'Agtarap'}]}\n",
    "        \n",
    "        \n",
    "        \n",
    "        "
   ]
  },
  {
   "cell_type": "code",
   "execution_count": 2,
   "metadata": {},
   "outputs": [
    {
     "name": "stdout",
     "output_type": "stream",
     "text": [
      "Json file to dictionary:\n",
      "{'students': [{'firstName': 'Boss', 'lastName': 'Roysden'}, {'firstName': 'Kumar', 'lastName': 'Friedland'}, {'firstName': 'Arul ', 'lastName': 'Wilkins'}], 'teachers': [{'firstName': 'Suresh', 'lastName': 'Calico'}, {'firstName': 'Dinesh', 'lastName': 'Agtarap'}]}\n"
     ]
    }
   ],
   "source": [
    "import json\n",
    "\n",
    "d = {\n",
    "    'students': [\n",
    "        {'firstName': 'Boss', 'lastName': 'Roysden'},\n",
    "        {'firstName': 'Kumar', 'lastName': 'Friedland'},\n",
    "        {'firstName': 'Arul ', 'lastName': 'Wilkins'}\n",
    "    ],\n",
    "    'teachers': [\n",
    "        {'firstName': 'Suresh', 'lastName': 'Calico'},\n",
    "        {'firstName': 'Dinesh', 'lastName': 'Agtarap'}\n",
    "    ]\n",
    "}\n",
    "\n",
    "\n",
    "with open('data.json', 'w') as json_file:\n",
    "    json.dump(d, json_file, indent=4)\n",
    "\n",
    "\n",
    "with open('data.json', 'r') as json_file:\n",
    "    data_from_json = json.load(json_file)\n",
    "\n",
    "print(\"Json file to dictionary:\")\n",
    "print(data_from_json)\n"
   ]
  },
  {
   "cell_type": "code",
   "execution_count": null,
   "metadata": {},
   "outputs": [],
   "source": [
    "3. Write a python program to iterate over all values in a nested dictionary using nested for loop.\n",
    "    Data:\n",
    "        D = {'id1': \n",
    "   {'name': ['Boss'], \n",
    "    'class': ['V'], \n",
    "    'subject_integration': ['english, math, science']\n",
    "   },\n",
    " 'id2': \n",
    "  {'name': ['Siva'], \n",
    "    'class': ['V'], \n",
    "    'subject_integration': ['english, math, science']\n",
    "   },\n",
    " 'id3': \n",
    "    {'name': ['Boss'], \n",
    "    'class': ['V'], \n",
    "    'subject_integration': ['english, math, science']\n",
    "   },\n",
    " 'id4': \n",
    "   {'name': ['Surya'], \n",
    "    'class': ['V'], \n",
    "    'subject_integration': ['english, math, science']\n",
    "   },\n",
    "}\n",
    "        Expected Output:\n",
    "            Employee ID: id1\n",
    "            name: ['Boss']\n",
    "            class: ['V']\n",
    "            subject_integration: ['english, math, science']\n",
    "\n",
    "            Employee ID: id2\n",
    "            name: ['Siva']\n",
    "            class: ['V']\n",
    "            subject_integration: ['english, math, science']\n",
    "\n",
    "            Employee ID: id3\n",
    "            name: ['Boss']\n",
    "            class: ['V']\n",
    "            subject_integration: ['english, math, science']\n",
    "\n",
    "            Employee ID: id4\n",
    "            name: ['Surya']\n",
    "            class: ['V']\n",
    "            subject_integration: ['english, math, science']\n",
    "                \n",
    "                \n",
    "                \n",
    "                "
   ]
  },
  {
   "cell_type": "code",
   "execution_count": 3,
   "metadata": {},
   "outputs": [
    {
     "name": "stdout",
     "output_type": "stream",
     "text": [
      "Processing student ID: id1\n",
      "  Key: name, Value: ['Boss']\n",
      "    List Item: Boss\n",
      "  Key: class, Value: ['V']\n",
      "    List Item: V\n",
      "  Key: subject_integration, Value: ['english, math, science']\n",
      "    List Item: english, math, science\n",
      "Processing student ID: id2\n",
      "  Key: name, Value: ['Siva']\n",
      "    List Item: Siva\n",
      "  Key: class, Value: ['V']\n",
      "    List Item: V\n",
      "  Key: subject_integration, Value: ['english, math, science']\n",
      "    List Item: english, math, science\n",
      "Processing student ID: id3\n",
      "  Key: name, Value: ['Boss']\n",
      "    List Item: Boss\n",
      "  Key: class, Value: ['V']\n",
      "    List Item: V\n",
      "  Key: subject_integration, Value: ['english, math, science']\n",
      "    List Item: english, math, science\n",
      "Processing student ID: id4\n",
      "  Key: name, Value: ['Surya']\n",
      "    List Item: Surya\n",
      "  Key: class, Value: ['V']\n",
      "    List Item: V\n",
      "  Key: subject_integration, Value: ['english, math, science']\n",
      "    List Item: english, math, science\n"
     ]
    }
   ],
   "source": [
    "D = {\n",
    "    'id1': {'name': ['Boss'], 'class': ['V'], 'subject_integration': ['english, math, science']},\n",
    "    'id2': {'name': ['Siva'], 'class': ['V'], 'subject_integration': ['english, math, science']},\n",
    "    'id3': {'name': ['Boss'], 'class': ['V'], 'subject_integration': ['english, math, science']},\n",
    "    'id4': {'name': ['Surya'], 'class': ['V'], 'subject_integration': ['english, math, science']},\n",
    "}\n",
    "\n",
    "\n",
    "for student_id, student_data in D.items():\n",
    "    print(f\"Processing student ID: {student_id}\")\n",
    "\n",
    "    \n",
    "    for key, value in student_data.items():\n",
    "        print(f\"  Key: {key}, Value: {value}\")\n",
    "\n",
    "        \n",
    "        if isinstance(value, list):\n",
    "            for item in value:\n",
    "                print(f\"    List Item: {item}\")"
   ]
  },
  {
   "cell_type": "code",
   "execution_count": null,
   "metadata": {},
   "outputs": [],
   "source": [
    "4. Write a Python program to sort a list of nested dictionaries.\n",
    "    Data:\n",
    "        D = [{'key': {'subkey': 1}}, {'key': {'subkey': 10}}, {'key': {'subkey': 5}}]\n",
    "    Expected Output:\n",
    "        [{'key': {'subkey': 10}}, {'key': {'subkey': 5}}, {'key': {'subkey': 1}}]\n",
    "        \n",
    "        \n",
    "        \n",
    "        "
   ]
  },
  {
   "cell_type": "code",
   "execution_count": 4,
   "metadata": {},
   "outputs": [
    {
     "name": "stdout",
     "output_type": "stream",
     "text": [
      "[{'key': {'subkey': 10}}, {'key': {'subkey': 5}}, {'key': {'subkey': 1}}]\n"
     ]
    }
   ],
   "source": [
    "D = [{'key': {'subkey': 1}}, {'key': {'subkey': 10}}, {'key': {'subkey': 5}}]\n",
    "\n",
    "\n",
    "sorted_list = sorted(D, key=lambda x: x['key']['subkey'], reverse=True)\n",
    "\n",
    "print(sorted_list)"
   ]
  },
  {
   "cell_type": "code",
   "execution_count": null,
   "metadata": {},
   "outputs": [],
   "source": [
    "5. Write a Python Program to convert a nested dictionary into a flattened dictionary.\n",
    "    Data:\n",
    "        D = {  'x' : 1, 'y' : { 'z': 3, 'd': 4}}\n",
    "    Expected Output:\n",
    "        {'x': 1, 'y': 2, 'z': 3, 'd': 4}\n",
    "        \n",
    "        \n",
    "        \n",
    "        "
   ]
  },
  {
   "cell_type": "code",
   "execution_count": 5,
   "metadata": {},
   "outputs": [
    {
     "name": "stdout",
     "output_type": "stream",
     "text": [
      "{'x': 1, 'y_z': 3, 'y_d': 4}\n"
     ]
    }
   ],
   "source": [
    "def flatten_dict(d, parent_key='', sep='_'):\n",
    "    items = {}\n",
    "    for k, v in d.items():\n",
    "        new_key = f\"{parent_key}{sep}{k}\" if parent_key else k\n",
    "        if isinstance(v, dict):\n",
    "            items.update(flatten_dict(v, new_key, sep=sep))\n",
    "        else:\n",
    "            items[new_key] = v\n",
    "    return items\n",
    "\n",
    "D = {'x': 1, 'y': {'z': 3, 'd': 4}}\n",
    "\n",
    "flattened = flatten_dict(D)\n",
    "print(flattened)\n"
   ]
  },
  {
   "cell_type": "code",
   "execution_count": null,
   "metadata": {},
   "outputs": [],
   "source": [
    "6. Write a Python Program to find the sum of values whose key is 'sharpness' in a given nested dictionary.\n",
    "    Data:\n",
    "        weapons = {'': None, 'sword': { 'steel': 1234, \n",
    "                                'sharpness': 344, \n",
    "                                'age': 24,}, \n",
    "                                  \n",
    "                     'arrow': {'steel': 1200, \n",
    "                               'sharpness': 305, \n",
    "                               'age': 12,}} \n",
    "    Expected Output:\n",
    "        649\n",
    "        \n",
    "        \n",
    "        \n",
    "                                 "
   ]
  },
  {
   "cell_type": "code",
   "execution_count": 6,
   "metadata": {},
   "outputs": [
    {
     "name": "stdout",
     "output_type": "stream",
     "text": [
      "649\n"
     ]
    }
   ],
   "source": [
    "weapons = {\n",
    "    '': None,\n",
    "    'sword': {'steel': 1234, 'sharpness': 344, 'age': 24},\n",
    "    'arrow': {'steel': 1200, 'sharpness': 305, 'age': 12}\n",
    "}\n",
    "\n",
    "total_sharpness = 0\n",
    "\n",
    "for weapon, attributes in weapons.items():\n",
    "    if isinstance(attributes, dict) and 'sharpness' in attributes:\n",
    "        total_sharpness += attributes['sharpness']\n",
    "\n",
    "print(total_sharpness)\n"
   ]
  },
  {
   "cell_type": "code",
   "execution_count": null,
   "metadata": {},
   "outputs": [],
   "source": [
    "7. Write a Python function to remove the values of a key 'CS' from the given Nested Dictionary Using isinstance().\n",
    "   Data:\n",
    "        The original dictionary : \n",
    "        {'gfg' : {'best' : 4, 'good' : 5}, 'is' : {'better' : 6, 'educational' : 4}, 'CS' : {'priceless' : 6}}\n",
    "    Expected Output:\n",
    "        Dictionary after removal : \n",
    "        {'gfg': {'best': 4, 'good': 5}, 'is': {'educational': 4}, 'CS': {}}\n",
    "        \n",
    "        \n",
    "        \n",
    "        "
   ]
  },
  {
   "cell_type": "code",
   "execution_count": 7,
   "metadata": {},
   "outputs": [
    {
     "name": "stdout",
     "output_type": "stream",
     "text": [
      "Dictionary after removal :\n",
      "{'gfg': {'best': 4, 'good': 5}, 'is': {'better': 6, 'educational': 4}, 'CS': {}}\n"
     ]
    }
   ],
   "source": [
    "def remove_CS_values(d):\n",
    "    for key, value in d.items():\n",
    "        if key == 'CS' and isinstance(value, dict):\n",
    "            d[key] = {}  # Clear the dictionary for key 'CS'\n",
    "        elif isinstance(value, dict):\n",
    "           \n",
    "            remove_CS_values(value)\n",
    "\n",
    "\n",
    "d = {\n",
    "    'gfg': {'best': 4, 'good': 5},\n",
    "    'is': {'better': 6, 'educational': 4},\n",
    "    'CS': {'priceless': 6}\n",
    "}\n",
    "\n",
    "remove_CS_values(d)\n",
    "print(\"Dictionary after removal :\")\n",
    "print(d)\n"
   ]
  },
  {
   "cell_type": "code",
   "execution_count": null,
   "metadata": {},
   "outputs": [],
   "source": [
    "''' 8. Write a Python Program to demonstrate working ofUnnest single Key Nested Dictionary List Using loop + items().\n",
    "    Data:\n",
    "        The original dictionary : \n",
    "        [{'gfg' : {'data' : 1}}, {'is' : {'data' : 5}}, {'best' : {'data' : 4}}]\n",
    "    Expected Output:\n",
    "        The constructed Dictionary list : \n",
    "        {'gfg': 1, 'is': 5, 'best': 4} '''\n",
    "        \n",
    "# didnt understand the question    \n",
    "        \n",
    "        "
   ]
  },
  {
   "cell_type": "code",
   "execution_count": 8,
   "metadata": {},
   "outputs": [
    {
     "name": "stdout",
     "output_type": "stream",
     "text": [
      "The constructed Dictionary list :\n",
      "{'gfg': 1, 'is': 5, 'best': 4}\n"
     ]
    }
   ],
   "source": [
    "original_list = [{'gfg': {'data': 1}}, {'is': {'data': 5}}, {'best': {'data': 4}}]\n",
    "\n",
    "constructed_dict = {}\n",
    "\n",
    "for nested_dict in original_list:\n",
    "    for key, value in nested_dict.items():\n",
    "        \n",
    "        constructed_dict[key] = value.get('data')\n",
    "\n",
    "print(\"The constructed Dictionary list :\")\n",
    "print(constructed_dict)\n"
   ]
  },
  {
   "cell_type": "code",
   "execution_count": null,
   "metadata": {},
   "outputs": [],
   "source": [
    "9. Write a Python Program to convert the given lists into a nested dictionary.\n",
    "    Data:\n",
    "        test_list1 = [\"Boss\", 'Siva', 'best'] \n",
    "        test_list2 = ['ratings', 'price', 'score'] \n",
    "        test_list3 = [5, 6, 7]\n",
    "    Expected Output:\n",
    "        The original list 1 is : ['Boss', 'Siva', 'best']\n",
    "        The original list 2 is : ['ratings', 'price', 'score']\n",
    "        The original list 3 is : [5, 6, 7]\n",
    "        The constructed dictionary : [{'Boss': {'ratings': 5}}, {'Siva': {'price': 6}}, {'best': {'score': 7}}]\n",
    "            \n",
    "            \n",
    "            \n",
    "            "
   ]
  },
  {
   "cell_type": "code",
   "execution_count": 9,
   "metadata": {},
   "outputs": [
    {
     "name": "stdout",
     "output_type": "stream",
     "text": [
      "The original list 1 is : ['Boss', 'Siva', 'best']\n",
      "The original list 2 is : ['ratings', 'price', 'score']\n",
      "The original list 3 is : [5, 6, 7]\n",
      "The constructed dictionary : [{'Boss': {'ratings': 5}}, {'Siva': {'price': 6}}, {'best': {'score': 7}}]\n"
     ]
    }
   ],
   "source": [
    "test_list1 = [\"Boss\", 'Siva', 'best']\n",
    "test_list2 = ['ratings', 'price', 'score']\n",
    "test_list3 = [5, 6, 7]\n",
    "\n",
    "print(\"The original list 1 is :\", test_list1)\n",
    "print(\"The original list 2 is :\", test_list2)\n",
    "print(\"The original list 3 is :\", test_list3)\n",
    "\n",
    "\n",
    "constructed_dict = [{test_list1[i]: {test_list2[i]: test_list3[i]}} for i in range(len(test_list1))]\n",
    "\n",
    "print(\"The constructed dictionary :\", constructed_dict)\n"
   ]
  },
  {
   "cell_type": "code",
   "execution_count": null,
   "metadata": {},
   "outputs": [],
   "source": [
    "''' 10. Write a Python Program to demonstrate working of Convert Nested dictionary to Mapped Tuple \n",
    "    Using list comprehension + generator expression.\n",
    "    Data:\n",
    "        {'gfg' : {'x' : 5, 'y' : 6}, 'is' : {'x' : 1, 'y' : 4}, 'best' : {'x' : 8, 'y' : 3}}\n",
    "    Expected Output:\n",
    "        The grouped dictionary : [('x', (5, 1, 8)), ('y', (6, 4, 3))] '''\n",
    "            \n",
    "            \n",
    "#didnt understand the question\n",
    "            "
   ]
  },
  {
   "cell_type": "code",
   "execution_count": 10,
   "metadata": {},
   "outputs": [
    {
     "name": "stdout",
     "output_type": "stream",
     "text": [
      "[('gfg', (5, 6)), ('is', (1, 4)), ('best', (8, 3))]\n"
     ]
    }
   ],
   "source": [
    "data = {'gfg': {'x': 5, 'y': 6}, 'is': {'x': 1, 'y': 4}, 'best': {'x': 8, 'y': 3}}\n",
    "\n",
    "result = [(key, (value['x'], value['y'])) for key, value in data.items()]\n",
    "\n",
    "print(result)"
   ]
  },
  {
   "cell_type": "code",
   "execution_count": null,
   "metadata": {},
   "outputs": [],
   "source": [
    "#Doubts #8 #10"
   ]
  }
 ],
 "metadata": {
  "kernelspec": {
   "display_name": "Python 3 (ipykernel)",
   "language": "python",
   "name": "python3"
  },
  "language_info": {
   "codemirror_mode": {
    "name": "ipython",
    "version": 3
   },
   "file_extension": ".py",
   "mimetype": "text/x-python",
   "name": "python",
   "nbconvert_exporter": "python",
   "pygments_lexer": "ipython3",
   "version": "3.12.7"
  }
 },
 "nbformat": 4,
 "nbformat_minor": 4
}

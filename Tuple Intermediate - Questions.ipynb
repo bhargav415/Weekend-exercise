{
 "cells": [
  {
   "cell_type": "code",
   "execution_count": 1,
   "metadata": {},
   "outputs": [],
   "source": [
    "1. Write a Python program to unzip a list of tuples into individual lists.\n",
    "    Data:\n",
    "        x = [(1,2), (3,4), (8,9)]\n",
    "    Expected Output:\n",
    "        [(1, 3, 8), (2, 4, 9)]\n",
    "        \n",
    "        "
   ]
  },
  {
   "cell_type": "code",
   "execution_count": 1,
   "metadata": {},
   "outputs": [
    {
     "name": "stdout",
     "output_type": "stream",
     "text": [
      "[(1, 3, 8), (2, 4, 9)]\n"
     ]
    }
   ],
   "source": [
    "x = [(1,2), (3,4), (8,9)]\n",
    "unzipped_list = list(zip(*x))\n",
    "print(unzipped_list)"
   ]
  },
  {
   "cell_type": "code",
   "execution_count": 2,
   "metadata": {},
   "outputs": [],
   "source": [
    "2. Write a Python program to print a tuple with string formatting.\n",
    "    Data:\n",
    "        x = (10, 20, 30)\n",
    "    Expected Output:\n",
    "        This is a tuple (10, 20, 30)\n",
    "        \n",
    "        "
   ]
  },
  {
   "cell_type": "code",
   "execution_count": 2,
   "metadata": {},
   "outputs": [
    {
     "name": "stdout",
     "output_type": "stream",
     "text": [
      "This is a tuple (10, 20, 30)\n"
     ]
    }
   ],
   "source": [
    "x = (10, 20, 30)\n",
    "print(f\"This is a tuple {x}\")"
   ]
  },
  {
   "cell_type": "code",
   "execution_count": 3,
   "metadata": {},
   "outputs": [],
   "source": [
    "3. Write a Python program to replace last values of tuples in a list.\n",
    "    Data:\n",
    "        x= [(80, 60, 40), (40, 90, 60), (20, 40, 90)]\n",
    "    Expected Output:\n",
    "        [(80, 60, 100), (40, 90, 100), (20, 40, 100)]\n",
    "        \n",
    "        "
   ]
  },
  {
   "cell_type": "code",
   "execution_count": 3,
   "metadata": {},
   "outputs": [
    {
     "name": "stdout",
     "output_type": "stream",
     "text": [
      "[(80, 60, 100), (40, 90, 100), (20, 40, 100)]\n"
     ]
    }
   ],
   "source": [
    "l = [(80, 60, 40), (40, 90, 60), (20, 40, 90)]\n",
    "print([t[:-1] + (100,) for t in l]) "
   ]
  },
  {
   "cell_type": "code",
   "execution_count": 4,
   "metadata": {},
   "outputs": [],
   "source": [
    "4. Write a Python program to remove an empty tuple(s) from a list of tuples.\n",
    "    Data:\n",
    "        X = [(), (), ('',), ('a', 'b'), ('c', 'd', 'e'), ('f')] \n",
    "    Expected Output:\n",
    "        [('',), ('a', 'b'), ('c', 'd', 'e'), 'f']        \n",
    "        \n",
    "        "
   ]
  },
  {
   "cell_type": "code",
   "execution_count": 4,
   "metadata": {},
   "outputs": [
    {
     "name": "stdout",
     "output_type": "stream",
     "text": [
      "[('',), ('a', 'b'), ('a', 'b', 'c'), 'd']\n"
     ]
    }
   ],
   "source": [
    "x = [(), (), ('',), ('a', 'b'), ('a', 'b', 'c'), ('d')]\n",
    "x = [t for t in x if t]\n",
    "print(x) "
   ]
  },
  {
   "cell_type": "code",
   "execution_count": 5,
   "metadata": {},
   "outputs": [],
   "source": [
    "5. Write a Python program to sort a tuple by its element specified in float.\n",
    "    Data:\n",
    "        x = [('item1', '29.20'), ('item2', '49.10'), ('item3', '33.5')]\n",
    "    Expected Output:\n",
    "        [('item2', '49.10'), ('item3', '33.5'), ('item1', '29.20')]\n",
    "        \n",
    "        "
   ]
  },
  {
   "cell_type": "code",
   "execution_count": 11,
   "metadata": {},
   "outputs": [
    {
     "name": "stdout",
     "output_type": "stream",
     "text": [
      "[('item2', '49.10'), ('item3', '33.5'), ('item1', '29.20')]\n"
     ]
    }
   ],
   "source": [
    "x = [('item1', '29.20'), ('item2', '49.10'), ('item3', '33.5')]\n",
    "sorted_price = sorted(x, key=lambda x: float(x[1]), reverse=True)\n",
    "print(sorted_price)"
   ]
  },
  {
   "cell_type": "code",
   "execution_count": 2,
   "metadata": {},
   "outputs": [],
   "source": [
    "6. Write a Python program to count the elements in a list until an element is a tuple.\n",
    "    Data:\n",
    "        x = [10,20,30,(10,20),40]\n",
    "        y = 0\n",
    "    Expected Output:\n",
    "        3\n",
    "        \n",
    "        "
   ]
  },
  {
   "cell_type": "code",
   "execution_count": 12,
   "metadata": {},
   "outputs": [
    {
     "name": "stdout",
     "output_type": "stream",
     "text": [
      "3\n"
     ]
    }
   ],
   "source": [
    "num = [10, 20, 30, (10, 20), 40]\n",
    "ctr = 0\n",
    "for n in num:\n",
    "    if isinstance(n, tuple):\n",
    "        break\n",
    "    ctr += 1\n",
    "print(ctr) "
   ]
  },
  {
   "cell_type": "code",
   "execution_count": 3,
   "metadata": {},
   "outputs": [],
   "source": [
    "7. Write a Python program to Sort a tuple of tuples by 2nd item.\n",
    "    Data:\n",
    "        x = (('a', 23),('b', 37),('c', 11), ('d',29))\n",
    "    Expected Output:\n",
    "        (('c', 11), ('a', 23), ('d', 29), ('b', 37))\n",
    "        \n",
    "        "
   ]
  },
  {
   "cell_type": "code",
   "execution_count": 13,
   "metadata": {},
   "outputs": [
    {
     "name": "stdout",
     "output_type": "stream",
     "text": [
      "(('c', 11), ('a', 23), ('d', 29), ('b', 37))\n"
     ]
    }
   ],
   "source": [
    "x = (('a', 23), ('b', 37), ('c', 11), ('d', 29))\n",
    "sorted_x = tuple(sorted(x, key=lambda item: item[1]))\n",
    "\n",
    "print(sorted_x)"
   ]
  },
  {
   "cell_type": "code",
   "execution_count": 4,
   "metadata": {},
   "outputs": [],
   "source": [
    "8. Write a Python program to Check whether all items in a tuple are the same.\n",
    "    Data:\n",
    "        y = (45, 45, 45, 45)\n",
    "    Expected Output:\n",
    "        True\n",
    "        \n",
    "        "
   ]
  },
  {
   "cell_type": "code",
   "execution_count": 14,
   "metadata": {},
   "outputs": [
    {
     "name": "stdout",
     "output_type": "stream",
     "text": [
      "True\n",
      "False\n",
      "True\n"
     ]
    }
   ],
   "source": [
    "def are_all_items_same(input_tuple):\n",
    "  if not input_tuple: \n",
    "    return True\n",
    "  return len(set(input_tuple)) == 1\n",
    "y = (45, 45, 45, 45)\n",
    "result = are_all_items_same(y)\n",
    "print(result)\n",
    "z = (1, 2, 3, 4)\n",
    "print(are_all_items_same(z))\n",
    "empty_tuple = ()\n",
    "print(are_all_items_same(empty_tuple))"
   ]
  },
  {
   "cell_type": "code",
   "execution_count": 5,
   "metadata": {},
   "outputs": [],
   "source": [
    "9. Write a Python program to calculate the area of a circle by sending the value of radius in a tuple.\n",
    "    Data:\n",
    "        a = (5)\n",
    "    Expected Output:\n",
    "        78.57142857142857\n",
    "        \n",
    "        "
   ]
  },
  {
   "cell_type": "code",
   "execution_count": 15,
   "metadata": {},
   "outputs": [
    {
     "name": "stdin",
     "output_type": "stream",
     "text": [
      "Input the radius of the circle :  5\n"
     ]
    },
    {
     "name": "stdout",
     "output_type": "stream",
     "text": [
      "The area of the circle with radius 5.0 is: 78.53981633974483\n"
     ]
    }
   ],
   "source": [
    "from math import pi\n",
    "r = float(input(\"Input the radius of the circle : \"))\n",
    "area = pi * r ** 2\n",
    "print(\"The area of the circle with radius \" + str(r) + \" is: \" + str(area))"
   ]
  },
  {
   "cell_type": "code",
   "execution_count": 6,
   "metadata": {},
   "outputs": [],
   "source": [
    "10. Write a Python program to calculate the circumference of a circle by sending the value of radius in a tuple.\n",
    "    Data:\n",
    "        a = (2)\n",
    "    Expected Output:\n",
    "        12.571428571428571        \n",
    "        \n",
    "        "
   ]
  },
  {
   "cell_type": "code",
   "execution_count": 16,
   "metadata": {},
   "outputs": [
    {
     "name": "stdout",
     "output_type": "stream",
     "text": [
      "12.566370614359172\n"
     ]
    }
   ],
   "source": [
    "import math\n",
    "a = (2,)\n",
    "radius = a[0]\n",
    "circumference = 2 * math.pi * radius\n",
    "\n",
    "print(circumference)\n"
   ]
  },
  {
   "cell_type": "code",
   "execution_count": 7,
   "metadata": {},
   "outputs": [],
   "source": [
    "11. Write a Python program to calculate the perimeter of a square by sending the value of side in a tuple.\n",
    "    Data:\n",
    "        a = (3)\n",
    "    Expected Output:\n",
    "        12\n",
    "        \n",
    "        "
   ]
  },
  {
   "cell_type": "code",
   "execution_count": 17,
   "metadata": {},
   "outputs": [
    {
     "name": "stdout",
     "output_type": "stream",
     "text": [
      "12\n"
     ]
    }
   ],
   "source": [
    "a = (3,)          \n",
    "side = a[0]       \n",
    "perimeter = 4 * side\n",
    "print(perimeter)  \n"
   ]
  },
  {
   "cell_type": "code",
   "execution_count": 8,
   "metadata": {},
   "outputs": [],
   "source": [
    "12. Write a Python program to calculate the area of a traingle by sending the value of height and base in a tuple.\n",
    "    Data:\n",
    "        h = (23)\n",
    "        b = (34)\n",
    "    Expected Output:\n",
    "        391.0\n",
    "        \n",
    "        "
   ]
  },
  {
   "cell_type": "code",
   "execution_count": 18,
   "metadata": {},
   "outputs": [
    {
     "name": "stdin",
     "output_type": "stream",
     "text": [
      "Input the base :  23\n",
      "Input the height :  34\n"
     ]
    },
    {
     "name": "stdout",
     "output_type": "stream",
     "text": [
      "area =  391.0\n"
     ]
    }
   ],
   "source": [
    "b = int(input(\"Input the base : \"))\n",
    "h = int(input(\"Input the height : \"))\n",
    "area = b * h / 2\n",
    "print(\"area = \", area)\n"
   ]
  },
  {
   "cell_type": "code",
   "execution_count": 9,
   "metadata": {},
   "outputs": [],
   "source": [
    "13. Write a Python program to create a tuple with elements of different data types.\n",
    "    Expected Output:\n",
    "        ()\n",
    "        (1, 2, 3)\n",
    "        (1, 'Hello', 3.4)\n",
    "        ('HI', [8, 4, 6], (1, 2, 3))\n",
    "        \n",
    "        "
   ]
  },
  {
   "cell_type": "code",
   "execution_count": 19,
   "metadata": {},
   "outputs": [
    {
     "name": "stdout",
     "output_type": "stream",
     "text": [
      "()\n",
      "(1, 2, 3)\n",
      "(1, 'Hello', 3.4)\n",
      "('HI', [8, 4, 6], (1, 2, 3))\n"
     ]
    }
   ],
   "source": [
    "my_tuple_empty = ()\n",
    "print(my_tuple_empty)\n",
    "my_tuple_int = (1, 2, 3)\n",
    "print(my_tuple_int)\n",
    "my_tuple_mixed = (1, \"Hello\", 3.4)\n",
    "print(my_tuple_mixed)\n",
    "my_tuple_nested = (\"HI\", [8, 4, 6], (1, 2, 3))\n",
    "print(my_tuple_nested)"
   ]
  },
  {
   "cell_type": "code",
   "execution_count": 10,
   "metadata": {},
   "outputs": [],
   "source": [
    "14. Write a Python program to unpack a tuple in several variables.\n",
    "    Data:\n",
    "        x = 3, 4.6, \"dog\"\n",
    "    Expected Output:\n",
    "        (3, 4.6, 'dog')\n",
    "        3\n",
    "        4.6\n",
    "        dog\n",
    "        \n",
    "        "
   ]
  },
  {
   "cell_type": "code",
   "execution_count": 20,
   "metadata": {},
   "outputs": [
    {
     "name": "stdout",
     "output_type": "stream",
     "text": [
      "(3, 4.6, 'dog')\n",
      "3\n",
      "4.6\n",
      "dog\n"
     ]
    }
   ],
   "source": [
    "x = 3, 4.6, \"dog\"\n",
    "\n",
    "\n",
    "print(x)\n",
    "\n",
    "\n",
    "a, b, c = x\n",
    "\n",
    "\n",
    "print(a)\n",
    "print(b)\n",
    "print(c)"
   ]
  },
  {
   "cell_type": "code",
   "execution_count": 1,
   "metadata": {},
   "outputs": [],
   "source": [
    "15. Write a Python program to update the value \"6\" to \"9\" which is present in a tuple using index. \n",
    "    Data:\n",
    "        x = (4, 2, 3, [6, 5])\n",
    "    Expected Output:\n",
    "        (4, 2, 3, [9, 5])\n",
    "        \n",
    "        "
   ]
  },
  {
   "cell_type": "code",
   "execution_count": 2,
   "metadata": {},
   "outputs": [],
   "source": [
    "16. Write a Python program to check whether an element is present in a given tuple using the keyword in. Print the elements of a tuple one by one.\n",
    "    Data:\n",
    "        x = (\"Bihar\", \"Odisha\", \"Assam\") \n",
    "    Expected Output:\n",
    "        yes Bihar is present in the given tuple\n",
    "\n",
    "        Bihar\n",
    "        Odisha\n",
    "        Assam\n",
    "        \n",
    "        "
   ]
  },
  {
   "cell_type": "code",
   "execution_count": 21,
   "metadata": {},
   "outputs": [
    {
     "name": "stdout",
     "output_type": "stream",
     "text": [
      "yes Bihar is present in the given tuple\n",
      "\n",
      "Bihar\n",
      "Odisha\n",
      "Assam\n"
     ]
    }
   ],
   "source": [
    "\n",
    "x = (\"Bihar\", \"Odisha\", \"Assam\")\n",
    "\n",
    "element = \"Bihar\"\n",
    "\n",
    "if element in x:\n",
    "    print(f\"yes {element} is present in the given tuple\\n\")\n",
    "else:\n",
    "    print(f\"{element} is not present in the given tuple\\n\")\n",
    "\n",
    "for item in x:\n",
    "    print(item)\n"
   ]
  },
  {
   "cell_type": "code",
   "execution_count": 3,
   "metadata": {},
   "outputs": [],
   "source": [
    "17. Write a Python program to check whether an element is not present in a given tuple using the keyword not in. Print the elements of a tuple one by one.\n",
    "    Data:\n",
    "        x = (\"Bihar\", \"Odisha\", \"Assam\")\n",
    "    Expected Output:\n",
    "        False\n",
    "        True        \n",
    "        \n",
    "        "
   ]
  },
  {
   "cell_type": "code",
   "execution_count": 22,
   "metadata": {},
   "outputs": [
    {
     "name": "stdout",
     "output_type": "stream",
     "text": [
      "False\n",
      "True\n",
      "Bihar\n",
      "Odisha\n",
      "Assam\n"
     ]
    }
   ],
   "source": [
    "x = (\"Bihar\", \"Odisha\", \"Assam\")\n",
    "\n",
    "print(\"Bihar\" not in x)\n",
    "\n",
    "\n",
    "print(\"Punjab\" not in x)\n",
    "\n",
    "\n",
    "for element in x:\n",
    "    print(element)\n"
   ]
  },
  {
   "cell_type": "code",
   "execution_count": 4,
   "metadata": {},
   "outputs": [],
   "source": [
    "''' 18. Write a Python program to print the following output from given tuple (5 > 3 and 5 < 10 )and (5 > 3 or 5 > 10) is True or False.\n",
    "    Expected Output:\n",
    "        Both statements are True\n",
    "        any one statements are True '''\n",
    "\n",
    "#Doubt:- There is no tuple here. Question not understood.       \n",
    "        "
   ]
  },
  {
   "cell_type": "code",
   "execution_count": 23,
   "metadata": {},
   "outputs": [
    {
     "name": "stdout",
     "output_type": "stream",
     "text": [
      "Both statements are True\n",
      "Any one statement is True\n"
     ]
    }
   ],
   "source": [
    "tuple_expression = (5 > 3 and 5 < 10, 5 > 3 or 5 > 10)\n",
    "\n",
    "both_true = tuple_expression[0]\n",
    "any_true = tuple_expression[1]\n",
    "\n",
    "print(f\"Both statements are {both_true}\")\n",
    "print(f\"Any one statement is {any_true}\")"
   ]
  },
  {
   "cell_type": "code",
   "execution_count": 5,
   "metadata": {},
   "outputs": [],
   "source": [
    "19. Write a Python program to print an element from a given tuple using index and negative index.\n",
    "    Data:\n",
    "        x = (\"boss\", \"bala\", \"suresh\")\n",
    "    Expected Output:\n",
    "        bala\n",
    "        suresh\n",
    "        \n",
    "        "
   ]
  },
  {
   "cell_type": "code",
   "execution_count": 24,
   "metadata": {},
   "outputs": [
    {
     "name": "stdout",
     "output_type": "stream",
     "text": [
      "bala\n",
      "suresh\n"
     ]
    }
   ],
   "source": [
    "x = (\"boss\", \"bala\", \"suresh\")\n",
    "\n",
    "# Using positive index to print \"bala\"\n",
    "print(x[1])\n",
    "\n",
    "# Using negative index to print \"suresh\"\n",
    "print(x[-1])"
   ]
  },
  {
   "cell_type": "code",
   "execution_count": null,
   "metadata": {},
   "outputs": [],
   "source": [
    "20. Write a Python program to print the elements of a given tuple using range of indices and range of negative indices.\n",
    "    Data:\n",
    "        x = (\"Magnum\", \"Pistah\", \"Strawberry\", \"Vennila\", \"Chocobar\", \"Blackberry\", \"Salad\")\n",
    "    Range of Indexes,Range of Negative Indexes.\n",
    "    Expected Output:\n",
    "        ('Strawberry', 'Vennila', 'Chocobar', 'Blackberry', 'Salad')\n",
    "        ('Vennila', 'Chocobar', 'Blackberry')        \n",
    "        \n",
    "        "
   ]
  },
  {
   "cell_type": "code",
   "execution_count": 25,
   "metadata": {},
   "outputs": [
    {
     "name": "stdout",
     "output_type": "stream",
     "text": [
      "('Strawberry', 'Vennila', 'Chocobar', 'Blackberry', 'Salad')\n",
      "('Strawberry', 'Vennila', 'Chocobar')\n"
     ]
    }
   ],
   "source": [
    "x = (\"Magnum\", \"Pistah\", \"Strawberry\", \"Vennila\", \"Chocobar\", \"Blackberry\", \"Salad\")\n",
    "slice_positive = x[2:7]\n",
    "print(slice_positive)\n",
    "\n",
    "slice_negative = x[-5:-2] \n",
    "print(slice_negative)\n"
   ]
  },
  {
   "cell_type": "code",
   "execution_count": null,
   "metadata": {},
   "outputs": [],
   "source": [
    "#Doubt:- There is no tuple here. Question not understood.  #Question number 18"
   ]
  }
 ],
 "metadata": {
  "kernelspec": {
   "display_name": "Python 3 (ipykernel)",
   "language": "python",
   "name": "python3"
  },
  "language_info": {
   "codemirror_mode": {
    "name": "ipython",
    "version": 3
   },
   "file_extension": ".py",
   "mimetype": "text/x-python",
   "name": "python",
   "nbconvert_exporter": "python",
   "pygments_lexer": "ipython3",
   "version": "3.12.7"
  }
 },
 "nbformat": 4,
 "nbformat_minor": 4
}

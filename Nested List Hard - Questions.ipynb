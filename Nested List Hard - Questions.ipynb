{
 "cells": [
  {
   "cell_type": "markdown",
   "metadata": {},
   "source": [
    "# Nested List Hard Questions"
   ]
  },
  {
   "cell_type": "code",
   "execution_count": null,
   "metadata": {},
   "outputs": [],
   "source": [
    "1. Write a Python program to flatten a given nested list.\n",
    "    Data:\n",
    "        [0, 10, [20, 30], 40, 50, [60, 70, 80], [90, 100, 110, 120]]\n",
    "    Expected Output:\n",
    "        [0, 10, 20, 30, 40, 50, 60, 70, 80, 90, 100, 110, 120]\n",
    "        \n",
    "        \n",
    "        \n",
    "        "
   ]
  },
  {
   "cell_type": "code",
   "execution_count": 1,
   "metadata": {},
   "outputs": [
    {
     "name": "stdout",
     "output_type": "stream",
     "text": [
      "[0, 10, 20, 30, 40, 50, 60, 70, 80, 90, 100, 110, 120]\n"
     ]
    }
   ],
   "source": [
    "def flatten_list_recursive(nested_list):\n",
    "    flattened = []\n",
    "    for item in nested_list:\n",
    "        if isinstance(item, list):\n",
    "            flattened.extend(flatten_list_recursive(item))\n",
    "        else:\n",
    "            flattened.append(item)\n",
    "    return flattened\n",
    "\n",
    "data = [0, 10, [20, 30], 40, 50, [60, 70, 80], [90, 100, 110, 120]]\n",
    "flattened_data = flatten_list_recursive(data)\n",
    "print(flattened_data)"
   ]
  },
  {
   "cell_type": "code",
   "execution_count": null,
   "metadata": {},
   "outputs": [],
   "source": [
    "2. Write a Python program to pack consecutive duplicates of a given list elements into sublists. \n",
    "    Data:\n",
    "        Original list:\n",
    "        [0, 0, 1, 2, 3, 4, 4, 5, 6, 6, 6, 7, 8, 9, 4, 4]\n",
    "    Expected Output:\n",
    "        After packing consecutive duplicates of the said list elements into sublists:\n",
    "        [[0, 0], [1], [2], [3], [4, 4], [5], [6, 6, 6], [7], [8], [9], [4, 4]]\n",
    "        \n",
    "        \n",
    "        \n",
    "        "
   ]
  },
  {
   "cell_type": "code",
   "execution_count": 2,
   "metadata": {},
   "outputs": [
    {
     "name": "stdout",
     "output_type": "stream",
     "text": [
      "Original list:\n",
      "[0, 0, 1, 2, 3, 4, 4, 5, 6, 6, 6, 7, 8, 9, 4, 4]\n",
      "\n",
      "After removing consecutive duplicates:\n",
      "[0, 1, 2, 3, 4, 5, 6, 7, 8, 9, 4]\n"
     ]
    }
   ],
   "source": [
    "\n",
    "from itertools import groupby\n",
    "\n",
    "\n",
    "def compress(l_nums):\n",
    "   \n",
    "    return [key for key, group in groupby(l_nums)] \n",
    "\n",
    "\n",
    "n_list = [0, 0, 1, 2, 3, 4, 4, 5, 6, 6, 6, 7, 8, 9, 4, 4]\n",
    "\n",
    "\n",
    "print(\"Original list:\") \n",
    "\n",
    "\n",
    "print(n_list)\n",
    "\n",
    "\n",
    "print(\"\\nAfter removing consecutive duplicates:\")\n",
    "\n",
    "\n",
    "print(compress(n_list))\n"
   ]
  },
  {
   "cell_type": "code",
   "execution_count": null,
   "metadata": {},
   "outputs": [],
   "source": [
    "3. Write a Python program to create a list reflecting the run-length encoding from a given list of integers or \n",
    "   a given list of characters.\n",
    "    Data:\n",
    "        [1, 1, 2, 3, 4, 4.3, 5, 1]\n",
    "        \"aidinasaur\"\n",
    "    Expected Output:\n",
    "        List reflecting the run-length encoding from the said list:\n",
    "        [[2, 1], [1, 2], [1, 3], [1, 4], [1, 4.3], [1, 5], [1, 1]]\n",
    "        List reflecting the run-length encoding from the said string:\n",
    "        [[1, 'a'], [1, 'i'], [1, 'd'], [1, 'i'], [1, 'n'], [1, 'a'], [1, 's'], [1, 'a'], [1, 'u'], [1, 'r']]\n",
    "        \n",
    "        \n",
    "        \n",
    "        "
   ]
  },
  {
   "cell_type": "code",
   "execution_count": 3,
   "metadata": {},
   "outputs": [
    {
     "name": "stdout",
     "output_type": "stream",
     "text": [
      "List reflecting the run-length encoding from the said list:\n",
      "[[2, 1], [1, 2], [1, 3], [1, 4], [1, 4.3], [1, 5], [1, 1]]\n",
      "List reflecting the run-length encoding from the said string:\n",
      "[[1, 'a'], [1, 'i'], [1, 'd'], [1, 'i'], [1, 'n'], [1, 'a'], [1, 's'], [1, 'a'], [1, 'u'], [1, 'r']]\n"
     ]
    }
   ],
   "source": [
    "def run_length_encoding(data):\n",
    "    # If the input is a string, convert it to a list of characters\n",
    "    if isinstance(data, str):\n",
    "        data = list(data)\n",
    " \n",
    "    if not data:\n",
    "        return []\n",
    " \n",
    "    result = []\n",
    "    prev = data[0]\n",
    "    count = 1\n",
    " \n",
    "    for item in data[1:]:\n",
    "        if item == prev:\n",
    "            count += 1\n",
    "        else:\n",
    "            result.append([count, prev])\n",
    "            prev = item\n",
    "            count = 1\n",
    "    # Append the last run\n",
    "    result.append([count, prev])\n",
    "    return result\n",
    " \n",
    "# Test cases\n",
    "data1 = [1, 1, 2, 3, 4, 4.3, 5, 1]\n",
    "data2 = \"aidinasaur\"\n",
    " \n",
    "print(\"List reflecting the run-length encoding from the said list:\")\n",
    "print(run_length_encoding(data1))\n",
    "print(\"List reflecting the run-length encoding from the said string:\")\n",
    "print(run_length_encoding(data2))"
   ]
  },
  {
   "cell_type": "code",
   "execution_count": null,
   "metadata": {},
   "outputs": [],
   "source": [
    "4. Write a Python program to create a list reflecting the modified run-length encoding from a given list of integers or \n",
    "   a given list of characters. \n",
    "    Data:\n",
    "        [1, 1, 2, 3, 4, 4, 5, 1]\n",
    "        \"aabcddddadnss\"\n",
    "    Expected Output:\n",
    "        List reflecting the modified run-length encoding from the said list:\n",
    "        [[2, 1], 2, 3, [2, 4], 5, 1]\n",
    "        List reflecting the modified run-length encoding from the said string:\n",
    "        [[2, 'a'], 'b', 'c', [4, 'd'], 'a', 'd', 'n', [2, 's']]\n",
    "        \n",
    "        \n",
    "        \n",
    "        "
   ]
  },
  {
   "cell_type": "code",
   "execution_count": 4,
   "metadata": {},
   "outputs": [
    {
     "name": "stdout",
     "output_type": "stream",
     "text": [
      "List reflecting the modified run-length encoding from the said list: [[2, 1], 2, 3, [2, 4], 5, 1]\n",
      "List reflecting the modified run-length encoding from the said string: [[2, 'a'], 'b', 'c', [4, 'd'], 'a', 'd', 'n', [2, 's']]\n"
     ]
    }
   ],
   "source": [
    "def modified_run_length_encoding(data):\n",
    "    if not data:\n",
    "        return []\n",
    "\n",
    "    encoded_list = []\n",
    "    count = 1\n",
    "    for i in range(1, len(data)):\n",
    "        if data[i] == data[i - 1]:\n",
    "            count += 1\n",
    "        else:\n",
    "            if count > 1:\n",
    "                encoded_list.append([count, data[i - 1]])\n",
    "            else:\n",
    "                encoded_list.append(data[i - 1])\n",
    "            count = 1\n",
    "    if count > 1:\n",
    "        encoded_list.append([count, data[-1]])\n",
    "    else:\n",
    "        encoded_list.append(data[-1])\n",
    "    return encoded_list\n",
    "\n",
    "\n",
    "data_int = [1, 1, 2, 3, 4, 4, 5, 1]\n",
    "encoded_int = modified_run_length_encoding(data_int)\n",
    "print(f\"List reflecting the modified run-length encoding from the said list: {encoded_int}\")\n",
    "\n",
    "\n",
    "data_char = \"aabcddddadnss\"\n",
    "encoded_char = modified_run_length_encoding(data_char)\n",
    "print(f\"List reflecting the modified run-length encoding from the said string: {encoded_char}\")"
   ]
  },
  {
   "cell_type": "code",
   "execution_count": null,
   "metadata": {},
   "outputs": [],
   "source": [
    "5. Write a Python program to decode a run-length encoding for a given list. \n",
    "    Data:\n",
    "        Original encoded list:\n",
    "        [[1, 2], 3, 4, [5, 6], 7, 8]\n",
    "    Expected Output:\n",
    "        Decode a run-length encoded said list:\n",
    "        [2, 3, 4, 6, 6, 6, 6, 6, 7, 8]\n",
    "        \n",
    "        \n",
    "        \n"
   ]
  },
  {
   "cell_type": "code",
   "execution_count": 5,
   "metadata": {},
   "outputs": [
    {
     "name": "stdout",
     "output_type": "stream",
     "text": [
      "Original encoded list: [[1, 2], 3, 4, [5, 6], 7, 8]\n",
      "Decoded list: [2, 3, 4, 6, 6, 6, 6, 6, 7, 8]\n"
     ]
    }
   ],
   "source": [
    "def decode_run_length_encoding(encoded_list):\n",
    "    decoded_sequence = []\n",
    "    for item in encoded_list:\n",
    "        if isinstance(item, list) and len(item) == 2:\n",
    "            count, value = item\n",
    "            decoded_sequence.extend([value] * count)\n",
    "        else:\n",
    "            decoded_sequence.append(item)\n",
    "    return decoded_sequence\n",
    "\n",
    "\n",
    "encoded_data = [[1, 2], 3, 4, [5, 6], 7, 8]\n",
    "\n",
    "\n",
    "decoded_data = decode_run_length_encoding(encoded_data)\n",
    "\n",
    "\n",
    "print(f\"Original encoded list: {encoded_data}\")\n",
    "print(f\"Decoded list: {decoded_data}\")"
   ]
  },
  {
   "cell_type": "code",
   "execution_count": null,
   "metadata": {},
   "outputs": [],
   "source": [
    "6. Write a Python program to split a given list into two parts where the length of the first part of the list is given. \n",
    "    Data:\n",
    "        Original list:[1, 1, 2, 3, 4, 4, 5, 1]\n",
    "    Expected Output:\n",
    "        Length of the first part of the list: 3\n",
    "        Splited the said list into two parts:\n",
    "        ([1, 1, 2], [3, 4, 4, 5, 1])\n",
    "        \n",
    "        \n",
    "        \n",
    "        "
   ]
  },
  {
   "cell_type": "code",
   "execution_count": 6,
   "metadata": {},
   "outputs": [
    {
     "name": "stdout",
     "output_type": "stream",
     "text": [
      "Original list: [1, 1, 2, 3, 4, 4, 5, 1]\n",
      "Length of the first part of the list: 3\n",
      "Splitted the said list into two parts: ([1, 1, 2], [3, 4, 4, 5, 1])\n"
     ]
    }
   ],
   "source": [
    "def split_list(data, length):\n",
    "    return data[:length], data[length:]\n",
    "\n",
    "original_list = [1, 1, 2, 3, 4, 4, 5, 1]\n",
    "length_of_first_part = 3\n",
    "\n",
    "first_part, second_part = split_list(original_list, length_of_first_part)\n",
    "\n",
    "print(\"Original list:\", original_list)\n",
    "print(\"Length of the first part of the list:\", length_of_first_part)\n",
    "print(\"Splitted the said list into two parts:\", (first_part, second_part))"
   ]
  },
  {
   "cell_type": "code",
   "execution_count": null,
   "metadata": {},
   "outputs": [],
   "source": [
    "7. Write a Python program to count number of lists in a given list of lists.\n",
    "    Data:\n",
    "        Original list:\n",
    "        [[1, 3], [5, 7], [9, 11], [13, 15, 17]]\n",
    "        [[2, 4], [[6, 8], [4, 5, 8]], [10, 12, 14]]\n",
    "    Expected Output:\n",
    "        Number of lists in said list of lists:\n",
    "        4\n",
    "        3\n",
    "        \n",
    "        \n",
    "        \n",
    "        "
   ]
  },
  {
   "cell_type": "code",
   "execution_count": 7,
   "metadata": {},
   "outputs": [
    {
     "name": "stdout",
     "output_type": "stream",
     "text": [
      "Original list:\n",
      "[[1, 3], [5, 7], [9, 11], [13, 15, 17]]\n",
      "Number of lists in said list of lists: 4\n",
      "\n",
      "Original list:\n",
      "[[2, 4], [[6, 8], [4, 5, 8]], [10, 12, 14]]\n",
      "Number of lists in said list of lists: 3\n"
     ]
    }
   ],
   "source": [
    "def count_lists_in_list_of_lists(data_list):\n",
    "    return len(data_list)\n",
    "\n",
    "\n",
    "list1 = [[1, 3], [5, 7], [9, 11], [13, 15, 17]]\n",
    "list2 = [[2, 4], [[6, 8], [4, 5, 8]], [10, 12, 14]]\n",
    "\n",
    "print(\"Original list:\")\n",
    "print(list1)\n",
    "print(\"Number of lists in said list of lists:\", count_lists_in_list_of_lists(list1))\n",
    "\n",
    "print(\"\\nOriginal list:\")\n",
    "print(list2)\n",
    "print(\"Number of lists in said list of lists:\", count_lists_in_list_of_lists(list2))"
   ]
  },
  {
   "cell_type": "code",
   "execution_count": null,
   "metadata": {},
   "outputs": [],
   "source": [
    "8. Write a Python program to find the list with maximum and minimum length.\n",
    "    Data:\n",
    "        Original list:\n",
    "        [[0], [1, 3], [5, 7], [9, 11], [13, 15, 17]]\n",
    "        [[0], [1, 3], [5, 7], [9, 11], [3, 5, 7]]\n",
    "        [[12], [1, 3], [1, 34, 5, 7], [9, 11], [3, 5, 7]]\n",
    "    Expected Output:\n",
    "        Original list:[[0], [1, 3], [5, 7], [9, 11], [13, 15, 17]]\n",
    "        List with maximum length of lists:\n",
    "        (3, [13, 15, 17])\n",
    "        List with minimum length of lists:\n",
    "        (1, [0])\n",
    "        Original list:[[0], [1, 3], [5, 7], [9, 11], [3, 5, 7]]\n",
    "        List with maximum length of lists:\n",
    "        (3, [3, 5, 7])\n",
    "        List with minimum length of lists:\n",
    "        (1, [0])\n",
    "        Original list:[[12], [1, 3], [1, 34, 5, 7], [9, 11], [3, 5, 7]]\n",
    "        List with maximum length of lists:\n",
    "        (4, [1, 34, 5, 7])\n",
    "        List with minimum length of lists:\n",
    "        (1, [12])\n",
    "        \n",
    "        \n",
    "        \n",
    "        "
   ]
  },
  {
   "cell_type": "code",
   "execution_count": 8,
   "metadata": {},
   "outputs": [
    {
     "name": "stdout",
     "output_type": "stream",
     "text": [
      "Original list 1: [[0], [1, 3], [5, 7], [9, 11], [13, 15, 17]]\n",
      "List with maximum length: [13, 15, 17]\n",
      "List with minimum length: [0]\n",
      "\n",
      "Original list 2: [[0], [1, 3], [5, 7], [9, 11], [3, 5, 7]]\n",
      "List with maximum length: [3, 5, 7]\n",
      "List with minimum length: [0]\n",
      "\n",
      "Original list 3: [[12], [1, 3], [1, 34, 5, 7], [9, 11], [3, 5, 7]]\n",
      "List with maximum length: [1, 34, 5, 7]\n",
      "List with minimum length: [12]\n",
      "\n"
     ]
    }
   ],
   "source": [
    "def find_max_min_length_lists(list_of_lists):\n",
    "    if not list_of_lists:\n",
    "        return None, None  # Handle empty input list\n",
    "\n",
    "    max_length_list = max(list_of_lists, key=len)\n",
    "    min_length_list = min(list_of_lists, key=len)\n",
    "    return max_length_list, min_length_list\n",
    "\n",
    "# Provided data\n",
    "data_sets = [\n",
    "    [[0], [1, 3], [5, 7], [9, 11], [13, 15, 17]],\n",
    "    [[0], [1, 3], [5, 7], [9, 11], [3, 5, 7]],\n",
    "    [[12], [1, 3], [1, 34, 5, 7], [9, 11], [3, 5, 7]]\n",
    "]\n",
    "\n",
    "for i, data in enumerate(data_sets):\n",
    "    print(f\"Original list {i+1}: {data}\")\n",
    "    max_list, min_list = find_max_min_length_lists(data)\n",
    "    print(f\"List with maximum length: {max_list}\")\n",
    "    print(f\"List with minimum length: {min_list}\\n\")"
   ]
  },
  {
   "cell_type": "code",
   "execution_count": null,
   "metadata": {},
   "outputs": [],
   "source": [
    "9. Write a Python program to count the number of sublists contain a particular element.\n",
    "    Data:\n",
    "        Original list:\n",
    "        [[1, 3], [5, 7], [1, 11], [1, 15, 7]]\n",
    "        [['A', 'B'], ['A', 'C'], ['A', 'D', 'E'], ['B', 'C', 'D']]\n",
    "    Expected Output:\n",
    "        Original list:[[1, 3], [5, 7], [1, 11], [1, 15, 7]]\n",
    "        Count 1 in the said list:\n",
    "        3\n",
    "        Count 7 in the said list:\n",
    "        2\n",
    "        Original list:[['A', 'B'], ['A', 'C'], ['A', 'D', 'E'], ['B', 'C', 'D']]\n",
    "        Count 'A' in the said list:\n",
    "        3\n",
    "        Count 'E' in the said list:\n",
    "        1\n",
    "        \n",
    "        \n",
    "        \n",
    "        "
   ]
  },
  {
   "cell_type": "code",
   "execution_count": 9,
   "metadata": {},
   "outputs": [
    {
     "name": "stdout",
     "output_type": "stream",
     "text": [
      "Original list: [[1, 3], [5, 7], [1, 11], [1, 15, 7]]\n",
      "Number of sublists containing 1: 3\n",
      "\n",
      "Original list: [['A', 'B'], ['A', 'C'], ['A', 'D', 'E'], ['B', 'C', 'D']]\n",
      "Number of sublists containing A: 3\n"
     ]
    }
   ],
   "source": [
    "def count_sublists_with_element(data, element):\n",
    "    count = 0\n",
    "    for sublist in data:\n",
    "        if element in sublist:\n",
    "            count += 1\n",
    "    return count\n",
    "\n",
    "\n",
    "original_list_1 = [[1, 3], [5, 7], [1, 11], [1, 15, 7]]\n",
    "original_list_2 = [['A', 'B'], ['A', 'C'], ['A', 'D', 'E'], ['B', 'C', 'D']]\n",
    "\n",
    "element_to_find_1 = 1\n",
    "element_to_find_2 = 'A'\n",
    "\n",
    "count_1 = count_sublists_with_element(original_list_1, element_to_find_1)\n",
    "count_2 = count_sublists_with_element(original_list_2, element_to_find_2)\n",
    "\n",
    "print(f\"Original list: {original_list_1}\")\n",
    "print(f\"Number of sublists containing {element_to_find_1}: {count_1}\")\n",
    "\n",
    "print(f\"\\nOriginal list: {original_list_2}\")\n",
    "print(f\"Number of sublists containing {element_to_find_2}: {count_2}\")"
   ]
  },
  {
   "cell_type": "code",
   "execution_count": 10,
   "metadata": {},
   "outputs": [
    {
     "ename": "SyntaxError",
     "evalue": "invalid syntax (985379025.py, line 1)",
     "output_type": "error",
     "traceback": [
      "\u001b[1;36m  Cell \u001b[1;32mIn[10], line 1\u001b[1;36m\u001b[0m\n\u001b[1;33m    10. Write a Python program to remove sublists from a given list of lists, which contains an element outside a given range.\u001b[0m\n\u001b[1;37m        ^\u001b[0m\n\u001b[1;31mSyntaxError\u001b[0m\u001b[1;31m:\u001b[0m invalid syntax\n"
     ]
    }
   ],
   "source": [
    "10. Write a Python program to remove sublists from a given list of lists, which contains an element outside a given range.\n",
    "    Data:\n",
    "        Original list:\n",
    "        [[2], [0], [1, 2, 3], [0, 1, 2, 3, 6, 7], [9, 11], [13, 14, 15, 17]]\n",
    "    Expected Output:\n",
    "        Original list:[[2], [0], [1, 2, 3], [0, 1, 2, 3, 6, 7], [9, 11], [13, 14, 15, 17]]\n",
    "        After removing sublists from a given list of lists, which contains an element outside the given range:\n",
    "        [[13, 14, 15, 17]]\n",
    "        \n",
    "        \n",
    "        \n",
    "        "
   ]
  },
  {
   "cell_type": "code",
   "execution_count": 11,
   "metadata": {},
   "outputs": [
    {
     "name": "stdout",
     "output_type": "stream",
     "text": [
      "Original list: [[2], [0], [1, 2, 3], [0, 1, 2, 3, 6, 7], [9, 11], [13, 14, 15, 17]]\n",
      "After removing sublists from a given list of lists, which contains an element outside the given range: [[13, 14, 15, 17]]\n"
     ]
    }
   ],
   "source": [
    "def remove_sublists_outside_range(data, min_val, max_val):\n",
    "    result = []\n",
    "    for sublist in data:\n",
    "        if all(min_val <= x <= max_val for x in sublist):\n",
    "            result.append(sublist)\n",
    "    return result\n",
    "\n",
    "original_list = [[2], [0], [1, 2, 3], [0, 1, 2, 3, 6, 7], [9, 11], [13, 14, 15, 17]]\n",
    "min_range = 13\n",
    "max_range = 17\n",
    "\n",
    "print(\"Original list:\", original_list)\n",
    "filtered_list = remove_sublists_outside_range(original_list, min_range, max_range)\n",
    "print(\"After removing sublists from a given list of lists, which contains an element outside the given range:\", filtered_list)"
   ]
  },
  {
   "cell_type": "code",
   "execution_count": null,
   "metadata": {},
   "outputs": [],
   "source": [
    "11. Write a Python program to remove a specified column from a given nested list.\n",
    "    Data:\n",
    "        Original Nested list:\n",
    "        [[1, 2, 3], [2, 4, 5], [1, 1, 1]]\n",
    "        [[1, 2, 3], [-2, 4, -5], [1, -1, 1]]\n",
    "    Expected Output:\n",
    "        Original Nested list:[[1, 2, 3], [2, 4, 5], [1, 1, 1]]\n",
    "        After removing 1st column:\n",
    "        [[2, 3], [4, 5], [1, 1]]\n",
    "        Original Nested list:[[1, 2, 3], [-2, 4, -5], [1, -1, 1]]\n",
    "        After removing 3rd column:\n",
    "        [[1, 2], [-2, 4], [1, -1]]\n",
    "        \n",
    "        \n",
    "        \n",
    "        "
   ]
  },
  {
   "cell_type": "code",
   "execution_count": 12,
   "metadata": {},
   "outputs": [
    {
     "name": "stdout",
     "output_type": "stream",
     "text": [
      "Original Nested list: [[1, 2, 3], [2, 4, 5], [1, 1, 1]]\n",
      "After removing 1st column:\n",
      "[[2, 3], [4, 5], [1, 1]]\n",
      "Original Nested list: [[1, 2, 3], [-2, 4, -5], [1, -1, 1]]\n",
      "After removing 3rd column:\n",
      "[[1, 2], [-2, 4], [1, -1]]\n"
     ]
    }
   ],
   "source": [
    "def remove_column(nested_list, col_index):\n",
    "    \n",
    "    return [row[:col_index] + row[col_index+1:] for row in nested_list]\n",
    " \n",
    "# Test data\n",
    "data1 = [[1, 2, 3], [2, 4, 5], [1, 1, 1]]\n",
    "data2 = [[1, 2, 3], [-2, 4, -5], [1, -1, 1]]\n",
    " \n",
    "# Remove 1st column (index 0)\n",
    "print(\"Original Nested list:\", data1)\n",
    "print(\"After removing 1st column:\")\n",
    "print(remove_column(data1, 0))\n",
    " \n",
    "# Remove 3rd column (index 2)\n",
    "print(\"Original Nested list:\", data2)\n",
    "print(\"After removing 3rd column:\")\n",
    "print(remove_column(data2, 2))"
   ]
  },
  {
   "cell_type": "code",
   "execution_count": null,
   "metadata": {},
   "outputs": [],
   "source": []
  }
 ],
 "metadata": {
  "kernelspec": {
   "display_name": "Python 3 (ipykernel)",
   "language": "python",
   "name": "python3"
  },
  "language_info": {
   "codemirror_mode": {
    "name": "ipython",
    "version": 3
   },
   "file_extension": ".py",
   "mimetype": "text/x-python",
   "name": "python",
   "nbconvert_exporter": "python",
   "pygments_lexer": "ipython3",
   "version": "3.12.7"
  }
 },
 "nbformat": 4,
 "nbformat_minor": 4
}

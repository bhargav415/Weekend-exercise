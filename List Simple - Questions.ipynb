{
 "cells": [
  {
   "cell_type": "markdown",
   "metadata": {},
   "source": [
    "## List Simple - Questions"
   ]
  },
  {
   "cell_type": "code",
   "execution_count": 1,
   "metadata": {},
   "outputs": [
    {
     "name": "stdout",
     "output_type": "stream",
     "text": [
      "The list is empty.\n",
      "The list is not empty.\n"
     ]
    }
   ],
   "source": [
    "# 1. Write a Python program to check whether the list is empty or not.\n",
    "\n",
    "def a(my_list):\n",
    "    if not my_list:\n",
    "        print(\"The list is empty.\")\n",
    "    else:\n",
    "        print(\"The list is not empty.\")\n",
    "\n",
    "list1 = []\n",
    "list2 = [1, 2, 3]\n",
    "\n",
    "a(list1)\n",
    "a(list2)"
   ]
  },
  {
   "cell_type": "code",
   "execution_count": null,
   "metadata": {},
   "outputs": [],
   "source": [
    "''' 2. Write a Python program to access the index of all the elements in a list.\n",
    "        Data:\n",
    "            x = [5, 15, 35, 8, 98]\n",
    "        Expected Output:\n",
    "            0 5\n",
    "            1 15\n",
    "            2 35\n",
    "            3 8\n",
    "            4 98 '''\n",
    "\n"
   ]
  },
  {
   "cell_type": "code",
   "execution_count": 2,
   "metadata": {},
   "outputs": [
    {
     "name": "stdout",
     "output_type": "stream",
     "text": [
      "0 5\n",
      "1 15\n",
      "2 35\n",
      "3 8\n",
      "4 98\n"
     ]
    }
   ],
   "source": [
    "nums = [5, 15, 35, 8, 98]\n",
    "for num_index, num_val in enumerate(nums):\n",
    "    print(num_index, num_val)\n"
   ]
  },
  {
   "cell_type": "code",
   "execution_count": null,
   "metadata": {},
   "outputs": [],
   "source": [
    "''' 3. Write a Python program to convert a list of characters into a string.\n",
    "        Data:\n",
    "            x = ['a', 'b', 'c', 'd']\n",
    "        Expected Output:\n",
    "            abcd '''\n",
    "\n"
   ]
  },
  {
   "cell_type": "code",
   "execution_count": 3,
   "metadata": {},
   "outputs": [
    {
     "name": "stdout",
     "output_type": "stream",
     "text": [
      "abcd\n"
     ]
    }
   ],
   "source": [
    "x = ['a', 'b', 'c', 'd']\n",
    "result_string = \"\".join(x)\n",
    "print(result_string)"
   ]
  },
  {
   "cell_type": "code",
   "execution_count": null,
   "metadata": {},
   "outputs": [],
   "source": [
    "''' 4. Write a Python program to find the index of specified item in a list.\n",
    "        Data:\n",
    "            x = [10, 30, 4, -6]\n",
    "        Expected Output:\n",
    "            Index of 4 is 2 '''\n",
    "\n"
   ]
  },
  {
   "cell_type": "code",
   "execution_count": 4,
   "metadata": {},
   "outputs": [
    {
     "name": "stdout",
     "output_type": "stream",
     "text": [
      "Index of 4 is 2\n"
     ]
    }
   ],
   "source": [
    "x = [10, 30, 4, -6]\n",
    "item_to_find = 4\n",
    "index = x.index(item_to_find)\n",
    "print(f\"Index of {item_to_find} is {index}\")"
   ]
  },
  {
   "cell_type": "code",
   "execution_count": null,
   "metadata": {},
   "outputs": [],
   "source": [
    "''' 5. Write a Python program to print the sum of all the items in a list.\n",
    "    Data:\n",
    "        lt = [1, 2, -8]\n",
    "    Expected Output:\n",
    "        sum is -5 '''\n",
    "        \n"
   ]
  },
  {
   "cell_type": "code",
   "execution_count": 5,
   "metadata": {},
   "outputs": [
    {
     "name": "stdout",
     "output_type": "stream",
     "text": [
      "sum is -5\n"
     ]
    }
   ],
   "source": [
    "lt = [1, 2, -8]\n",
    "total_sum = sum(lt)\n",
    "print(f\"sum is {total_sum}\")"
   ]
  },
  {
   "cell_type": "code",
   "execution_count": null,
   "metadata": {},
   "outputs": [],
   "source": [
    "''' 6. Write a Python program to multiply all the items in a list.\n",
    "        Data:\n",
    "            [1, 2, -8]\n",
    "        Expected Output:\n",
    "            -16 '''\n",
    "        \n"
   ]
  },
  {
   "cell_type": "code",
   "execution_count": null,
   "metadata": {},
   "outputs": [],
   "source": [
    "''' 7. Write a Python program to get the largest number from a list.\n",
    "        Data:\n",
    "            [1, 2, -8, 0]\n",
    "        Expected Output:\n",
    "            2 '''\n",
    "\n"
   ]
  },
  {
   "cell_type": "code",
   "execution_count": 8,
   "metadata": {},
   "outputs": [
    {
     "name": "stdout",
     "output_type": "stream",
     "text": [
      "2\n"
     ]
    }
   ],
   "source": [
    "def multiply_list(items):\n",
    "\n",
    "    tot = 1\n",
    "\n",
    "    for x in items:\n",
    "\n",
    "        if x > 0:\n",
    "\n",
    "            tot *= x\n",
    "\n",
    "    return tot\n",
    " \n",
    "print(multiply_list([1, 2, -8, 0]))  \n",
    " \n"
   ]
  },
  {
   "cell_type": "code",
   "execution_count": null,
   "metadata": {},
   "outputs": [],
   "source": [
    "''' 8. Write a Python program to get the smallest number from a list. \n",
    "        Data:\n",
    "            [1, 2, -8, 0]\n",
    "        Expected Output:\n",
    "            -8 '''\n",
    "\n"
   ]
  },
  {
   "cell_type": "code",
   "execution_count": 9,
   "metadata": {},
   "outputs": [
    {
     "name": "stdout",
     "output_type": "stream",
     "text": [
      "-8\n"
     ]
    }
   ],
   "source": [
    "def find_smallest_number(data_list):\n",
    "    smallest_number = min(data_list)\n",
    "    return smallest_number\n",
    "data = [1, 2, -8, 0]\n",
    "result = find_smallest_number(data)\n",
    "print(result)"
   ]
  },
  {
   "cell_type": "code",
   "execution_count": null,
   "metadata": {},
   "outputs": [],
   "source": [
    "''' 9. Write a Python program to remove duplicate items from a list.\n",
    "        Data:\n",
    "            a = [10,20,30,20,10,50,60,40,80,50,40]\n",
    "        Expected Output:\n",
    "            [10, 20, 30, 50, 60, 40, 80] '''\n",
    "\n"
   ]
  },
  {
   "cell_type": "code",
   "execution_count": 10,
   "metadata": {},
   "outputs": [
    {
     "name": "stdout",
     "output_type": "stream",
     "text": [
      "{40, 10, 80, 50, 20, 60, 30}\n"
     ]
    }
   ],
   "source": [
    "a = [10, 20, 30, 20, 10, 50, 60, 40, 80, 50, 40]\n",
    "dup_items = set()\n",
    "uniq_items = []\n",
    "for x in a:\n",
    "    if x not in dup_items:\n",
    "        uniq_items.append(x)\n",
    "        dup_items.add(x)\n",
    "print(dup_items) \n"
   ]
  },
  {
   "cell_type": "code",
   "execution_count": null,
   "metadata": {},
   "outputs": [],
   "source": [
    "''' 10. Write a Python program to clone or copy a list.\n",
    "        Data:\n",
    "            x = [10, 22, 44, 23, 4]\n",
    "        Expected Output:\n",
    "            X - [10, 22, 44, 23, 4]\n",
    "            Y - [10, 22, 44, 23, 4] '''\n",
    "\n"
   ]
  },
  {
   "cell_type": "code",
   "execution_count": 11,
   "metadata": {},
   "outputs": [
    {
     "name": "stdout",
     "output_type": "stream",
     "text": [
      "X - [10, 22, 44, 23, 4]\n",
      "Y - [10, 22, 44, 23, 4]\n"
     ]
    }
   ],
   "source": [
    "x = [10, 22, 44, 23, 4]\n",
    "y = list(x)\n",
    "print(\"X -\", x)\n",
    "print(\"Y -\", y)"
   ]
  },
  {
   "cell_type": "code",
   "execution_count": null,
   "metadata": {},
   "outputs": [],
   "source": [
    "''' 11. Write a Python program to convert a tuple into a List.\n",
    "        Data:\n",
    "            x = (1,2,3,4,5)\n",
    "        Expected Output:\n",
    "            (1, 2, 3, 4, 5)\n",
    "            [1, 2, 3, 4, 5] '''\n",
    "\n"
   ]
  },
  {
   "cell_type": "code",
   "execution_count": 12,
   "metadata": {},
   "outputs": [
    {
     "name": "stdout",
     "output_type": "stream",
     "text": [
      "(1, 2, 3, 4, 5)\n",
      "[1, 2, 3, 4, 5]\n"
     ]
    }
   ],
   "source": [
    "x = (1, 2, 3, 4, 5)\n",
    "print(x)\n",
    "list_x = list(x)\n",
    "print(list_x)"
   ]
  },
  {
   "cell_type": "code",
   "execution_count": null,
   "metadata": {},
   "outputs": [],
   "source": [
    "''' 12. Write a Python program to print the numbers of a specified list after removing even numbers from it.\n",
    "        Data:\n",
    "            x = [7, 8, 120, 25, 44, 20, 27]\n",
    "        Expected Output:\n",
    "            [7, 25, 27] '''\n",
    "        \n"
   ]
  },
  {
   "cell_type": "code",
   "execution_count": 13,
   "metadata": {},
   "outputs": [
    {
     "name": "stdout",
     "output_type": "stream",
     "text": [
      "[7, 25, 27]\n"
     ]
    }
   ],
   "source": [
    "def remove_even_numbers(data):\n",
    "    odd_numbers = [num for num in data if num % 2 != 0]\n",
    "    return odd_numbers\n",
    "\n",
    "data = [7, 8, 120, 25, 44, 20, 27]\n",
    "result = remove_even_numbers(data)\n",
    "print(result)"
   ]
  },
  {
   "cell_type": "code",
   "execution_count": null,
   "metadata": {},
   "outputs": [],
   "source": [
    "''' 13. Write a Python program to shuffle and print a specified list. \n",
    "        Data:\n",
    "            x = ['Red', 'Green', 'White', 'Black', 'Pink', 'Yellow']\n",
    "        Expected Output:\n",
    "            ['Pink', 'Black', 'Red', 'Yellow', 'White', 'Green'] '''\n",
    "\n"
   ]
  },
  {
   "cell_type": "code",
   "execution_count": 14,
   "metadata": {},
   "outputs": [
    {
     "name": "stdout",
     "output_type": "stream",
     "text": [
      "['Red', 'Green', 'Yellow', 'Black', 'White', 'Pink']\n"
     ]
    }
   ],
   "source": [
    "from random import shuffle\n",
    "color = ['Red', 'Green', 'White', 'Black', 'Pink', 'Yellow']\n",
    "shuffle(color)\n",
    "print(color)\n"
   ]
  },
  {
   "cell_type": "code",
   "execution_count": null,
   "metadata": {},
   "outputs": [],
   "source": [
    "''' 14. Write a Python program to append the second list to the first list.\n",
    "        Data:\n",
    "            x = [1, 2, 3, 0]\n",
    "            y = ['Red', 'Green', 'Black']\n",
    "        Expected Output:\n",
    "            [1, 2, 3, 0, 'Red', 'Green', 'Black'] '''\n",
    "\n"
   ]
  },
  {
   "cell_type": "code",
   "execution_count": 15,
   "metadata": {},
   "outputs": [
    {
     "name": "stdout",
     "output_type": "stream",
     "text": [
      "[1, 2, 3, 0, 'Red', 'Green', 'Black']\n"
     ]
    }
   ],
   "source": [
    "x = [1, 2, 3, 0]\n",
    "y = ['Red', 'Green', 'Black']\n",
    "x.extend(y)\n",
    "print(x)"
   ]
  },
  {
   "cell_type": "code",
   "execution_count": null,
   "metadata": {},
   "outputs": [],
   "source": [
    "''' 15. Write a Python program to select an item randomly from a list.\n",
    "        Data:\n",
    "            x = ['Red', 'Blue', 'Green', 'White', 'Black']\n",
    "        Expected Output:\n",
    "            White '''\n",
    "\n"
   ]
  },
  {
   "cell_type": "code",
   "execution_count": 19,
   "metadata": {},
   "outputs": [
    {
     "name": "stdout",
     "output_type": "stream",
     "text": [
      "White\n"
     ]
    }
   ],
   "source": [
    "import random\n",
    "color_list = ['Red', 'Blue', 'Green', 'White', 'Black']\n",
    "print(random.choice(color_list))\n"
   ]
  },
  {
   "cell_type": "code",
   "execution_count": null,
   "metadata": {},
   "outputs": [],
   "source": [
    "''' 16. Write a Python program to get unique values from a list.\n",
    "        Data:\n",
    "            Original List :  [10, 20, 30, 40, 20, 50, 60, 40]\n",
    "        Expected Output:\n",
    "            List of unique numbers :  [40, 10, 50, 20, 60, 30] '''\n",
    "\n"
   ]
  },
  {
   "cell_type": "code",
   "execution_count": 20,
   "metadata": {},
   "outputs": [
    {
     "name": "stdout",
     "output_type": "stream",
     "text": [
      "Original List :  [10, 20, 30, 40, 20, 50, 60, 40]\n",
      "List of unique numbers :  [40, 10, 50, 20, 60, 30]\n"
     ]
    }
   ],
   "source": [
    "my_list = [10, 20, 30, 40, 20, 50, 60, 40]\n",
    "print(\"Original List : \", my_list)\n",
    "my_set = set(my_list)\n",
    "my_new_list = list(my_set)\n",
    "print(\"List of unique numbers : \", my_new_list)\n"
   ]
  },
  {
   "cell_type": "code",
   "execution_count": null,
   "metadata": {},
   "outputs": [],
   "source": [
    "''' 17. Write a Python program to get variable unique identification number or string.\n",
    "        Data:\n",
    "            var1 = 'Python'\n",
    "            var2 = 123\n",
    "        Expected Output:\n",
    "            186756869b0\n",
    "            7ffea3a83660 '''\n",
    "        \n"
   ]
  },
  {
   "cell_type": "code",
   "execution_count": 21,
   "metadata": {},
   "outputs": [
    {
     "name": "stdout",
     "output_type": "stream",
     "text": [
      "7ff9efed3270\n",
      "7ff9effb38f8\n"
     ]
    }
   ],
   "source": [
    "\n",
    "variables = ['Python', 123]\n",
    "for var in variables:\n",
    "    print(hex(id(var))[2:])"
   ]
  },
  {
   "cell_type": "code",
   "execution_count": null,
   "metadata": {},
   "outputs": [],
   "source": [
    "''' 18. Write a Python program to print common elements from two lists using set().\n",
    "        Data:\n",
    "            x = (\"Red\", \"Green\", \"Orange\", \"White\")\n",
    "            y = (\"Black\", \"Green\", \"White\", \"Pink\")\n",
    "        Expected Output:\n",
    "            {'White', 'Green'} '''\n",
    "\n"
   ]
  },
  {
   "cell_type": "code",
   "execution_count": 22,
   "metadata": {},
   "outputs": [
    {
     "name": "stdout",
     "output_type": "stream",
     "text": [
      "{'White', 'Green'}\n"
     ]
    }
   ],
   "source": [
    "x = (\"Red\", \"Green\", \"Orange\", \"White\")\n",
    "y = (\"Black\", \"Green\", \"White\", \"Pink\")\n",
    "\n",
    "set_x = set(x)\n",
    "set_y = set(y)\n",
    "\n",
    "common_elements = set_x.intersection(set_y)\n",
    "\n",
    "print(common_elements)"
   ]
  },
  {
   "cell_type": "code",
   "execution_count": null,
   "metadata": {},
   "outputs": [],
   "source": [
    "''' 19. Write a Python program to convert a list of multiple integers into a single integer.\n",
    "        Data:\n",
    "            x = [11, 22, 33]\n",
    "        Expected Output:\n",
    "            112233 '''\n",
    "\n"
   ]
  },
  {
   "cell_type": "code",
   "execution_count": 23,
   "metadata": {},
   "outputs": [
    {
     "name": "stdout",
     "output_type": "stream",
     "text": [
      "[112233]\n"
     ]
    }
   ],
   "source": [
    "def convert_lists_to_single_integers(list_of_lists):\n",
    "    result = []\n",
    "    for integer_list in list_of_lists:\n",
    "        string_list = [str(num) for num in integer_list]\n",
    "        concatenated_string = \"\".join(string_list)\n",
    "        single_integer = int(concatenated_string)\n",
    "        result.append(single_integer)\n",
    "    return result\n",
    "x = [11, 22, 33],\n",
    "\n",
    "output = convert_lists_to_single_integers(x)\n",
    "print(output)"
   ]
  },
  {
   "cell_type": "code",
   "execution_count": null,
   "metadata": {},
   "outputs": [],
   "source": [
    "''' 20. Write a Python program to create multiple lists.\n",
    "        Data:\n",
    "            x = {}\n",
    "        Expected Output:\n",
    "            {'1': [], '2': [], '3': [], '4': [], '5': [], '6': [], '7': [], '8': [], '9': []} '''\n",
    "        \n"
   ]
  },
  {
   "cell_type": "code",
   "execution_count": 24,
   "metadata": {},
   "outputs": [
    {
     "name": "stdout",
     "output_type": "stream",
     "text": [
      "{'1': [], '2': [], '3': [], '4': [], '5': [], '6': [], '7': [], '8': [], '9': []}\n"
     ]
    }
   ],
   "source": [
    "x = {}\n",
    "for i in range(1, 10):\n",
    "    x[str(i)] = []\n",
    "print(x)"
   ]
  },
  {
   "cell_type": "code",
   "execution_count": null,
   "metadata": {},
   "outputs": [],
   "source": []
  }
 ],
 "metadata": {
  "kernelspec": {
   "display_name": "Python 3 (ipykernel)",
   "language": "python",
   "name": "python3"
  },
  "language_info": {
   "codemirror_mode": {
    "name": "ipython",
    "version": 3
   },
   "file_extension": ".py",
   "mimetype": "text/x-python",
   "name": "python",
   "nbconvert_exporter": "python",
   "pygments_lexer": "ipython3",
   "version": "3.12.7"
  }
 },
 "nbformat": 4,
 "nbformat_minor": 4
}
